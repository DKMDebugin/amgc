{
 "cells": [
  {
   "cell_type": "code",
   "execution_count": null,
   "metadata": {},
   "outputs": [],
   "source": [
    "%lsmagic"
   ]
  },
  {
   "cell_type": "markdown",
   "metadata": {},
   "source": [
    "## Data Preparation"
   ]
  },
  {
   "cell_type": "code",
   "execution_count": 1,
   "metadata": {
    "scrolled": true
   },
   "outputs": [],
   "source": [
    "import os \n",
    "import sys\n",
    "\n",
    "from tensorflow.keras import layers, callbacks\n",
    "from sklearn.model_selection import RandomizedSearchCV, train_test_split\n",
    "import numpy\n",
    "import pandas\n",
    "from sklearn.pipeline import Pipeline\n",
    "from tensorflow.keras.wrappers.scikit_learn import KerasClassifier\n",
    "from keras.utils import to_categorical\n",
    "\n",
    "WORKING_DIR_PATH = globals()['_dh'][0]\n",
    "WORKING_DIR_PARENT_PATH = os.path.dirname(WORKING_DIR_PATH)\n",
    "sys.path.insert(1, WORKING_DIR_PARENT_PATH)\n",
    "from custom_module.utilities import *"
   ]
  },
  {
   "cell_type": "code",
   "execution_count": 2,
   "metadata": {},
   "outputs": [
    {
     "data": {
      "text/plain": [
       "'2.2.0'"
      ]
     },
     "execution_count": 2,
     "metadata": {},
     "output_type": "execute_result"
    }
   ],
   "source": [
    "tf.__version__"
   ]
  },
  {
   "cell_type": "code",
   "execution_count": 3,
   "metadata": {
    "scrolled": false
   },
   "outputs": [
    {
     "data": {
      "text/html": [
       "<div>\n",
       "<style scoped>\n",
       "    .dataframe tbody tr th:only-of-type {\n",
       "        vertical-align: middle;\n",
       "    }\n",
       "\n",
       "    .dataframe tbody tr th {\n",
       "        vertical-align: top;\n",
       "    }\n",
       "\n",
       "    .dataframe thead th {\n",
       "        text-align: right;\n",
       "    }\n",
       "</style>\n",
       "<table border=\"1\" class=\"dataframe\">\n",
       "  <thead>\n",
       "    <tr style=\"text-align: right;\">\n",
       "      <th></th>\n",
       "      <th>25th_percentile_db4_cA4</th>\n",
       "      <th>25th_percentile_db4_cD1</th>\n",
       "      <th>25th_percentile_db4_cD2</th>\n",
       "      <th>25th_percentile_db4_cD3</th>\n",
       "      <th>25th_percentile_db4_cD4</th>\n",
       "      <th>25th_percentile_db5_cA4</th>\n",
       "      <th>25th_percentile_db5_cD1</th>\n",
       "      <th>25th_percentile_db5_cD2</th>\n",
       "      <th>25th_percentile_db5_cD3</th>\n",
       "      <th>25th_percentile_db5_cD4</th>\n",
       "      <th>...</th>\n",
       "      <th>zcr_db5_cD3</th>\n",
       "      <th>zcr_db5_cD4</th>\n",
       "      <th>zcr_db8_cA7</th>\n",
       "      <th>zcr_db8_cD1</th>\n",
       "      <th>zcr_db8_cD2</th>\n",
       "      <th>zcr_db8_cD3</th>\n",
       "      <th>zcr_db8_cD4</th>\n",
       "      <th>zcr_db8_cD5</th>\n",
       "      <th>zcr_db8_cD6</th>\n",
       "      <th>zcr_db8_cD7</th>\n",
       "    </tr>\n",
       "  </thead>\n",
       "  <tbody>\n",
       "    <tr>\n",
       "      <th>0</th>\n",
       "      <td>-0.236240</td>\n",
       "      <td>-0.012063</td>\n",
       "      <td>-0.027807</td>\n",
       "      <td>-0.051443</td>\n",
       "      <td>-0.082820</td>\n",
       "      <td>-0.237137</td>\n",
       "      <td>-0.011746</td>\n",
       "      <td>-0.027222</td>\n",
       "      <td>-0.051066</td>\n",
       "      <td>-0.082349</td>\n",
       "      <td>...</td>\n",
       "      <td>48729.0</td>\n",
       "      <td>24515.0</td>\n",
       "      <td>1367.0</td>\n",
       "      <td>236539.0</td>\n",
       "      <td>100477.0</td>\n",
       "      <td>48721.0</td>\n",
       "      <td>24523.0</td>\n",
       "      <td>10601.0</td>\n",
       "      <td>5868.0</td>\n",
       "      <td>2136.0</td>\n",
       "    </tr>\n",
       "    <tr>\n",
       "      <th>1</th>\n",
       "      <td>-0.733787</td>\n",
       "      <td>-0.017003</td>\n",
       "      <td>-0.045150</td>\n",
       "      <td>-0.053358</td>\n",
       "      <td>-0.045559</td>\n",
       "      <td>-0.728479</td>\n",
       "      <td>-0.016115</td>\n",
       "      <td>-0.044458</td>\n",
       "      <td>-0.053728</td>\n",
       "      <td>-0.045010</td>\n",
       "      <td>...</td>\n",
       "      <td>40467.0</td>\n",
       "      <td>21751.0</td>\n",
       "      <td>4280.0</td>\n",
       "      <td>232788.0</td>\n",
       "      <td>104560.0</td>\n",
       "      <td>40835.0</td>\n",
       "      <td>21922.0</td>\n",
       "      <td>11688.0</td>\n",
       "      <td>5678.0</td>\n",
       "      <td>4187.0</td>\n",
       "    </tr>\n",
       "    <tr>\n",
       "      <th>2</th>\n",
       "      <td>-0.206548</td>\n",
       "      <td>-0.001990</td>\n",
       "      <td>-0.004977</td>\n",
       "      <td>-0.010344</td>\n",
       "      <td>-0.032882</td>\n",
       "      <td>-0.206663</td>\n",
       "      <td>-0.001933</td>\n",
       "      <td>-0.004869</td>\n",
       "      <td>-0.009837</td>\n",
       "      <td>-0.031671</td>\n",
       "      <td>...</td>\n",
       "      <td>51110.0</td>\n",
       "      <td>28460.0</td>\n",
       "      <td>3429.0</td>\n",
       "      <td>238953.0</td>\n",
       "      <td>98627.0</td>\n",
       "      <td>50426.0</td>\n",
       "      <td>28197.0</td>\n",
       "      <td>12380.0</td>\n",
       "      <td>5750.0</td>\n",
       "      <td>2853.0</td>\n",
       "    </tr>\n",
       "    <tr>\n",
       "      <th>3</th>\n",
       "      <td>-0.505051</td>\n",
       "      <td>-0.017088</td>\n",
       "      <td>-0.050502</td>\n",
       "      <td>-0.085439</td>\n",
       "      <td>-0.155965</td>\n",
       "      <td>-0.503971</td>\n",
       "      <td>-0.016430</td>\n",
       "      <td>-0.050478</td>\n",
       "      <td>-0.080363</td>\n",
       "      <td>-0.153229</td>\n",
       "      <td>...</td>\n",
       "      <td>46009.0</td>\n",
       "      <td>24784.0</td>\n",
       "      <td>4084.0</td>\n",
       "      <td>239878.0</td>\n",
       "      <td>106315.0</td>\n",
       "      <td>46383.0</td>\n",
       "      <td>25001.0</td>\n",
       "      <td>10550.0</td>\n",
       "      <td>6405.0</td>\n",
       "      <td>3401.0</td>\n",
       "    </tr>\n",
       "    <tr>\n",
       "      <th>4</th>\n",
       "      <td>-0.265025</td>\n",
       "      <td>-0.007068</td>\n",
       "      <td>-0.017015</td>\n",
       "      <td>-0.033292</td>\n",
       "      <td>-0.048008</td>\n",
       "      <td>-0.263057</td>\n",
       "      <td>-0.006823</td>\n",
       "      <td>-0.016241</td>\n",
       "      <td>-0.032975</td>\n",
       "      <td>-0.046946</td>\n",
       "      <td>...</td>\n",
       "      <td>50126.0</td>\n",
       "      <td>21473.0</td>\n",
       "      <td>3355.0</td>\n",
       "      <td>235508.0</td>\n",
       "      <td>96446.0</td>\n",
       "      <td>50054.0</td>\n",
       "      <td>21542.0</td>\n",
       "      <td>11100.0</td>\n",
       "      <td>6028.0</td>\n",
       "      <td>3176.0</td>\n",
       "    </tr>\n",
       "    <tr>\n",
       "      <th>...</th>\n",
       "      <td>...</td>\n",
       "      <td>...</td>\n",
       "      <td>...</td>\n",
       "      <td>...</td>\n",
       "      <td>...</td>\n",
       "      <td>...</td>\n",
       "      <td>...</td>\n",
       "      <td>...</td>\n",
       "      <td>...</td>\n",
       "      <td>...</td>\n",
       "      <td>...</td>\n",
       "      <td>...</td>\n",
       "      <td>...</td>\n",
       "      <td>...</td>\n",
       "      <td>...</td>\n",
       "      <td>...</td>\n",
       "      <td>...</td>\n",
       "      <td>...</td>\n",
       "      <td>...</td>\n",
       "      <td>...</td>\n",
       "      <td>...</td>\n",
       "    </tr>\n",
       "    <tr>\n",
       "      <th>3332</th>\n",
       "      <td>-0.104572</td>\n",
       "      <td>-0.000267</td>\n",
       "      <td>-0.001287</td>\n",
       "      <td>-0.004655</td>\n",
       "      <td>-0.018606</td>\n",
       "      <td>-0.104197</td>\n",
       "      <td>-0.000241</td>\n",
       "      <td>-0.001230</td>\n",
       "      <td>-0.004309</td>\n",
       "      <td>-0.018012</td>\n",
       "      <td>...</td>\n",
       "      <td>111718.0</td>\n",
       "      <td>57071.0</td>\n",
       "      <td>5266.0</td>\n",
       "      <td>478728.0</td>\n",
       "      <td>194404.0</td>\n",
       "      <td>110085.0</td>\n",
       "      <td>56729.0</td>\n",
       "      <td>26120.0</td>\n",
       "      <td>10705.0</td>\n",
       "      <td>4714.0</td>\n",
       "    </tr>\n",
       "    <tr>\n",
       "      <th>3333</th>\n",
       "      <td>-0.064313</td>\n",
       "      <td>-0.000214</td>\n",
       "      <td>-0.000820</td>\n",
       "      <td>-0.004044</td>\n",
       "      <td>-0.013585</td>\n",
       "      <td>-0.064493</td>\n",
       "      <td>-0.000202</td>\n",
       "      <td>-0.000685</td>\n",
       "      <td>-0.003693</td>\n",
       "      <td>-0.013236</td>\n",
       "      <td>...</td>\n",
       "      <td>100899.0</td>\n",
       "      <td>57721.0</td>\n",
       "      <td>5961.0</td>\n",
       "      <td>378640.0</td>\n",
       "      <td>180357.0</td>\n",
       "      <td>98690.0</td>\n",
       "      <td>57296.0</td>\n",
       "      <td>25947.0</td>\n",
       "      <td>13375.0</td>\n",
       "      <td>3125.0</td>\n",
       "    </tr>\n",
       "    <tr>\n",
       "      <th>3334</th>\n",
       "      <td>-0.477425</td>\n",
       "      <td>-0.000967</td>\n",
       "      <td>-0.004003</td>\n",
       "      <td>-0.008481</td>\n",
       "      <td>-0.038837</td>\n",
       "      <td>-0.476932</td>\n",
       "      <td>-0.000873</td>\n",
       "      <td>-0.004009</td>\n",
       "      <td>-0.007479</td>\n",
       "      <td>-0.036333</td>\n",
       "      <td>...</td>\n",
       "      <td>95367.0</td>\n",
       "      <td>62597.0</td>\n",
       "      <td>3067.0</td>\n",
       "      <td>491052.0</td>\n",
       "      <td>210852.0</td>\n",
       "      <td>92628.0</td>\n",
       "      <td>61759.0</td>\n",
       "      <td>24119.0</td>\n",
       "      <td>12008.0</td>\n",
       "      <td>6321.0</td>\n",
       "    </tr>\n",
       "    <tr>\n",
       "      <th>3335</th>\n",
       "      <td>-0.328624</td>\n",
       "      <td>-0.001875</td>\n",
       "      <td>-0.008336</td>\n",
       "      <td>-0.021885</td>\n",
       "      <td>-0.049970</td>\n",
       "      <td>-0.329515</td>\n",
       "      <td>-0.001693</td>\n",
       "      <td>-0.008131</td>\n",
       "      <td>-0.021180</td>\n",
       "      <td>-0.048207</td>\n",
       "      <td>...</td>\n",
       "      <td>101933.0</td>\n",
       "      <td>50380.0</td>\n",
       "      <td>5290.0</td>\n",
       "      <td>483699.0</td>\n",
       "      <td>219884.0</td>\n",
       "      <td>100631.0</td>\n",
       "      <td>49950.0</td>\n",
       "      <td>30214.0</td>\n",
       "      <td>9810.0</td>\n",
       "      <td>5397.0</td>\n",
       "    </tr>\n",
       "    <tr>\n",
       "      <th>3336</th>\n",
       "      <td>-0.794837</td>\n",
       "      <td>-0.000132</td>\n",
       "      <td>-0.000183</td>\n",
       "      <td>-0.001355</td>\n",
       "      <td>-0.016222</td>\n",
       "      <td>-0.792587</td>\n",
       "      <td>-0.000132</td>\n",
       "      <td>-0.000146</td>\n",
       "      <td>-0.000839</td>\n",
       "      <td>-0.012002</td>\n",
       "      <td>...</td>\n",
       "      <td>83010.0</td>\n",
       "      <td>50099.0</td>\n",
       "      <td>2977.0</td>\n",
       "      <td>314037.0</td>\n",
       "      <td>172281.0</td>\n",
       "      <td>68302.0</td>\n",
       "      <td>46699.0</td>\n",
       "      <td>30988.0</td>\n",
       "      <td>13057.0</td>\n",
       "      <td>4685.0</td>\n",
       "    </tr>\n",
       "  </tbody>\n",
       "</table>\n",
       "<p>3337 rows × 361 columns</p>\n",
       "</div>"
      ],
      "text/plain": [
       "      25th_percentile_db4_cA4  25th_percentile_db4_cD1  \\\n",
       "0                   -0.236240                -0.012063   \n",
       "1                   -0.733787                -0.017003   \n",
       "2                   -0.206548                -0.001990   \n",
       "3                   -0.505051                -0.017088   \n",
       "4                   -0.265025                -0.007068   \n",
       "...                       ...                      ...   \n",
       "3332                -0.104572                -0.000267   \n",
       "3333                -0.064313                -0.000214   \n",
       "3334                -0.477425                -0.000967   \n",
       "3335                -0.328624                -0.001875   \n",
       "3336                -0.794837                -0.000132   \n",
       "\n",
       "      25th_percentile_db4_cD2  25th_percentile_db4_cD3  \\\n",
       "0                   -0.027807                -0.051443   \n",
       "1                   -0.045150                -0.053358   \n",
       "2                   -0.004977                -0.010344   \n",
       "3                   -0.050502                -0.085439   \n",
       "4                   -0.017015                -0.033292   \n",
       "...                       ...                      ...   \n",
       "3332                -0.001287                -0.004655   \n",
       "3333                -0.000820                -0.004044   \n",
       "3334                -0.004003                -0.008481   \n",
       "3335                -0.008336                -0.021885   \n",
       "3336                -0.000183                -0.001355   \n",
       "\n",
       "      25th_percentile_db4_cD4  25th_percentile_db5_cA4  \\\n",
       "0                   -0.082820                -0.237137   \n",
       "1                   -0.045559                -0.728479   \n",
       "2                   -0.032882                -0.206663   \n",
       "3                   -0.155965                -0.503971   \n",
       "4                   -0.048008                -0.263057   \n",
       "...                       ...                      ...   \n",
       "3332                -0.018606                -0.104197   \n",
       "3333                -0.013585                -0.064493   \n",
       "3334                -0.038837                -0.476932   \n",
       "3335                -0.049970                -0.329515   \n",
       "3336                -0.016222                -0.792587   \n",
       "\n",
       "      25th_percentile_db5_cD1  25th_percentile_db5_cD2  \\\n",
       "0                   -0.011746                -0.027222   \n",
       "1                   -0.016115                -0.044458   \n",
       "2                   -0.001933                -0.004869   \n",
       "3                   -0.016430                -0.050478   \n",
       "4                   -0.006823                -0.016241   \n",
       "...                       ...                      ...   \n",
       "3332                -0.000241                -0.001230   \n",
       "3333                -0.000202                -0.000685   \n",
       "3334                -0.000873                -0.004009   \n",
       "3335                -0.001693                -0.008131   \n",
       "3336                -0.000132                -0.000146   \n",
       "\n",
       "      25th_percentile_db5_cD3  25th_percentile_db5_cD4  ...  zcr_db5_cD3  \\\n",
       "0                   -0.051066                -0.082349  ...      48729.0   \n",
       "1                   -0.053728                -0.045010  ...      40467.0   \n",
       "2                   -0.009837                -0.031671  ...      51110.0   \n",
       "3                   -0.080363                -0.153229  ...      46009.0   \n",
       "4                   -0.032975                -0.046946  ...      50126.0   \n",
       "...                       ...                      ...  ...          ...   \n",
       "3332                -0.004309                -0.018012  ...     111718.0   \n",
       "3333                -0.003693                -0.013236  ...     100899.0   \n",
       "3334                -0.007479                -0.036333  ...      95367.0   \n",
       "3335                -0.021180                -0.048207  ...     101933.0   \n",
       "3336                -0.000839                -0.012002  ...      83010.0   \n",
       "\n",
       "      zcr_db5_cD4  zcr_db8_cA7  zcr_db8_cD1  zcr_db8_cD2  zcr_db8_cD3  \\\n",
       "0         24515.0       1367.0     236539.0     100477.0      48721.0   \n",
       "1         21751.0       4280.0     232788.0     104560.0      40835.0   \n",
       "2         28460.0       3429.0     238953.0      98627.0      50426.0   \n",
       "3         24784.0       4084.0     239878.0     106315.0      46383.0   \n",
       "4         21473.0       3355.0     235508.0      96446.0      50054.0   \n",
       "...           ...          ...          ...          ...          ...   \n",
       "3332      57071.0       5266.0     478728.0     194404.0     110085.0   \n",
       "3333      57721.0       5961.0     378640.0     180357.0      98690.0   \n",
       "3334      62597.0       3067.0     491052.0     210852.0      92628.0   \n",
       "3335      50380.0       5290.0     483699.0     219884.0     100631.0   \n",
       "3336      50099.0       2977.0     314037.0     172281.0      68302.0   \n",
       "\n",
       "      zcr_db8_cD4  zcr_db8_cD5  zcr_db8_cD6  zcr_db8_cD7  \n",
       "0         24523.0      10601.0       5868.0       2136.0  \n",
       "1         21922.0      11688.0       5678.0       4187.0  \n",
       "2         28197.0      12380.0       5750.0       2853.0  \n",
       "3         25001.0      10550.0       6405.0       3401.0  \n",
       "4         21542.0      11100.0       6028.0       3176.0  \n",
       "...           ...          ...          ...          ...  \n",
       "3332      56729.0      26120.0      10705.0       4714.0  \n",
       "3333      57296.0      25947.0      13375.0       3125.0  \n",
       "3334      61759.0      24119.0      12008.0       6321.0  \n",
       "3335      49950.0      30214.0       9810.0       5397.0  \n",
       "3336      46699.0      30988.0      13057.0       4685.0  \n",
       "\n",
       "[3337 rows x 361 columns]"
      ]
     },
     "execution_count": 3,
     "metadata": {},
     "output_type": "execute_result"
    }
   ],
   "source": [
    "features = pandas.read_csv(MOUNTED_DATASET_PATH + '/data/cleaned_features_1.csv', index_col=0)\n",
    "features"
   ]
  },
  {
   "cell_type": "code",
   "execution_count": 4,
   "metadata": {},
   "outputs": [
    {
     "data": {
      "text/html": [
       "<div>\n",
       "<style scoped>\n",
       "    .dataframe tbody tr th:only-of-type {\n",
       "        vertical-align: middle;\n",
       "    }\n",
       "\n",
       "    .dataframe tbody tr th {\n",
       "        vertical-align: top;\n",
       "    }\n",
       "\n",
       "    .dataframe thead th {\n",
       "        text-align: right;\n",
       "    }\n",
       "</style>\n",
       "<table border=\"1\" class=\"dataframe\">\n",
       "  <thead>\n",
       "    <tr style=\"text-align: right;\">\n",
       "      <th></th>\n",
       "      <th>25th_percentile_db4_cA4</th>\n",
       "      <th>25th_percentile_db4_cD1</th>\n",
       "      <th>25th_percentile_db4_cD2</th>\n",
       "      <th>25th_percentile_db4_cD3</th>\n",
       "      <th>25th_percentile_db4_cD4</th>\n",
       "      <th>25th_percentile_db5_cA4</th>\n",
       "      <th>25th_percentile_db5_cD1</th>\n",
       "      <th>25th_percentile_db5_cD2</th>\n",
       "      <th>25th_percentile_db5_cD3</th>\n",
       "      <th>25th_percentile_db5_cD4</th>\n",
       "      <th>...</th>\n",
       "      <th>zcr_db5_cD3</th>\n",
       "      <th>zcr_db5_cD4</th>\n",
       "      <th>zcr_db8_cA7</th>\n",
       "      <th>zcr_db8_cD1</th>\n",
       "      <th>zcr_db8_cD2</th>\n",
       "      <th>zcr_db8_cD3</th>\n",
       "      <th>zcr_db8_cD4</th>\n",
       "      <th>zcr_db8_cD5</th>\n",
       "      <th>zcr_db8_cD6</th>\n",
       "      <th>zcr_db8_cD7</th>\n",
       "    </tr>\n",
       "  </thead>\n",
       "  <tbody>\n",
       "    <tr>\n",
       "      <th>2062</th>\n",
       "      <td>-0.465859</td>\n",
       "      <td>-0.010896</td>\n",
       "      <td>-0.059665</td>\n",
       "      <td>-0.205795</td>\n",
       "      <td>-0.355809</td>\n",
       "      <td>-0.465991</td>\n",
       "      <td>-0.009601</td>\n",
       "      <td>-0.056382</td>\n",
       "      <td>-0.206757</td>\n",
       "      <td>-0.348595</td>\n",
       "      <td>...</td>\n",
       "      <td>111280.0</td>\n",
       "      <td>42379.0</td>\n",
       "      <td>6619.0</td>\n",
       "      <td>462474.0</td>\n",
       "      <td>229780.0</td>\n",
       "      <td>111213.0</td>\n",
       "      <td>42349.0</td>\n",
       "      <td>20872.0</td>\n",
       "      <td>10708.0</td>\n",
       "      <td>5930.0</td>\n",
       "    </tr>\n",
       "    <tr>\n",
       "      <th>2012</th>\n",
       "      <td>-0.753223</td>\n",
       "      <td>-0.007865</td>\n",
       "      <td>-0.028152</td>\n",
       "      <td>-0.076519</td>\n",
       "      <td>-0.153791</td>\n",
       "      <td>-0.751413</td>\n",
       "      <td>-0.007456</td>\n",
       "      <td>-0.028054</td>\n",
       "      <td>-0.074464</td>\n",
       "      <td>-0.148392</td>\n",
       "      <td>...</td>\n",
       "      <td>103911.0</td>\n",
       "      <td>48949.0</td>\n",
       "      <td>4716.0</td>\n",
       "      <td>496409.0</td>\n",
       "      <td>205594.0</td>\n",
       "      <td>102934.0</td>\n",
       "      <td>49009.0</td>\n",
       "      <td>23687.0</td>\n",
       "      <td>10963.0</td>\n",
       "      <td>5791.0</td>\n",
       "    </tr>\n",
       "    <tr>\n",
       "      <th>1154</th>\n",
       "      <td>-0.563173</td>\n",
       "      <td>-0.006111</td>\n",
       "      <td>-0.022889</td>\n",
       "      <td>-0.092847</td>\n",
       "      <td>-0.198442</td>\n",
       "      <td>-0.560591</td>\n",
       "      <td>-0.005720</td>\n",
       "      <td>-0.021311</td>\n",
       "      <td>-0.091343</td>\n",
       "      <td>-0.195557</td>\n",
       "      <td>...</td>\n",
       "      <td>124665.0</td>\n",
       "      <td>43517.0</td>\n",
       "      <td>6583.0</td>\n",
       "      <td>481245.0</td>\n",
       "      <td>210137.0</td>\n",
       "      <td>123948.0</td>\n",
       "      <td>43785.0</td>\n",
       "      <td>26346.0</td>\n",
       "      <td>10821.0</td>\n",
       "      <td>6086.0</td>\n",
       "    </tr>\n",
       "    <tr>\n",
       "      <th>17</th>\n",
       "      <td>-0.430204</td>\n",
       "      <td>-0.012116</td>\n",
       "      <td>-0.028651</td>\n",
       "      <td>-0.043785</td>\n",
       "      <td>-0.070246</td>\n",
       "      <td>-0.430226</td>\n",
       "      <td>-0.011812</td>\n",
       "      <td>-0.028496</td>\n",
       "      <td>-0.042138</td>\n",
       "      <td>-0.071508</td>\n",
       "      <td>...</td>\n",
       "      <td>48732.0</td>\n",
       "      <td>24737.0</td>\n",
       "      <td>3529.0</td>\n",
       "      <td>239944.0</td>\n",
       "      <td>96296.0</td>\n",
       "      <td>49073.0</td>\n",
       "      <td>24528.0</td>\n",
       "      <td>12669.0</td>\n",
       "      <td>6431.0</td>\n",
       "      <td>2694.0</td>\n",
       "    </tr>\n",
       "    <tr>\n",
       "      <th>2705</th>\n",
       "      <td>-0.350208</td>\n",
       "      <td>-0.003602</td>\n",
       "      <td>-0.011172</td>\n",
       "      <td>-0.028072</td>\n",
       "      <td>-0.053182</td>\n",
       "      <td>-0.349382</td>\n",
       "      <td>-0.003450</td>\n",
       "      <td>-0.010818</td>\n",
       "      <td>-0.027803</td>\n",
       "      <td>-0.051481</td>\n",
       "      <td>...</td>\n",
       "      <td>105385.0</td>\n",
       "      <td>47824.0</td>\n",
       "      <td>6114.0</td>\n",
       "      <td>500391.0</td>\n",
       "      <td>201969.0</td>\n",
       "      <td>105092.0</td>\n",
       "      <td>47944.0</td>\n",
       "      <td>27070.0</td>\n",
       "      <td>12706.0</td>\n",
       "      <td>5782.0</td>\n",
       "    </tr>\n",
       "    <tr>\n",
       "      <th>...</th>\n",
       "      <td>...</td>\n",
       "      <td>...</td>\n",
       "      <td>...</td>\n",
       "      <td>...</td>\n",
       "      <td>...</td>\n",
       "      <td>...</td>\n",
       "      <td>...</td>\n",
       "      <td>...</td>\n",
       "      <td>...</td>\n",
       "      <td>...</td>\n",
       "      <td>...</td>\n",
       "      <td>...</td>\n",
       "      <td>...</td>\n",
       "      <td>...</td>\n",
       "      <td>...</td>\n",
       "      <td>...</td>\n",
       "      <td>...</td>\n",
       "      <td>...</td>\n",
       "      <td>...</td>\n",
       "      <td>...</td>\n",
       "      <td>...</td>\n",
       "    </tr>\n",
       "    <tr>\n",
       "      <th>1197</th>\n",
       "      <td>-0.373524</td>\n",
       "      <td>-0.001420</td>\n",
       "      <td>-0.003783</td>\n",
       "      <td>-0.008125</td>\n",
       "      <td>-0.015144</td>\n",
       "      <td>-0.374219</td>\n",
       "      <td>-0.001343</td>\n",
       "      <td>-0.003713</td>\n",
       "      <td>-0.007309</td>\n",
       "      <td>-0.014646</td>\n",
       "      <td>...</td>\n",
       "      <td>88529.0</td>\n",
       "      <td>46375.0</td>\n",
       "      <td>6626.0</td>\n",
       "      <td>467531.0</td>\n",
       "      <td>189423.0</td>\n",
       "      <td>87259.0</td>\n",
       "      <td>45578.0</td>\n",
       "      <td>23877.0</td>\n",
       "      <td>11113.0</td>\n",
       "      <td>6648.0</td>\n",
       "    </tr>\n",
       "    <tr>\n",
       "      <th>2762</th>\n",
       "      <td>-0.605758</td>\n",
       "      <td>-0.003195</td>\n",
       "      <td>-0.015823</td>\n",
       "      <td>-0.065967</td>\n",
       "      <td>-0.177299</td>\n",
       "      <td>-0.605206</td>\n",
       "      <td>-0.002883</td>\n",
       "      <td>-0.014599</td>\n",
       "      <td>-0.063928</td>\n",
       "      <td>-0.176441</td>\n",
       "      <td>...</td>\n",
       "      <td>117697.0</td>\n",
       "      <td>50712.0</td>\n",
       "      <td>6616.0</td>\n",
       "      <td>484265.0</td>\n",
       "      <td>215016.0</td>\n",
       "      <td>117036.0</td>\n",
       "      <td>50822.0</td>\n",
       "      <td>24352.0</td>\n",
       "      <td>9862.0</td>\n",
       "      <td>6796.0</td>\n",
       "    </tr>\n",
       "    <tr>\n",
       "      <th>1709</th>\n",
       "      <td>-0.661071</td>\n",
       "      <td>-0.002580</td>\n",
       "      <td>-0.006291</td>\n",
       "      <td>-0.013561</td>\n",
       "      <td>-0.045222</td>\n",
       "      <td>-0.656892</td>\n",
       "      <td>-0.002519</td>\n",
       "      <td>-0.006225</td>\n",
       "      <td>-0.012975</td>\n",
       "      <td>-0.043624</td>\n",
       "      <td>...</td>\n",
       "      <td>111435.0</td>\n",
       "      <td>51941.0</td>\n",
       "      <td>4684.0</td>\n",
       "      <td>537664.0</td>\n",
       "      <td>174399.0</td>\n",
       "      <td>109724.0</td>\n",
       "      <td>51131.0</td>\n",
       "      <td>28775.0</td>\n",
       "      <td>12778.0</td>\n",
       "      <td>5524.0</td>\n",
       "    </tr>\n",
       "    <tr>\n",
       "      <th>889</th>\n",
       "      <td>-0.236277</td>\n",
       "      <td>-0.000263</td>\n",
       "      <td>-0.000650</td>\n",
       "      <td>-0.001713</td>\n",
       "      <td>-0.004539</td>\n",
       "      <td>-0.236292</td>\n",
       "      <td>-0.000250</td>\n",
       "      <td>-0.000644</td>\n",
       "      <td>-0.001759</td>\n",
       "      <td>-0.004637</td>\n",
       "      <td>...</td>\n",
       "      <td>91470.0</td>\n",
       "      <td>48798.0</td>\n",
       "      <td>5130.0</td>\n",
       "      <td>406654.0</td>\n",
       "      <td>223626.0</td>\n",
       "      <td>90742.0</td>\n",
       "      <td>47946.0</td>\n",
       "      <td>27494.0</td>\n",
       "      <td>12978.0</td>\n",
       "      <td>7313.0</td>\n",
       "    </tr>\n",
       "    <tr>\n",
       "      <th>2224</th>\n",
       "      <td>-0.776910</td>\n",
       "      <td>-0.012892</td>\n",
       "      <td>-0.040094</td>\n",
       "      <td>-0.099476</td>\n",
       "      <td>-0.207550</td>\n",
       "      <td>-0.782364</td>\n",
       "      <td>-0.012264</td>\n",
       "      <td>-0.038974</td>\n",
       "      <td>-0.097602</td>\n",
       "      <td>-0.207307</td>\n",
       "      <td>...</td>\n",
       "      <td>109145.0</td>\n",
       "      <td>46781.0</td>\n",
       "      <td>6461.0</td>\n",
       "      <td>507494.0</td>\n",
       "      <td>202301.0</td>\n",
       "      <td>108786.0</td>\n",
       "      <td>46985.0</td>\n",
       "      <td>27057.0</td>\n",
       "      <td>10154.0</td>\n",
       "      <td>6829.0</td>\n",
       "    </tr>\n",
       "  </tbody>\n",
       "</table>\n",
       "<p>3337 rows × 361 columns</p>\n",
       "</div>"
      ],
      "text/plain": [
       "      25th_percentile_db4_cA4  25th_percentile_db4_cD1  \\\n",
       "2062                -0.465859                -0.010896   \n",
       "2012                -0.753223                -0.007865   \n",
       "1154                -0.563173                -0.006111   \n",
       "17                  -0.430204                -0.012116   \n",
       "2705                -0.350208                -0.003602   \n",
       "...                       ...                      ...   \n",
       "1197                -0.373524                -0.001420   \n",
       "2762                -0.605758                -0.003195   \n",
       "1709                -0.661071                -0.002580   \n",
       "889                 -0.236277                -0.000263   \n",
       "2224                -0.776910                -0.012892   \n",
       "\n",
       "      25th_percentile_db4_cD2  25th_percentile_db4_cD3  \\\n",
       "2062                -0.059665                -0.205795   \n",
       "2012                -0.028152                -0.076519   \n",
       "1154                -0.022889                -0.092847   \n",
       "17                  -0.028651                -0.043785   \n",
       "2705                -0.011172                -0.028072   \n",
       "...                       ...                      ...   \n",
       "1197                -0.003783                -0.008125   \n",
       "2762                -0.015823                -0.065967   \n",
       "1709                -0.006291                -0.013561   \n",
       "889                 -0.000650                -0.001713   \n",
       "2224                -0.040094                -0.099476   \n",
       "\n",
       "      25th_percentile_db4_cD4  25th_percentile_db5_cA4  \\\n",
       "2062                -0.355809                -0.465991   \n",
       "2012                -0.153791                -0.751413   \n",
       "1154                -0.198442                -0.560591   \n",
       "17                  -0.070246                -0.430226   \n",
       "2705                -0.053182                -0.349382   \n",
       "...                       ...                      ...   \n",
       "1197                -0.015144                -0.374219   \n",
       "2762                -0.177299                -0.605206   \n",
       "1709                -0.045222                -0.656892   \n",
       "889                 -0.004539                -0.236292   \n",
       "2224                -0.207550                -0.782364   \n",
       "\n",
       "      25th_percentile_db5_cD1  25th_percentile_db5_cD2  \\\n",
       "2062                -0.009601                -0.056382   \n",
       "2012                -0.007456                -0.028054   \n",
       "1154                -0.005720                -0.021311   \n",
       "17                  -0.011812                -0.028496   \n",
       "2705                -0.003450                -0.010818   \n",
       "...                       ...                      ...   \n",
       "1197                -0.001343                -0.003713   \n",
       "2762                -0.002883                -0.014599   \n",
       "1709                -0.002519                -0.006225   \n",
       "889                 -0.000250                -0.000644   \n",
       "2224                -0.012264                -0.038974   \n",
       "\n",
       "      25th_percentile_db5_cD3  25th_percentile_db5_cD4  ...  zcr_db5_cD3  \\\n",
       "2062                -0.206757                -0.348595  ...     111280.0   \n",
       "2012                -0.074464                -0.148392  ...     103911.0   \n",
       "1154                -0.091343                -0.195557  ...     124665.0   \n",
       "17                  -0.042138                -0.071508  ...      48732.0   \n",
       "2705                -0.027803                -0.051481  ...     105385.0   \n",
       "...                       ...                      ...  ...          ...   \n",
       "1197                -0.007309                -0.014646  ...      88529.0   \n",
       "2762                -0.063928                -0.176441  ...     117697.0   \n",
       "1709                -0.012975                -0.043624  ...     111435.0   \n",
       "889                 -0.001759                -0.004637  ...      91470.0   \n",
       "2224                -0.097602                -0.207307  ...     109145.0   \n",
       "\n",
       "      zcr_db5_cD4  zcr_db8_cA7  zcr_db8_cD1  zcr_db8_cD2  zcr_db8_cD3  \\\n",
       "2062      42379.0       6619.0     462474.0     229780.0     111213.0   \n",
       "2012      48949.0       4716.0     496409.0     205594.0     102934.0   \n",
       "1154      43517.0       6583.0     481245.0     210137.0     123948.0   \n",
       "17        24737.0       3529.0     239944.0      96296.0      49073.0   \n",
       "2705      47824.0       6114.0     500391.0     201969.0     105092.0   \n",
       "...           ...          ...          ...          ...          ...   \n",
       "1197      46375.0       6626.0     467531.0     189423.0      87259.0   \n",
       "2762      50712.0       6616.0     484265.0     215016.0     117036.0   \n",
       "1709      51941.0       4684.0     537664.0     174399.0     109724.0   \n",
       "889       48798.0       5130.0     406654.0     223626.0      90742.0   \n",
       "2224      46781.0       6461.0     507494.0     202301.0     108786.0   \n",
       "\n",
       "      zcr_db8_cD4  zcr_db8_cD5  zcr_db8_cD6  zcr_db8_cD7  \n",
       "2062      42349.0      20872.0      10708.0       5930.0  \n",
       "2012      49009.0      23687.0      10963.0       5791.0  \n",
       "1154      43785.0      26346.0      10821.0       6086.0  \n",
       "17        24528.0      12669.0       6431.0       2694.0  \n",
       "2705      47944.0      27070.0      12706.0       5782.0  \n",
       "...           ...          ...          ...          ...  \n",
       "1197      45578.0      23877.0      11113.0       6648.0  \n",
       "2762      50822.0      24352.0       9862.0       6796.0  \n",
       "1709      51131.0      28775.0      12778.0       5524.0  \n",
       "889       47946.0      27494.0      12978.0       7313.0  \n",
       "2224      46985.0      27057.0      10154.0       6829.0  \n",
       "\n",
       "[3337 rows x 361 columns]"
      ]
     },
     "execution_count": 4,
     "metadata": {},
     "output_type": "execute_result"
    }
   ],
   "source": [
    "# Shuffle dataset\n",
    "features = features.reindex(numpy.random.permutation(features.index))\n",
    "features"
   ]
  },
  {
   "cell_type": "code",
   "execution_count": 5,
   "metadata": {
    "scrolled": false
   },
   "outputs": [],
   "source": [
    "# split dataset into target (y) and predictors (x)\n",
    "y = features.loc[:,'genre_label']\n",
    "X = features.loc[:, features.columns.difference(['genre_label'])]"
   ]
  },
  {
   "cell_type": "code",
   "execution_count": 6,
   "metadata": {},
   "outputs": [],
   "source": [
    "# get wavelet predictors\n",
    "wavelet_predictors = X.filter(regex=(r'.+_db[458]{1}_.+'))\n",
    "wavelet_predictor_labels = wavelet_predictors.columns.values"
   ]
  },
  {
   "cell_type": "code",
   "execution_count": 7,
   "metadata": {},
   "outputs": [],
   "source": [
    "wavelet_predictor_labels_wf_outliers= numpy.asarray([\n",
    "    '25th_percentile_db8_cA7', '5th_percentile_db8_cA7', '5th_percentile_db8_cD7',\n",
    "    '75th_percentile_db8_cA7', 'mcr_db4_cD1', 'mcr_db4_cD2', 'mcr_db8_cD2',\n",
    "    'mcr_db8_cD1', 'mcr_db5_cD2','mcr_db5_cD1','zcr_db8_cD1'])\n",
    "wavelet_predictor_labels_wo_outliers = [i for i in wavelet_predictor_labels \\\n",
    "                                 if i not in wavelet_predictor_labels_wf_outliers]"
   ]
  },
  {
   "cell_type": "code",
   "execution_count": 8,
   "metadata": {},
   "outputs": [],
   "source": [
    "# Create standardization and normalization pipelines\n",
    "preprocess_sp = standardization_pipeline(\n",
    "    wavelet_predictor_labels,\n",
    "    wavelet_predictor_labels_wf_outliers,\n",
    "    wavelet_predictor_labels_wo_outliers)\n",
    "preprocess_np = normalization_pipeline(\n",
    "    wavelet_predictor_labels)"
   ]
  },
  {
   "cell_type": "markdown",
   "metadata": {},
   "source": [
    "### Split & Transform Data"
   ]
  },
  {
   "cell_type": "code",
   "execution_count": 9,
   "metadata": {},
   "outputs": [],
   "source": [
    "# split into sets: training 80% & testing 20% of total dataset\n",
    "X_train, X_test, y_train, y_test = train_test_split(\n",
    "    wavelet_predictors, y, test_size=0.2, shuffle=True)"
   ]
  },
  {
   "cell_type": "code",
   "execution_count": 10,
   "metadata": {
    "scrolled": true
   },
   "outputs": [],
   "source": [
    "# split into sets: training 80% & testing 20% of training set\n",
    "X_train, X_val, y_train, y_val = train_test_split(\n",
    "    X_train, y_train, test_size=0.2, shuffle=True)"
   ]
  },
  {
   "cell_type": "code",
   "execution_count": 11,
   "metadata": {
    "scrolled": true
   },
   "outputs": [
    {
     "name": "stderr",
     "output_type": "stream",
     "text": [
      "/Users/macbookretina/Desktop/automatic-music-genre-classification/venv/lib/python3.7/site-packages/pandas/core/indexing.py:1048: SettingWithCopyWarning: \n",
      "A value is trying to be set on a copy of a slice from a DataFrame.\n",
      "Try using .loc[row_indexer,col_indexer] = value instead\n",
      "\n",
      "See the caveats in the documentation: https://pandas.pydata.org/pandas-docs/stable/user_guide/indexing.html#returning-a-view-versus-a-copy\n",
      "  self.obj[item_labels[indexer[info_axis]]] = value\n",
      "/Users/macbookretina/Desktop/automatic-music-genre-classification/venv/lib/python3.7/site-packages/pandas/core/indexing.py:1048: SettingWithCopyWarning: \n",
      "A value is trying to be set on a copy of a slice from a DataFrame.\n",
      "Try using .loc[row_indexer,col_indexer] = value instead\n",
      "\n",
      "See the caveats in the documentation: https://pandas.pydata.org/pandas-docs/stable/user_guide/indexing.html#returning-a-view-versus-a-copy\n",
      "  self.obj[item_labels[indexer[info_axis]]] = value\n",
      "/Users/macbookretina/Desktop/automatic-music-genre-classification/venv/lib/python3.7/site-packages/pandas/core/indexing.py:1048: SettingWithCopyWarning: \n",
      "A value is trying to be set on a copy of a slice from a DataFrame.\n",
      "Try using .loc[row_indexer,col_indexer] = value instead\n",
      "\n",
      "See the caveats in the documentation: https://pandas.pydata.org/pandas-docs/stable/user_guide/indexing.html#returning-a-view-versus-a-copy\n",
      "  self.obj[item_labels[indexer[info_axis]]] = value\n"
     ]
    },
    {
     "data": {
      "text/plain": [
       "(668, 252, 1)"
      ]
     },
     "execution_count": 11,
     "metadata": {},
     "output_type": "execute_result"
    }
   ],
   "source": [
    "# fit standardization pipeline estimator with training data and tranform test set\n",
    "pipeline_estimator_sp = preprocess_sp.fit(X_train)\n",
    "X_val_sp = pipeline_estimator_sp.transform(X_val)\n",
    "X_test_sp = pipeline_estimator_sp.transform(X_test)\n",
    "X_test_sp.shape"
   ]
  },
  {
   "cell_type": "code",
   "execution_count": 12,
   "metadata": {
    "scrolled": true
   },
   "outputs": [
    {
     "data": {
      "text/plain": [
       "(668, 252, 1)"
      ]
     },
     "execution_count": 12,
     "metadata": {},
     "output_type": "execute_result"
    }
   ],
   "source": [
    "# fit normalization pipeline estimator with training data and tranform test set\n",
    "pipeline_estimator_np = normalization_pipeline(\n",
    "    wavelet_predictor_labels).fit(X_train)\n",
    "X_val_np = pipeline_estimator_np.transform(X_val)\n",
    "X_test_np = pipeline_estimator_np.transform(X_test)\n",
    "X_test_np.shape"
   ]
  },
  {
   "cell_type": "code",
   "execution_count": null,
   "metadata": {
    "scrolled": true
   },
   "outputs": [],
   "source": [
    "# X_train_sp = standardization_pipeline(wavelet_predictor_labels, \n",
    "#                                    [], wavelet_predictor_labels\n",
    "#                                   ).fit_transform(X_train)\n",
    "# X_test_sp = standardization_pipeline(wavelet_predictor_labels, \n",
    "#                                    [], wavelet_predictor_labels\n",
    "#                                   ).fit_transform(X_test)\n",
    "# X_test_sp.shape"
   ]
  },
  {
   "cell_type": "code",
   "execution_count": null,
   "metadata": {
    "scrolled": true
   },
   "outputs": [],
   "source": [
    "# X_train_np = normalization_pipeline(wavelet_predictor_labels\n",
    "#                                   ).fit_transform(X_train)\n",
    "# X_test_np = normalization_pipeline(wavelet_predictor_labels\n",
    "#                                   ).fit_transform(X_test)\n",
    "# X_test_np.shape"
   ]
  },
  {
   "cell_type": "code",
   "execution_count": null,
   "metadata": {},
   "outputs": [],
   "source": [
    "_, ncols = X_train.shape"
   ]
  },
  {
   "cell_type": "code",
   "execution_count": null,
   "metadata": {
    "scrolled": true
   },
   "outputs": [],
   "source": [
    "# one hot encoding our labels\n",
    "y_train = to_categorical(y_train, 3)\n",
    "y_val = to_categorical(y_val, 3)\n",
    "y_test = to_categorical(y_test, 3)"
   ]
  },
  {
   "cell_type": "code",
   "execution_count": null,
   "metadata": {},
   "outputs": [],
   "source": [
    "y_train.shape, y_val.shape, y_test.shape"
   ]
  },
  {
   "cell_type": "markdown",
   "metadata": {},
   "source": [
    "## Predictive Modelling"
   ]
  },
  {
   "cell_type": "code",
   "execution_count": null,
   "metadata": {},
   "outputs": [],
   "source": [
    "early_stopping_cb = callbacks.EarlyStopping(patience=10,\n",
    "                                        restore_best_weights=True)"
   ]
  },
  {
   "cell_type": "code",
   "execution_count": null,
   "metadata": {},
   "outputs": [],
   "source": [
    "param_dist = {\n",
    "    'clf__n_hidden': [0,1,2,3,4,5],\n",
    "    'clf__activation': ['relu', 'elu', 'selu'],\n",
    "    'clf__optimizer': ['rmsprop','adam','adagrad'],\n",
    "    'clf__kernel_initializer':['glorot_uniform','normal','uniform'],\n",
    "    'clf__n_neurons': numpy.arange(1,100),\n",
    "    'clf__learning_rate': [3, 1, .3, .1, .03, .01, .003, .001, .0003, .0001]\n",
    "}"
   ]
  },
  {
   "cell_type": "markdown",
   "metadata": {},
   "source": [
    "### FNN With Standardized Input"
   ]
  },
  {
   "cell_type": "code",
   "execution_count": null,
   "metadata": {},
   "outputs": [],
   "source": [
    "def train_model(name, batch_size=32, epochs=100):\n",
    "    \"\"\"\n",
    "    \n",
    "    \"\"\"\n",
    "    # wrap the function with keras wrapper\n",
    "    fnn = KerasClassifier(build_fn=set_shape_create_model(\n",
    "        name, ncols))\n",
    "    # create pipeline estimator\n",
    "    pipeline = Pipeline([\n",
    "        ('preprocess', pipeline_estimator_sp),\n",
    "        ('clf', fnn)\n",
    "    ])\n",
    "    # instantiate RandomizedSearchCV\n",
    "    # if you're not using a GPU, you can set n_jobs to something other than 1\n",
    "    rscv = RandomizedSearchCV(pipeline, param_dist, cv=3, n_jobs=1)\n",
    "    # learn model\n",
    "    search = rscv.fit(X_train, y_train, clf__batch_size=batch_size,\n",
    "                    clf__validation_data=(X_val_sp, y_val),\n",
    "                    clf__epochs=epochs, clf__callbacks=[early_stopping_cb])\n",
    "    \n",
    "    print(search.best_score_, search.best_params_)\n",
    "    return search.best_score_, search.best_params_, search.best_estimator_"
   ]
  },
  {
   "cell_type": "code",
   "execution_count": null,
   "metadata": {},
   "outputs": [],
   "source": [
    "fnn1_best_score, fnn1_best_params, fnn1_best_estimator = train_model('fnn_1')"
   ]
  },
  {
   "cell_type": "code",
   "execution_count": null,
   "metadata": {
    "scrolled": true
   },
   "outputs": [],
   "source": [
    "# wrap the function with keras wrapper\n",
    "fnn_1 = KerasClassifier(build_fn=set_shape_create_model('fnn', ncols))"
   ]
  },
  {
   "cell_type": "code",
   "execution_count": null,
   "metadata": {},
   "outputs": [],
   "source": [
    "pipeline_sp = Pipeline([\n",
    "    ('preprocess', preprocess_sp),\n",
    "    ('clf', fnn_1)\n",
    "])"
   ]
  },
  {
   "cell_type": "code",
   "execution_count": null,
   "metadata": {},
   "outputs": [],
   "source": [
    "# if you're not using a GPU, you can set n_jobs to something other than 1\n",
    "rscv = RandomizedSearchCV(pipeline_sp, param_dist, cv=3, n_jobs=1)"
   ]
  },
  {
   "cell_type": "code",
   "execution_count": null,
   "metadata": {
    "scrolled": true
   },
   "outputs": [],
   "source": [
    "# %%timeit\n",
    "# fit model\n",
    "search_1 = rscv.fit(X_train, y_train, clf__batch_size=32,\n",
    "                    clf__validation_data=(X_test_sp, y_test),\n",
    "                    clf__epochs=100, clf__callbacks=[early_stopping_cb])"
   ]
  },
  {
   "cell_type": "code",
   "execution_count": null,
   "metadata": {},
   "outputs": [],
   "source": [
    "search_1.best_score_"
   ]
  },
  {
   "cell_type": "code",
   "execution_count": null,
   "metadata": {},
   "outputs": [],
   "source": [
    "search_1.best_params_"
   ]
  },
  {
   "cell_type": "code",
   "execution_count": null,
   "metadata": {},
   "outputs": [],
   "source": [
    "search_1.best_estimator_"
   ]
  },
  {
   "cell_type": "markdown",
   "metadata": {},
   "source": [
    "### FNN With Normalized Input"
   ]
  },
  {
   "cell_type": "code",
   "execution_count": null,
   "metadata": {},
   "outputs": [],
   "source": [
    "# wrap the function with keras wrapper\n",
    "fnn_2 = KerasClassifier(set_shape_create_model('fnn_np', ncols))"
   ]
  },
  {
   "cell_type": "code",
   "execution_count": null,
   "metadata": {},
   "outputs": [],
   "source": [
    "pipeline_np = Pipeline([\n",
    "    ('preprocess', preprocess_np),\n",
    "    ('clf', fnn_2)\n",
    "])"
   ]
  },
  {
   "cell_type": "code",
   "execution_count": null,
   "metadata": {},
   "outputs": [],
   "source": [
    "# if you're not using a GPU, you can set n_jobs to something other than 1\n",
    "rscv = RandomizedSearchCV(pipeline_np, param_dist, cv=3, n_jobs=1)"
   ]
  },
  {
   "cell_type": "code",
   "execution_count": null,
   "metadata": {
    "scrolled": true
   },
   "outputs": [],
   "source": [
    "# %%timeit\n",
    "# fit model\n",
    "search_2 = rscv.fit(X_train, y_train, clf__batch_size=32,\n",
    "                    clf__validation_data=(X_test_np, y_test),\n",
    "                    clf__epochs=100, clf__callbacks=[early_stopping_cb])"
   ]
  },
  {
   "cell_type": "code",
   "execution_count": null,
   "metadata": {},
   "outputs": [],
   "source": [
    "search_2.best_score_"
   ]
  },
  {
   "cell_type": "code",
   "execution_count": null,
   "metadata": {},
   "outputs": [],
   "source": [
    "search_2.best_params_"
   ]
  },
  {
   "cell_type": "code",
   "execution_count": null,
   "metadata": {
    "scrolled": true
   },
   "outputs": [],
   "source": [
    "search_2.best_estimator_"
   ]
  },
  {
   "cell_type": "markdown",
   "metadata": {},
   "source": [
    "### CNN With Standardized Input"
   ]
  },
  {
   "cell_type": "code",
   "execution_count": null,
   "metadata": {},
   "outputs": [],
   "source": [
    "param_dist = {\n",
    "    'clf__n_hidden': [1, 2, 3],\n",
    "    'clf__activation': ['relu', 'elu', 'selu'],\n",
    "    'clf__optimizer': ['rmsprop','adam','adagrad'],\n",
    "    'clf__kernel_initializer':['glorot_uniform','normal','uniform'],\n",
    "    'clf__n_neurons': numpy.arange(1,100),\n",
    "    'clf__filters': [16, 32, 64],\n",
    "#     'clf__kernel_size': [3,4,5],\n",
    "    'clf__dropout':[.1, .15, .2, .25]\n",
    "}"
   ]
  },
  {
   "cell_type": "code",
   "execution_count": null,
   "metadata": {
    "scrolled": true
   },
   "outputs": [],
   "source": [
    "# wrap the function with keras wrapper\n",
    "cnn_1 = KerasClassifier(build_fn=set_shape_create_cnn_model('cnn', ncols))"
   ]
  },
  {
   "cell_type": "code",
   "execution_count": null,
   "metadata": {},
   "outputs": [],
   "source": [
    "pipeline_sp = Pipeline([\n",
    "    ('preprocess', preprocess_sp),\n",
    "    ('clf', cnn_1)\n",
    "])"
   ]
  },
  {
   "cell_type": "code",
   "execution_count": null,
   "metadata": {},
   "outputs": [],
   "source": [
    "# if you're not using a GPU, you can set n_jobs to something other than 1\n",
    "rscv = RandomizedSearchCV(pipeline_sp, param_dist, cv=3, n_jobs=1)"
   ]
  },
  {
   "cell_type": "code",
   "execution_count": null,
   "metadata": {
    "scrolled": true
   },
   "outputs": [],
   "source": [
    "# %%timeit\n",
    "# fit model\n",
    "search_3 = rscv.fit(X_train, y_train, clf__batch_size=32,\n",
    "                    clf__validation_data=(X_test_sp, y_test),\n",
    "                    clf__epochs=100, clf__callbacks=[early_stopping_cb])"
   ]
  },
  {
   "cell_type": "code",
   "execution_count": null,
   "metadata": {},
   "outputs": [],
   "source": [
    "search_3.best_score_"
   ]
  },
  {
   "cell_type": "code",
   "execution_count": null,
   "metadata": {},
   "outputs": [],
   "source": [
    "search_3.best_params_"
   ]
  },
  {
   "cell_type": "code",
   "execution_count": null,
   "metadata": {},
   "outputs": [],
   "source": [
    "search_3.best_estimator_"
   ]
  },
  {
   "cell_type": "markdown",
   "metadata": {},
   "source": [
    "### CNN With Normalized Input"
   ]
  },
  {
   "cell_type": "code",
   "execution_count": null,
   "metadata": {
    "scrolled": true
   },
   "outputs": [],
   "source": [
    "# wrap the function with keras wrapper\n",
    "cnn_2 = KerasClassifier(build_fn=set_shape_create_cnn_model('cnn_np', ncols))"
   ]
  },
  {
   "cell_type": "code",
   "execution_count": null,
   "metadata": {},
   "outputs": [],
   "source": [
    "pipeline_np = Pipeline([\n",
    "    ('preprocess', preprocess_np),\n",
    "    ('clf', cnn_1)\n",
    "])"
   ]
  },
  {
   "cell_type": "code",
   "execution_count": null,
   "metadata": {},
   "outputs": [],
   "source": [
    "# if you're not using a GPU, you can set n_jobs to something other than 1\n",
    "rscv = RandomizedSearchCV(pipeline_np, param_dist, cv=3, n_jobs=1)"
   ]
  },
  {
   "cell_type": "code",
   "execution_count": null,
   "metadata": {
    "scrolled": true
   },
   "outputs": [],
   "source": [
    "# %%timeit\n",
    "# fit model\n",
    "search_4 = rscv.fit(X_train, y_train, clf__batch_size=32,\n",
    "                    clf__validation_data=(X_test_np, y_test),\n",
    "                    clf__epochs=100, clf__callbacks=[early_stopping_cb])"
   ]
  },
  {
   "cell_type": "code",
   "execution_count": null,
   "metadata": {},
   "outputs": [],
   "source": [
    "search_4.best_score_"
   ]
  },
  {
   "cell_type": "code",
   "execution_count": null,
   "metadata": {},
   "outputs": [],
   "source": [
    "search_4.best_params_"
   ]
  },
  {
   "cell_type": "code",
   "execution_count": null,
   "metadata": {},
   "outputs": [],
   "source": [
    "search_4.best_estimator_"
   ]
  },
  {
   "cell_type": "code",
   "execution_count": null,
   "metadata": {},
   "outputs": [],
   "source": []
  }
 ],
 "metadata": {
  "kernelspec": {
   "display_name": "Python 3",
   "language": "python",
   "name": "python3"
  },
  "language_info": {
   "codemirror_mode": {
    "name": "ipython",
    "version": 3
   },
   "file_extension": ".py",
   "mimetype": "text/x-python",
   "name": "python",
   "nbconvert_exporter": "python",
   "pygments_lexer": "ipython3",
   "version": "3.7.0"
  }
 },
 "nbformat": 4,
 "nbformat_minor": 4
}
