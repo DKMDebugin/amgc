{
 "cells": [
  {
   "cell_type": "code",
   "execution_count": 21,
   "metadata": {},
   "outputs": [],
   "source": [
    "import ipyparallel\n",
    "# import numpy as np\n",
    "# import os\n",
    "# import pandas as pd\n",
    "import sys\n",
    "MODULE_PATH = '/home/macbookretina/automatic-music-genre-classification/feature_extraction_deep_learning'\n",
    "sys.path.insert(1, MODULE_PATH)\n",
    "from custom_module.utilities import *"
   ]
  },
  {
   "cell_type": "code",
   "execution_count": 2,
   "metadata": {},
   "outputs": [
    {
     "name": "stdout",
     "output_type": "stream",
     "text": [
      "collecting track id and genres of tracks in the small subset of fma dataset\n",
      "done\n"
     ]
    }
   ],
   "source": [
    "# FMA\n",
    "# collect track id and genres of tracks in the small subset.\n",
    "print('collecting track id and genres of tracks in the small subset of fma dataset')\n",
    "tracks = load(MOUNTED_DATASET_PATH + '/fma_metadata/tracks.csv')\n",
    "fma_full = tracks[[('set', 'subset'), ('track', 'genre_top')]]\n",
    "small_subset = fma_full[('set', 'subset')] == 'small'\n",
    "fma_small = fma_full[small_subset]\n",
    "fma_small = pd.DataFrame({\n",
    "    'subset': fma_small[('set', 'subset')],\n",
    "    'label': fma_small[('track', 'genre_top')]\n",
    "})\n",
    "print('done')"
   ]
  },
  {
   "cell_type": "code",
   "execution_count": 3,
   "metadata": {},
   "outputs": [
    {
     "name": "stdout",
     "output_type": "stream",
     "text": [
      "profile: default\n",
      "IDs: [0, 1, 2, 3, 4, 5, 6, 7]\n"
     ]
    }
   ],
   "source": [
    "# attach to a running cluster to notebook\n",
    "cluster = ipyparallel.Client()\n",
    "# print profile name and process id numbers\n",
    "print('profile:', cluster.profile)\n",
    "print(\"IDs:\", cluster.ids)"
   ]
  },
  {
   "cell_type": "code",
   "execution_count": 4,
   "metadata": {},
   "outputs": [],
   "source": [
    "# split into tow set of 4 engines each and get DirectView object of each set.\n",
    "direct_views_first_4_engines = cluster[:4]\n",
    "direct_views_last_4_engines = cluster[5:]"
   ]
  },
  {
   "cell_type": "code",
   "execution_count": 5,
   "metadata": {
    "scrolled": true
   },
   "outputs": [
    {
     "name": "stdout",
     "output_type": "stream",
     "text": [
      "importing ast on engine(s)\n",
      "importing CategoricalDtype from pandas.api.types on engine(s)\n",
      "importing ipyparallel on engine(s)\n",
      "importing librosa on engine(s)\n",
      "importing numpy on engine(s)\n",
      "importing os on engine(s)\n",
      "importing pandas on engine(s)\n",
      "importing pywt on engine(s)\n",
      "importing skew from scipy.stats on engine(s)\n"
     ]
    }
   ],
   "source": [
    "# sync import for each DirectView object\n",
    "with direct_views_first_4_engines.sync_imports():\n",
    "    remote_imports()"
   ]
  },
  {
   "cell_type": "code",
   "execution_count": 6,
   "metadata": {},
   "outputs": [
    {
     "name": "stdout",
     "output_type": "stream",
     "text": [
      "importing ast on engine(s)\n",
      "importing CategoricalDtype from pandas.api.types on engine(s)\n",
      "importing ipyparallel on engine(s)\n",
      "importing librosa on engine(s)\n",
      "importing numpy on engine(s)\n",
      "importing os on engine(s)\n",
      "importing pandas on engine(s)\n",
      "importing pywt on engine(s)\n",
      "importing skew from scipy.stats on engine(s)\n"
     ]
    }
   ],
   "source": [
    "with direct_views_last_4_engines.sync_imports():\n",
    "    remote_imports()"
   ]
  },
  {
   "cell_type": "code",
   "execution_count": 7,
   "metadata": {},
   "outputs": [],
   "source": [
    "# initialize shared resouces for a DirectView object\n",
    "direct_views_first_4_engines['MOUNTED_DATASET_PATH'] = MOUNTED_DATASET_PATH\n",
    "direct_views_first_4_engines['LOCAL_MOUNTED_DATASET_PATH'] = LOCAL_MOUNTED_DATASET_PATH\n",
    "direct_views_first_4_engines['SAMPLE_FILE'] = SAMPLE_FILE\n",
    "direct_views_first_4_engines['GENRES'] = GENRES\n",
    "direct_views_first_4_engines['extract_audio_features'] = extract_audio_features\n",
    "direct_views_first_4_engines['dataframe'] = dataframe\n",
    "direct_views_first_4_engines['fma_small'] = fma_small"
   ]
  },
  {
   "cell_type": "code",
   "execution_count": 8,
   "metadata": {},
   "outputs": [],
   "source": [
    "direct_views_last_4_engines['MOUNTED_DATASET_PATH'] = MOUNTED_DATASET_PATH\n",
    "direct_views_last_4_engines['LOCAL_MOUNTED_DATASET_PATH'] = LOCAL_MOUNTED_DATASET_PATH\n",
    "direct_views_last_4_engines['SAMPLE_FILE'] = SAMPLE_FILE\n",
    "direct_views_last_4_engines['GENRES'] = GENRES\n",
    "direct_views_last_4_engines['extract_audio_features'] = extract_audio_features\n",
    "direct_views_last_4_engines['dataframe'] = dataframe\n",
    "direct_views_last_4_engines['fma_small'] = fma_small"
   ]
  },
  {
   "cell_type": "code",
   "execution_count": 9,
   "metadata": {},
   "outputs": [],
   "source": [
    "# activate DirectView object and set suffix\n",
    "direct_views_first_4_engines.activate('_first')\n",
    "direct_views_last_4_engines.activate('_last')"
   ]
  },
  {
   "cell_type": "code",
   "execution_count": 13,
   "metadata": {},
   "outputs": [],
   "source": [
    "dataframe_gtzan = dataframe.copy()\n",
    "dataframe_fma = dataframe.copy()"
   ]
  },
  {
   "cell_type": "code",
   "execution_count": 30,
   "metadata": {
    "scrolled": true
   },
   "outputs": [
    {
     "name": "stdout",
     "output_type": "stream",
     "text": [
      "extracting features from gtzan dataset\n",
      "appended features extracted from hiphop.00000.wav with genre: hiphop\n",
      "appended features extracted from hiphop.00001.wav with genre: hiphop\n",
      "appended features extracted from hiphop.00002.wav with genre: hiphop\n",
      "appended features extracted from hiphop.00003.wav with genre: hiphop\n",
      "appended features extracted from hiphop.00004.wav with genre: hiphop\n",
      "appended features extracted from hiphop.00005.wav with genre: hiphop\n",
      "appended features extracted from hiphop.00006.wav with genre: hiphop\n",
      "appended features extracted from hiphop.00007.wav with genre: hiphop\n",
      "appended features extracted from hiphop.00008.wav with genre: hiphop\n",
      "appended features extracted from hiphop.00009.wav with genre: hiphop\n",
      "appended features extracted from hiphop.00010.wav with genre: hiphop\n",
      "appended features extracted from hiphop.00011.wav with genre: hiphop\n",
      "appended features extracted from hiphop.00012.wav with genre: hiphop\n",
      "appended features extracted from hiphop.00013.wav with genre: hiphop\n",
      "appended features extracted from hiphop.00014.wav with genre: hiphop\n",
      "appended features extracted from hiphop.00015.wav with genre: hiphop\n",
      "appended features extracted from hiphop.00016.wav with genre: hiphop\n",
      "appended features extracted from hiphop.00017.wav with genre: hiphop\n",
      "appended features extracted from hiphop.00018.wav with genre: hiphop\n",
      "appended features extracted from hiphop.00019.wav with genre: hiphop\n",
      "appended features extracted from hiphop.00020.wav with genre: hiphop\n",
      "appended features extracted from hiphop.00021.wav with genre: hiphop\n",
      "appended features extracted from hiphop.00022.wav with genre: hiphop\n",
      "appended features extracted from hiphop.00023.wav with genre: hiphop\n",
      "appended features extracted from hiphop.00024.wav with genre: hiphop\n",
      "appended features extracted from hiphop.00025.wav with genre: hiphop\n",
      "appended features extracted from hiphop.00026.wav with genre: hiphop\n",
      "appended features extracted from hiphop.00027.wav with genre: hiphop\n",
      "appended features extracted from hiphop.00028.wav with genre: hiphop\n",
      "appended features extracted from hiphop.00029.wav with genre: hiphop\n",
      "appended features extracted from hiphop.00030.wav with genre: hiphop\n",
      "appended features extracted from hiphop.00031.wav with genre: hiphop\n",
      "appended features extracted from hiphop.00032.wav with genre: hiphop\n",
      "appended features extracted from hiphop.00033.wav with genre: hiphop\n",
      "appended features extracted from hiphop.00034.wav with genre: hiphop\n",
      "appended features extracted from hiphop.00035.wav with genre: hiphop\n",
      "appended features extracted from hiphop.00036.wav with genre: hiphop\n",
      "appended features extracted from hiphop.00037.wav with genre: hiphop\n",
      "appended features extracted from hiphop.00038.wav with genre: hiphop\n",
      "appended features extracted from hiphop.00039.wav with genre: hiphop\n",
      "appended features extracted from hiphop.00040.wav with genre: hiphop\n",
      "appended features extracted from hiphop.00041.wav with genre: hiphop\n",
      "appended features extracted from hiphop.00042.wav with genre: hiphop\n",
      "appended features extracted from hiphop.00043.wav with genre: hiphop\n",
      "appended features extracted from hiphop.00044.wav with genre: hiphop\n",
      "appended features extracted from hiphop.00045.wav with genre: hiphop\n",
      "appended features extracted from hiphop.00046.wav with genre: hiphop\n",
      "appended features extracted from hiphop.00047.wav with genre: hiphop\n",
      "appended features extracted from hiphop.00048.wav with genre: hiphop\n",
      "appended features extracted from hiphop.00049.wav with genre: hiphop\n",
      "appended features extracted from hiphop.00050.wav with genre: hiphop\n",
      "appended features extracted from hiphop.00051.wav with genre: hiphop\n",
      "appended features extracted from hiphop.00052.wav with genre: hiphop\n",
      "appended features extracted from hiphop.00053.wav with genre: hiphop\n",
      "appended features extracted from hiphop.00054.wav with genre: hiphop\n",
      "appended features extracted from hiphop.00055.wav with genre: hiphop\n",
      "appended features extracted from hiphop.00056.wav with genre: hiphop\n",
      "appended features extracted from hiphop.00057.wav with genre: hiphop\n",
      "appended features extracted from hiphop.00058.wav with genre: hiphop\n",
      "appended features extracted from hiphop.00059.wav with genre: hiphop\n",
      "appended features extracted from hiphop.00060.wav with genre: hiphop\n",
      "appended features extracted from hiphop.00061.wav with genre: hiphop\n",
      "appended features extracted from hiphop.00062.wav with genre: hiphop\n",
      "appended features extracted from hiphop.00063.wav with genre: hiphop\n",
      "appended features extracted from hiphop.00064.wav with genre: hiphop\n",
      "appended features extracted from hiphop.00065.wav with genre: hiphop\n",
      "appended features extracted from hiphop.00066.wav with genre: hiphop\n",
      "appended features extracted from hiphop.00067.wav with genre: hiphop\n",
      "appended features extracted from hiphop.00068.wav with genre: hiphop\n",
      "appended features extracted from hiphop.00069.wav with genre: hiphop\n",
      "appended features extracted from hiphop.00070.wav with genre: hiphop\n",
      "appended features extracted from hiphop.00071.wav with genre: hiphop\n",
      "appended features extracted from hiphop.00072.wav with genre: hiphop\n",
      "appended features extracted from hiphop.00073.wav with genre: hiphop\n",
      "appended features extracted from hiphop.00074.wav with genre: hiphop\n",
      "appended features extracted from hiphop.00075.wav with genre: hiphop\n",
      "appended features extracted from hiphop.00076.wav with genre: hiphop\n",
      "appended features extracted from hiphop.00077.wav with genre: hiphop\n",
      "appended features extracted from hiphop.00078.wav with genre: hiphop\n",
      "appended features extracted from hiphop.00079.wav with genre: hiphop\n",
      "appended features extracted from hiphop.00080.wav with genre: hiphop\n",
      "appended features extracted from hiphop.00081.wav with genre: hiphop\n",
      "appended features extracted from hiphop.00082.wav with genre: hiphop\n",
      "appended features extracted from hiphop.00083.wav with genre: hiphop\n",
      "appended features extracted from hiphop.00084.wav with genre: hiphop\n",
      "appended features extracted from hiphop.00085.wav with genre: hiphop\n",
      "appended features extracted from hiphop.00086.wav with genre: hiphop\n",
      "appended features extracted from hiphop.00087.wav with genre: hiphop\n",
      "appended features extracted from hiphop.00088.wav with genre: hiphop\n",
      "appended features extracted from hiphop.00089.wav with genre: hiphop\n",
      "appended features extracted from hiphop.00090.wav with genre: hiphop\n",
      "appended features extracted from hiphop.00091.wav with genre: hiphop\n",
      "appended features extracted from hiphop.00092.wav with genre: hiphop\n",
      "appended features extracted from hiphop.00093.wav with genre: hiphop\n",
      "appended features extracted from hiphop.00094.wav with genre: hiphop\n",
      "appended features extracted from hiphop.00095.wav with genre: hiphop\n",
      "appended features extracted from hiphop.00096.wav with genre: hiphop\n",
      "appended features extracted from hiphop.00097.wav with genre: hiphop\n",
      "appended features extracted from hiphop.00098.wav with genre: hiphop\n",
      "appended features extracted from hiphop.00099.wav with genre: hiphop\n",
      "appended features extracted from pop.00000.wav with genre: pop\n",
      "appended features extracted from pop.00001.wav with genre: pop\n",
      "appended features extracted from pop.00002.wav with genre: pop\n",
      "appended features extracted from pop.00003.wav with genre: pop\n",
      "appended features extracted from pop.00004.wav with genre: pop\n",
      "appended features extracted from pop.00005.wav with genre: pop\n",
      "appended features extracted from pop.00006.wav with genre: pop\n",
      "appended features extracted from pop.00007.wav with genre: pop\n",
      "appended features extracted from pop.00008.wav with genre: pop\n",
      "appended features extracted from pop.00009.wav with genre: pop\n",
      "appended features extracted from pop.00010.wav with genre: pop\n",
      "appended features extracted from pop.00011.wav with genre: pop\n",
      "appended features extracted from pop.00012.wav with genre: pop\n",
      "appended features extracted from pop.00013.wav with genre: pop\n",
      "appended features extracted from pop.00014.wav with genre: pop\n",
      "appended features extracted from pop.00015.wav with genre: pop\n",
      "appended features extracted from pop.00016.wav with genre: pop\n",
      "appended features extracted from pop.00017.wav with genre: pop\n",
      "appended features extracted from pop.00018.wav with genre: pop\n",
      "appended features extracted from pop.00019.wav with genre: pop\n"
     ]
    },
    {
     "name": "stdout",
     "output_type": "stream",
     "text": [
      "appended features extracted from pop.00020.wav with genre: pop\n",
      "appended features extracted from pop.00021.wav with genre: pop\n",
      "appended features extracted from pop.00022.wav with genre: pop\n",
      "appended features extracted from pop.00023.wav with genre: pop\n",
      "appended features extracted from pop.00024.wav with genre: pop\n",
      "appended features extracted from pop.00025.wav with genre: pop\n",
      "appended features extracted from pop.00026.wav with genre: pop\n",
      "appended features extracted from pop.00027.wav with genre: pop\n",
      "appended features extracted from pop.00028.wav with genre: pop\n",
      "appended features extracted from pop.00029.wav with genre: pop\n",
      "appended features extracted from pop.00030.wav with genre: pop\n",
      "appended features extracted from pop.00031.wav with genre: pop\n",
      "appended features extracted from pop.00032.wav with genre: pop\n",
      "appended features extracted from pop.00033.wav with genre: pop\n",
      "appended features extracted from pop.00034.wav with genre: pop\n",
      "appended features extracted from pop.00035.wav with genre: pop\n",
      "appended features extracted from pop.00036.wav with genre: pop\n",
      "appended features extracted from pop.00037.wav with genre: pop\n",
      "appended features extracted from pop.00038.wav with genre: pop\n",
      "appended features extracted from pop.00039.wav with genre: pop\n",
      "appended features extracted from pop.00040.wav with genre: pop\n",
      "appended features extracted from pop.00041.wav with genre: pop\n",
      "appended features extracted from pop.00042.wav with genre: pop\n",
      "appended features extracted from pop.00043.wav with genre: pop\n",
      "appended features extracted from pop.00044.wav with genre: pop\n",
      "appended features extracted from pop.00045.wav with genre: pop\n",
      "appended features extracted from pop.00046.wav with genre: pop\n",
      "appended features extracted from pop.00047.wav with genre: pop\n",
      "appended features extracted from pop.00048.wav with genre: pop\n",
      "appended features extracted from pop.00049.wav with genre: pop\n",
      "appended features extracted from pop.00050.wav with genre: pop\n",
      "appended features extracted from pop.00051.wav with genre: pop\n",
      "appended features extracted from pop.00052.wav with genre: pop\n",
      "appended features extracted from pop.00053.wav with genre: pop\n",
      "appended features extracted from pop.00054.wav with genre: pop\n",
      "appended features extracted from pop.00055.wav with genre: pop\n",
      "appended features extracted from pop.00056.wav with genre: pop\n",
      "appended features extracted from pop.00057.wav with genre: pop\n",
      "appended features extracted from pop.00058.wav with genre: pop\n",
      "appended features extracted from pop.00059.wav with genre: pop\n",
      "appended features extracted from pop.00060.wav with genre: pop\n",
      "appended features extracted from pop.00061.wav with genre: pop\n",
      "appended features extracted from pop.00062.wav with genre: pop\n",
      "appended features extracted from pop.00063.wav with genre: pop\n",
      "appended features extracted from pop.00064.wav with genre: pop\n",
      "appended features extracted from pop.00065.wav with genre: pop\n",
      "appended features extracted from pop.00066.wav with genre: pop\n",
      "appended features extracted from pop.00067.wav with genre: pop\n",
      "appended features extracted from pop.00068.wav with genre: pop\n",
      "appended features extracted from pop.00069.wav with genre: pop\n",
      "appended features extracted from pop.00070.wav with genre: pop\n",
      "appended features extracted from pop.00071.wav with genre: pop\n",
      "appended features extracted from pop.00072.wav with genre: pop\n",
      "appended features extracted from pop.00073.wav with genre: pop\n",
      "appended features extracted from pop.00074.wav with genre: pop\n",
      "appended features extracted from pop.00075.wav with genre: pop\n",
      "appended features extracted from pop.00076.wav with genre: pop\n",
      "appended features extracted from pop.00077.wav with genre: pop\n",
      "appended features extracted from pop.00078.wav with genre: pop\n",
      "appended features extracted from pop.00079.wav with genre: pop\n",
      "appended features extracted from pop.00080.wav with genre: pop\n",
      "appended features extracted from pop.00081.wav with genre: pop\n",
      "appended features extracted from pop.00082.wav with genre: pop\n",
      "appended features extracted from pop.00083.wav with genre: pop\n",
      "appended features extracted from pop.00084.wav with genre: pop\n",
      "appended features extracted from pop.00085.wav with genre: pop\n",
      "appended features extracted from pop.00086.wav with genre: pop\n",
      "appended features extracted from pop.00087.wav with genre: pop\n",
      "appended features extracted from pop.00088.wav with genre: pop\n",
      "appended features extracted from pop.00089.wav with genre: pop\n",
      "appended features extracted from pop.00090.wav with genre: pop\n",
      "appended features extracted from pop.00091.wav with genre: pop\n",
      "appended features extracted from pop.00092.wav with genre: pop\n",
      "appended features extracted from pop.00093.wav with genre: pop\n",
      "appended features extracted from pop.00094.wav with genre: pop\n",
      "appended features extracted from pop.00095.wav with genre: pop\n",
      "appended features extracted from pop.00096.wav with genre: pop\n",
      "appended features extracted from pop.00097.wav with genre: pop\n",
      "appended features extracted from pop.00098.wav with genre: pop\n",
      "appended features extracted from pop.00099.wav with genre: pop\n",
      "appended features extracted from rock.00000.wav with genre: rock\n",
      "appended features extracted from rock.00001.wav with genre: rock\n",
      "appended features extracted from rock.00002.wav with genre: rock\n",
      "appended features extracted from rock.00003.wav with genre: rock\n",
      "appended features extracted from rock.00004.wav with genre: rock\n",
      "appended features extracted from rock.00005.wav with genre: rock\n",
      "appended features extracted from rock.00006.wav with genre: rock\n",
      "appended features extracted from rock.00007.wav with genre: rock\n",
      "appended features extracted from rock.00008.wav with genre: rock\n",
      "appended features extracted from rock.00009.wav with genre: rock\n",
      "appended features extracted from rock.00010.wav with genre: rock\n",
      "appended features extracted from rock.00011.wav with genre: rock\n",
      "appended features extracted from rock.00012.wav with genre: rock\n",
      "appended features extracted from rock.00013.wav with genre: rock\n",
      "appended features extracted from rock.00014.wav with genre: rock\n",
      "appended features extracted from rock.00015.wav with genre: rock\n",
      "appended features extracted from rock.00016.wav with genre: rock\n",
      "appended features extracted from rock.00017.wav with genre: rock\n",
      "appended features extracted from rock.00018.wav with genre: rock\n",
      "appended features extracted from rock.00019.wav with genre: rock\n",
      "appended features extracted from rock.00020.wav with genre: rock\n",
      "appended features extracted from rock.00021.wav with genre: rock\n",
      "appended features extracted from rock.00022.wav with genre: rock\n",
      "appended features extracted from rock.00023.wav with genre: rock\n",
      "appended features extracted from rock.00024.wav with genre: rock\n",
      "appended features extracted from rock.00025.wav with genre: rock\n",
      "appended features extracted from rock.00026.wav with genre: rock\n",
      "appended features extracted from rock.00027.wav with genre: rock\n",
      "appended features extracted from rock.00028.wav with genre: rock\n",
      "appended features extracted from rock.00029.wav with genre: rock\n",
      "appended features extracted from rock.00030.wav with genre: rock\n",
      "appended features extracted from rock.00031.wav with genre: rock\n",
      "appended features extracted from rock.00032.wav with genre: rock\n",
      "appended features extracted from rock.00033.wav with genre: rock\n",
      "appended features extracted from rock.00034.wav with genre: rock\n",
      "appended features extracted from rock.00035.wav with genre: rock\n",
      "appended features extracted from rock.00036.wav with genre: rock\n",
      "appended features extracted from rock.00037.wav with genre: rock\n",
      "appended features extracted from rock.00038.wav with genre: rock\n",
      "appended features extracted from rock.00039.wav with genre: rock\n",
      "appended features extracted from rock.00040.wav with genre: rock\n",
      "appended features extracted from rock.00041.wav with genre: rock\n",
      "appended features extracted from rock.00042.wav with genre: rock\n",
      "appended features extracted from rock.00043.wav with genre: rock\n",
      "appended features extracted from rock.00044.wav with genre: rock\n",
      "appended features extracted from rock.00045.wav with genre: rock\n",
      "appended features extracted from rock.00046.wav with genre: rock\n",
      "appended features extracted from rock.00047.wav with genre: rock\n",
      "appended features extracted from rock.00048.wav with genre: rock\n"
     ]
    },
    {
     "name": "stdout",
     "output_type": "stream",
     "text": [
      "appended features extracted from rock.00049.wav with genre: rock\n",
      "appended features extracted from rock.00050.wav with genre: rock\n",
      "appended features extracted from rock.00051.wav with genre: rock\n",
      "appended features extracted from rock.00052.wav with genre: rock\n",
      "appended features extracted from rock.00053.wav with genre: rock\n",
      "appended features extracted from rock.00054.wav with genre: rock\n",
      "appended features extracted from rock.00055.wav with genre: rock\n",
      "appended features extracted from rock.00056.wav with genre: rock\n",
      "appended features extracted from rock.00057.wav with genre: rock\n",
      "appended features extracted from rock.00058.wav with genre: rock\n",
      "appended features extracted from rock.00059.wav with genre: rock\n",
      "appended features extracted from rock.00060.wav with genre: rock\n",
      "appended features extracted from rock.00061.wav with genre: rock\n",
      "appended features extracted from rock.00062.wav with genre: rock\n",
      "appended features extracted from rock.00063.wav with genre: rock\n",
      "appended features extracted from rock.00064.wav with genre: rock\n",
      "appended features extracted from rock.00065.wav with genre: rock\n",
      "appended features extracted from rock.00066.wav with genre: rock\n",
      "appended features extracted from rock.00067.wav with genre: rock\n",
      "appended features extracted from rock.00068.wav with genre: rock\n",
      "appended features extracted from rock.00069.wav with genre: rock\n",
      "appended features extracted from rock.00070.wav with genre: rock\n",
      "appended features extracted from rock.00071.wav with genre: rock\n",
      "appended features extracted from rock.00072.wav with genre: rock\n",
      "appended features extracted from rock.00073.wav with genre: rock\n",
      "appended features extracted from rock.00074.wav with genre: rock\n",
      "appended features extracted from rock.00075.wav with genre: rock\n",
      "appended features extracted from rock.00076.wav with genre: rock\n",
      "appended features extracted from rock.00077.wav with genre: rock\n",
      "appended features extracted from rock.00078.wav with genre: rock\n",
      "appended features extracted from rock.00079.wav with genre: rock\n",
      "appended features extracted from rock.00080.wav with genre: rock\n",
      "appended features extracted from rock.00081.wav with genre: rock\n",
      "appended features extracted from rock.00082.wav with genre: rock\n",
      "appended features extracted from rock.00083.wav with genre: rock\n",
      "appended features extracted from rock.00084.wav with genre: rock\n",
      "appended features extracted from rock.00085.wav with genre: rock\n",
      "appended features extracted from rock.00086.wav with genre: rock\n",
      "appended features extracted from rock.00087.wav with genre: rock\n",
      "appended features extracted from rock.00088.wav with genre: rock\n",
      "appended features extracted from rock.00089.wav with genre: rock\n",
      "appended features extracted from rock.00090.wav with genre: rock\n",
      "appended features extracted from rock.00091.wav with genre: rock\n",
      "appended features extracted from rock.00092.wav with genre: rock\n",
      "appended features extracted from rock.00093.wav with genre: rock\n",
      "appended features extracted from rock.00094.wav with genre: rock\n",
      "appended features extracted from rock.00095.wav with genre: rock\n",
      "appended features extracted from rock.00096.wav with genre: rock\n",
      "appended features extracted from rock.00097.wav with genre: rock\n",
      "appended features extracted from rock.00098.wav with genre: rock\n",
      "appended features extracted from rock.00099.wav with genre: rock\n",
      "done\n"
     ]
    }
   ],
   "source": [
    "# %%px_first\n",
    "# GTZAN\n",
    "# extract features\n",
    "\n",
    "print('extracting features from gtzan dataset')\n",
    "\n",
    "for file in os.scandir(MOUNTED_DATASET_PATH + '/gtzan/wavfiles'):\n",
    "    if file.is_file():\n",
    "        genre_label = str(file.name).split('.')[0]\n",
    "        if genre_label in GENRES:\n",
    "            dataframe_gtzan = extract_audio_features(dataframe_gtzan, file, genre_label, 'gtzan')\n",
    "            \n",
    "dataframe_gtzan.to_csv('data/features_gtzan.csv')\n",
    "print('done')"
   ]
  },
  {
   "cell_type": "code",
   "execution_count": 23,
   "metadata": {},
   "outputs": [
    {
     "data": {
      "text/plain": [
       "<AsyncResult: execute>"
      ]
     },
     "execution_count": 23,
     "metadata": {},
     "output_type": "execute_result"
    }
   ],
   "source": [
    "# %%px_first --targets 1 --noblock\n",
    "# FMA\n",
    "# extract features\n",
    "\n",
    "print('extracting features from fma dataset')\n",
    "\n",
    "for directory in os.scandir(MOUNTED_DATASET_PATH + '/fma_small'):\n",
    "    if directory.is_dir():\n",
    "        for file in os.scandir(directory.path):\n",
    "            if file.is_file():\n",
    "                track_id = int(file.name[:-4].lstrip('0'))\n",
    "                # map track id to genre label\n",
    "                genre_label = fma_small.at[track_id, 'label'].lower().replace('-', '')\n",
    "                if genre_label in GENRES:\n",
    "                    dataframe_fma = extract_audio_features(dataframe_fma, file, genre_label, 'fma')\n",
    "                    \n",
    "dataframe_fma.to_csv('data/features_fma.csv')\n",
    "print(done)"
   ]
  },
  {
   "cell_type": "code",
   "execution_count": 41,
   "metadata": {},
   "outputs": [
    {
     "name": "stdout",
     "output_type": "stream",
     "text": [
      "extracting log-mel from gtzan dataset\n"
     ]
    },
    {
     "name": "stderr",
     "output_type": "stream",
     "text": [
      "/home/macbookretina/.local/lib/python3.5/site-packages/librosa/core/spectrum.py:1702: UserWarning: amplitude_to_db was called on complex input so phase information will be discarded. To suppress this warning, call amplitude_to_db(np.abs(S)) instead.\n",
      "  warnings.warn('amplitude_to_db was called on complex input so phase '\n"
     ]
    },
    {
     "name": "stdout",
     "output_type": "stream",
     "text": [
      "The sizes of all the log-mel in our data set are equal: False\n",
      "The maximum size is: (84, 1320)\n"
     ]
    }
   ],
   "source": [
    "# check size of  log-mel / constant-Q transform in gtzan\n",
    "\n",
    "# create an empty list to store sizes in\n",
    "sizes = []\n",
    "print('extracting log-mel from gtzan dataset')\n",
    "for file in os.scandir(MOUNTED_DATASET_PATH + '/gtzan/wavfiles'):\n",
    "    if file.is_file():\n",
    "        # extract genre label\n",
    "        genre_label = str(file.name).split('.')[0]\n",
    "        if genre_label in GENRES:\n",
    "            scaled_cqt = extract_cqt(file)\n",
    "            # adding the size to the list\n",
    "            sizes.append(scaled_cqt.shape)\n",
    "\n",
    "# check if all sizes are the same\n",
    "print('The sizes of all the log-mel in our data set are equal: ' +  str(len(set(sizes)) == 1))\n",
    "# check the max size\n",
    "print('The maximum size is: ' + str(max(sizes)))"
   ]
  },
  {
   "cell_type": "code",
   "execution_count": 42,
   "metadata": {},
   "outputs": [
    {
     "name": "stdout",
     "output_type": "stream",
     "text": [
      "extracting mel-spectogram from gtzan dataset\n",
      "The sizes of all the log-mel in our data set are equal: False\n",
      "The maximum size is: (128, 1320)\n"
     ]
    }
   ],
   "source": [
    "# check size of mel-spectogram in gtzan\n",
    "\n",
    "# create an empty list to store sizes in\n",
    "sizes_2 = []\n",
    "print('extracting mel-spectogram from gtzan dataset')\n",
    "for file in os.scandir(MOUNTED_DATASET_PATH + '/gtzan/wavfiles'):\n",
    "    if file.is_file():\n",
    "        # extract genre label\n",
    "        genre_label = str(file.name).split('.')[0]\n",
    "        if genre_label in GENRES:\n",
    "            scaled_mel_spect = extract_mel_spect(file)\n",
    "            # adding the size to the list\n",
    "            sizes.append(scaled_mel_spect.shape)\n",
    "    \n",
    "# check if all sizes are the same\n",
    "print('The sizes of all the log-mel in our data set are equal: ' +  str(len(set(sizes)) == 1))\n",
    "# check the max size\n",
    "print('The maximum size is: ' + str(max(sizes)))"
   ]
  },
  {
   "cell_type": "code",
   "execution_count": 24,
   "metadata": {
    "scrolled": true
   },
   "outputs": [
    {
     "data": {
      "text/plain": [
       "<AsyncResult: execute>"
      ]
     },
     "execution_count": 24,
     "metadata": {},
     "output_type": "execute_result"
    }
   ],
   "source": [
    "%%px_first --targets 2 --noblock\n",
    "# check size of  log-mel / constant-Q transform in fma\n",
    "    \n",
    "# creating an empty list to store sizes in\n",
    "sizes = []\n",
    "print('extracting log-mel from fma dataset')\n",
    "for directory in os.scandir(MOUNTED_DATASET_PATH + '/fma_small'):\n",
    "    if directory.is_dir():\n",
    "        for file in os.scandir(directory.path):\n",
    "            if file.is_file():\n",
    "                # extract track id\n",
    "                track_id = int(file.name[:-4].lstrip('0'))\n",
    "                # map track id to genre label\n",
    "                genre_label = fma_small.at[track_id, 'label'].lower().replace('-', '')\n",
    "                if genre_label in GENRES:\n",
    "                    scaled_cqt = extract_cqt(file)\n",
    "                    # adding the size to the list\n",
    "                    sizes.append(scaled_cqt.shape)\n",
    "\n",
    "# check if all sizes are the same\n",
    "print('The sizes of all the log-mel in our data set are equal: ' +  str(len(set(sizes)) == 1))\n",
    "# check the max size\n",
    "print('The maximum size is: ' + str(max(sizes)))"
   ]
  },
  {
   "cell_type": "code",
   "execution_count": 25,
   "metadata": {},
   "outputs": [
    {
     "data": {
      "text/plain": [
       "<AsyncResult: execute>"
      ]
     },
     "execution_count": 25,
     "metadata": {},
     "output_type": "execute_result"
    }
   ],
   "source": [
    "%%px_first --targets 3 --noblock\n",
    "# check size of  mel-spectogram  in fma\n",
    "\n",
    "# creating an empty list to store sizes in\n",
    "sizes = []\n",
    "print('extracting mel-spectogram  from fma dataset')\n",
    "for directory in os.scandir(MOUNTED_DATASET_PATH + '/fma_small'):\n",
    "    if directory.is_dir():\n",
    "        for file in os.scandir(directory.path):\n",
    "            if file.is_file():\n",
    "                # extract track id\n",
    "                track_id = int(file.name[:-4].lstrip('0'))\n",
    "                # map track id to genre label\n",
    "                genre_label = fma_small.at[track_id, 'label'].lower().replace('-', '')\n",
    "                if genre_label in GENRES:\n",
    "                    scaled_mel_spect = extract_mel_spect(file)\n",
    "                    # adding the size to the list\n",
    "                    sizes.append(scaled_mel_spect.shape)                \n",
    "\n",
    "# check if all sizes are the same\n",
    "print('The sizes of all the log-mel in our data set are equal: ' +  str(len(set(sizes)) == 1))\n",
    "# check the max size\n",
    "print('The maximum size is: ' + str(max(sizes)))"
   ]
  },
  {
   "cell_type": "code",
   "execution_count": null,
   "metadata": {},
   "outputs": [],
   "source": [
    "%%px_last --targets 4 --noblock\n",
    "# extract log-mel / constant-Q transform in gtzan\n",
    "\n",
    "# create an empty list to store extract feature and label\n",
    "cqts = []\n",
    "genre_labels_1 = []\n",
    "data_sources_1 = []\n",
    "\n",
    "print('extracting log-mel from gtzan dataset')\n",
    "\n",
    "for file in os.scandir(MOUNTED_DATASET_PATH + '/gtzan/wavfiles'):\n",
    "    if file.is_file():\n",
    "        # extract genre label\n",
    "        genre_label = str(file.name).split('.')[0]\n",
    "        \n",
    "        if genre_label in GENRES:\n",
    "            # append to list\n",
    "            genre_labels_1.append(genre_label)\n",
    "            data_sources_1.append('gtzan')\n",
    "\n",
    "            scaled_cqt = extract_cqt(file)\n",
    "\n",
    "            # adjust the size to (84, 1320) as it is the max size\n",
    "            if scaled_cqt.shape[1] != 1320:\n",
    "                scaled_cqt.resize(84, 1320, refcheck=False)\n",
    "\n",
    "            # flatten to fit into dataframe and add to the list\n",
    "            scaled_cqt = scaled_cqt.flatten()\n",
    "            cqts.append(scaled_cqt)\n",
    "\n",
    "for directory in os.scandir(MOUNTED_DATASET_PATH + '/fma_small'):\n",
    "    if directory.is_dir():\n",
    "        for file in os.scandir(directory.path):\n",
    "            if file.is_file():\n",
    "\n",
    "                # extract track id and map track id to genre label\n",
    "                track_id = int(file.name[:-4].lstrip('0'))\n",
    "                genre_label = fma_small.at[track_id, 'label'].lower().replace('-', '')\n",
    "\n",
    "                if genre_label in GENRES:\n",
    "                    # append to list\n",
    "                    genre_labels_1.append(genre_label)\n",
    "                    data_sources.append('fma')\n",
    "                    \n",
    "                    scaled_cqt = extract_cqt(file)\n",
    "\n",
    "                    # adjust the size to (84, 1320) as it is the max size\n",
    "#                     if scaled_cqt.shape[1] != 1320:\n",
    "#                         scaled_cqt.resize(84, 1320, refcheck=False)\n",
    "\n",
    "#                     # flatten to fit into dataframe and add to the list\n",
    "#                     scaled_cqt = scaled_cqt.flatten()\n",
    "#                     cqts.append(scaled_cqt)\n",
    "        \n",
    "# convert the lists to arrays so it can be stacked\n",
    "# cqts = np.array(cqts)\n",
    "# genre_labels = np.array(genre_labels).reshape(1000, 1)\n",
    "# data_sources = np.array(data_sources).reshape(1000, 1)\n",
    "\n",
    "# # create dataframe\n",
    "# cqt_df = pd.DataFrame(np.hstack((genre_labels, data_sources, cqts)))\n",
    "# cqt_df.to_csv('data/cqt.csv')"
   ]
  },
  {
   "cell_type": "code",
   "execution_count": null,
   "metadata": {},
   "outputs": [],
   "source": []
  },
  {
   "cell_type": "code",
   "execution_count": null,
   "metadata": {},
   "outputs": [],
   "source": [
    "%%px_last --targets 5 --noblock\n",
    "# extract mel-spectogram in gtzan\n",
    "\n",
    "# create an empty list to store extract feature and label\n",
    "mel_spects = []\n",
    "genre_labels_2 = []\n",
    "data_sources_2 = []\n",
    "\n",
    "print('extracting mel-spectogram from gtzan dataset')\n",
    "\n",
    "for file in os.scandir(MOUNTED_DATASET_PATH + '/gtzan/wavfiles'):\n",
    "    if file.is_file():\n",
    "        # extract genre label and append to list\n",
    "        genre_label = str(file.name).split('.')[0]\n",
    "        genre_labels_2.append(genre_label)\n",
    "        \n",
    "        if genre_label in GENRES:\n",
    "            # append to list\n",
    "            genre_labels_2.append(genre_label)\n",
    "            data_sources_2.append('gtzan')\n",
    "        \n",
    "            scaled_mel_spect = extract_mel_spect(file)\n",
    "\n",
    "            # adjust the size to (128, 1320) as it is the max size\n",
    "            if scaled_mel_spect.shape[1] != 1320:\n",
    "                scaled_mel_spect.resize(128, 1320, refcheck=False)\n",
    "\n",
    "            # flatten to fit into dataframe and add to the list\n",
    "            scaled_mel_spect = scaled_mel_spect.flatten()\n",
    "            mel_spects.append(scaled_mel_spect)\n",
    "            \n",
    "for directory in os.scandir(MOUNTED_DATASET_PATH + '/fma_small'):\n",
    "    if directory.is_dir():\n",
    "        for file in os.scandir(directory.path):\n",
    "            if file.is_file():\n",
    "\n",
    "                # extract track id and map track id to genre label\n",
    "                track_id = int(file.name[:-4].lstrip('0'))\n",
    "                genre_label = fma_small.at[track_id, 'label'].lower().replace('-', '')\n",
    "\n",
    "                if genre_label in GENRES:\n",
    "                    # append to list\n",
    "                    genre_labels_2.append(genre_label)\n",
    "                    data_sources_2.append('fma')\n",
    "\n",
    "                    scaled_mel_spect = extract_mel_spect(file)\n",
    "\n",
    "                    # adjust the size to (128, 1320) as it is the max size\n",
    "#                     if scaled_mel_spect.shape[1] != 1320:\n",
    "#                         scaled_mel_spect.resize(128, 1320, refcheck=False)\n",
    "\n",
    "#                     # flatten to fit into dataframe and add to the list\n",
    "#                     scaled_mel_spect = scaled_mel_spect.flatten()\n",
    "#                     mel_spects.append(scaled_mel_spect)    \n",
    "                    \n",
    "# convert the lists to arrays so it can be stacked\n",
    "# mel_spects = np.array(mel_spects)\n",
    "# genre_labels = np.array(genre_labels).reshape(1000, 1)\n",
    "\n",
    "# # create dataframe\n",
    "# mel_spect_df = pd.DataFrame(np.hstack((genre_labels, mel_spects)))\n",
    "# mel_spect_df.to_csv('data/mel_spect.csv')"
   ]
  },
  {
   "cell_type": "code",
   "execution_count": 26,
   "metadata": {
    "collapsed": true
   },
   "outputs": [
    {
     "ename": "KeyboardInterrupt",
     "evalue": "",
     "output_type": "error",
     "traceback": [
      "\u001b[0;31m---------------------------------------------------------------------------\u001b[0m",
      "\u001b[0;31mKeyboardInterrupt\u001b[0m                         Traceback (most recent call last)",
      "\u001b[0;32m<ipython-input-26-1ec5fee5ff29>\u001b[0m in \u001b[0;36m<module>\u001b[0;34m\u001b[0m\n\u001b[0;32m----> 1\u001b[0;31m \u001b[0mget_ipython\u001b[0m\u001b[0;34m(\u001b[0m\u001b[0;34m)\u001b[0m\u001b[0;34m.\u001b[0m\u001b[0mrun_line_magic\u001b[0m\u001b[0;34m(\u001b[0m\u001b[0;34m'pxresult_first'\u001b[0m\u001b[0;34m,\u001b[0m \u001b[0;34m''\u001b[0m\u001b[0;34m)\u001b[0m\u001b[0;34m\u001b[0m\u001b[0m\n\u001b[0m",
      "\u001b[0;32m/usr/local/lib/python3.5/dist-packages/IPython/core/interactiveshell.py\u001b[0m in \u001b[0;36mrun_line_magic\u001b[0;34m(self, magic_name, line, _stack_depth)\u001b[0m\n\u001b[1;32m   2312\u001b[0m                 \u001b[0mkwargs\u001b[0m\u001b[0;34m[\u001b[0m\u001b[0;34m'local_ns'\u001b[0m\u001b[0;34m]\u001b[0m \u001b[0;34m=\u001b[0m \u001b[0msys\u001b[0m\u001b[0;34m.\u001b[0m\u001b[0m_getframe\u001b[0m\u001b[0;34m(\u001b[0m\u001b[0mstack_depth\u001b[0m\u001b[0;34m)\u001b[0m\u001b[0;34m.\u001b[0m\u001b[0mf_locals\u001b[0m\u001b[0;34m\u001b[0m\u001b[0m\n\u001b[1;32m   2313\u001b[0m             \u001b[0;32mwith\u001b[0m \u001b[0mself\u001b[0m\u001b[0;34m.\u001b[0m\u001b[0mbuiltin_trap\u001b[0m\u001b[0;34m:\u001b[0m\u001b[0;34m\u001b[0m\u001b[0m\n\u001b[0;32m-> 2314\u001b[0;31m                 \u001b[0mresult\u001b[0m \u001b[0;34m=\u001b[0m \u001b[0mfn\u001b[0m\u001b[0;34m(\u001b[0m\u001b[0;34m*\u001b[0m\u001b[0margs\u001b[0m\u001b[0;34m,\u001b[0m \u001b[0;34m**\u001b[0m\u001b[0mkwargs\u001b[0m\u001b[0;34m)\u001b[0m\u001b[0;34m\u001b[0m\u001b[0m\n\u001b[0m\u001b[1;32m   2315\u001b[0m             \u001b[0;32mreturn\u001b[0m \u001b[0mresult\u001b[0m\u001b[0;34m\u001b[0m\u001b[0m\n\u001b[1;32m   2316\u001b[0m \u001b[0;34m\u001b[0m\u001b[0m\n",
      "\u001b[0;32m~/.local/lib/python3.5/site-packages/ipyparallel/client/magics.py\u001b[0m in \u001b[0;36mresult\u001b[0;34m(self, line)\u001b[0m\n\u001b[1;32m    237\u001b[0m             \u001b[0;32mraise\u001b[0m \u001b[0mUsageError\u001b[0m\u001b[0;34m(\u001b[0m\u001b[0mNO_LAST_RESULT\u001b[0m\u001b[0;34m)\u001b[0m\u001b[0;34m\u001b[0m\u001b[0m\n\u001b[1;32m    238\u001b[0m \u001b[0;34m\u001b[0m\u001b[0m\n\u001b[0;32m--> 239\u001b[0;31m         \u001b[0mself\u001b[0m\u001b[0;34m.\u001b[0m\u001b[0mlast_result\u001b[0m\u001b[0;34m.\u001b[0m\u001b[0mget\u001b[0m\u001b[0;34m(\u001b[0m\u001b[0;34m)\u001b[0m\u001b[0;34m\u001b[0m\u001b[0m\n\u001b[0m\u001b[1;32m    240\u001b[0m         \u001b[0mself\u001b[0m\u001b[0;34m.\u001b[0m\u001b[0mlast_result\u001b[0m\u001b[0;34m.\u001b[0m\u001b[0mdisplay_outputs\u001b[0m\u001b[0;34m(\u001b[0m\u001b[0mgroupby\u001b[0m\u001b[0;34m=\u001b[0m\u001b[0margs\u001b[0m\u001b[0;34m.\u001b[0m\u001b[0mgroupby\u001b[0m\u001b[0;34m)\u001b[0m\u001b[0;34m\u001b[0m\u001b[0m\n\u001b[1;32m    241\u001b[0m \u001b[0;34m\u001b[0m\u001b[0m\n",
      "\u001b[0;32m~/.local/lib/python3.5/site-packages/ipyparallel/client/asyncresult.py\u001b[0m in \u001b[0;36mget\u001b[0;34m(self, timeout)\u001b[0m\n\u001b[1;32m    161\u001b[0m         \"\"\"\n\u001b[1;32m    162\u001b[0m         \u001b[0;32mif\u001b[0m \u001b[0;32mnot\u001b[0m \u001b[0mself\u001b[0m\u001b[0;34m.\u001b[0m\u001b[0mready\u001b[0m\u001b[0;34m(\u001b[0m\u001b[0;34m)\u001b[0m\u001b[0;34m:\u001b[0m\u001b[0;34m\u001b[0m\u001b[0m\n\u001b[0;32m--> 163\u001b[0;31m             \u001b[0mself\u001b[0m\u001b[0;34m.\u001b[0m\u001b[0mwait\u001b[0m\u001b[0;34m(\u001b[0m\u001b[0mtimeout\u001b[0m\u001b[0;34m)\u001b[0m\u001b[0;34m\u001b[0m\u001b[0m\n\u001b[0m\u001b[1;32m    164\u001b[0m \u001b[0;34m\u001b[0m\u001b[0m\n\u001b[1;32m    165\u001b[0m         \u001b[0;32mif\u001b[0m \u001b[0mself\u001b[0m\u001b[0;34m.\u001b[0m\u001b[0m_ready\u001b[0m\u001b[0;34m:\u001b[0m\u001b[0;34m\u001b[0m\u001b[0m\n",
      "\u001b[0;32m~/.local/lib/python3.5/site-packages/ipyparallel/client/asyncresult.py\u001b[0m in \u001b[0;36mwait\u001b[0;34m(self, timeout)\u001b[0m\n\u001b[1;32m    211\u001b[0m             \u001b[0mtimeout\u001b[0m \u001b[0;34m=\u001b[0m \u001b[0;32mNone\u001b[0m\u001b[0;34m\u001b[0m\u001b[0m\n\u001b[1;32m    212\u001b[0m \u001b[0;34m\u001b[0m\u001b[0m\n\u001b[0;32m--> 213\u001b[0;31m         \u001b[0mself\u001b[0m\u001b[0;34m.\u001b[0m\u001b[0m_ready_event\u001b[0m\u001b[0;34m.\u001b[0m\u001b[0mwait\u001b[0m\u001b[0;34m(\u001b[0m\u001b[0mtimeout\u001b[0m\u001b[0;34m)\u001b[0m\u001b[0;34m\u001b[0m\u001b[0m\n\u001b[0m\u001b[1;32m    214\u001b[0m         \u001b[0mself\u001b[0m\u001b[0;34m.\u001b[0m\u001b[0mwait_for_output\u001b[0m\u001b[0;34m(\u001b[0m\u001b[0;36m0\u001b[0m\u001b[0;34m)\u001b[0m\u001b[0;34m\u001b[0m\u001b[0m\n\u001b[1;32m    215\u001b[0m         \u001b[0;32mreturn\u001b[0m \u001b[0mself\u001b[0m\u001b[0;34m.\u001b[0m\u001b[0m_ready\u001b[0m\u001b[0;34m\u001b[0m\u001b[0m\n",
      "\u001b[0;32m/usr/lib/python3.5/threading.py\u001b[0m in \u001b[0;36mwait\u001b[0;34m(self, timeout)\u001b[0m\n\u001b[1;32m    547\u001b[0m             \u001b[0msignaled\u001b[0m \u001b[0;34m=\u001b[0m \u001b[0mself\u001b[0m\u001b[0;34m.\u001b[0m\u001b[0m_flag\u001b[0m\u001b[0;34m\u001b[0m\u001b[0m\n\u001b[1;32m    548\u001b[0m             \u001b[0;32mif\u001b[0m \u001b[0;32mnot\u001b[0m \u001b[0msignaled\u001b[0m\u001b[0;34m:\u001b[0m\u001b[0;34m\u001b[0m\u001b[0m\n\u001b[0;32m--> 549\u001b[0;31m                 \u001b[0msignaled\u001b[0m \u001b[0;34m=\u001b[0m \u001b[0mself\u001b[0m\u001b[0;34m.\u001b[0m\u001b[0m_cond\u001b[0m\u001b[0;34m.\u001b[0m\u001b[0mwait\u001b[0m\u001b[0;34m(\u001b[0m\u001b[0mtimeout\u001b[0m\u001b[0;34m)\u001b[0m\u001b[0;34m\u001b[0m\u001b[0m\n\u001b[0m\u001b[1;32m    550\u001b[0m             \u001b[0;32mreturn\u001b[0m \u001b[0msignaled\u001b[0m\u001b[0;34m\u001b[0m\u001b[0m\n\u001b[1;32m    551\u001b[0m \u001b[0;34m\u001b[0m\u001b[0m\n",
      "\u001b[0;32m/usr/lib/python3.5/threading.py\u001b[0m in \u001b[0;36mwait\u001b[0;34m(self, timeout)\u001b[0m\n\u001b[1;32m    291\u001b[0m         \u001b[0;32mtry\u001b[0m\u001b[0;34m:\u001b[0m    \u001b[0;31m# restore state no matter what (e.g., KeyboardInterrupt)\u001b[0m\u001b[0;34m\u001b[0m\u001b[0m\n\u001b[1;32m    292\u001b[0m             \u001b[0;32mif\u001b[0m \u001b[0mtimeout\u001b[0m \u001b[0;32mis\u001b[0m \u001b[0;32mNone\u001b[0m\u001b[0;34m:\u001b[0m\u001b[0;34m\u001b[0m\u001b[0m\n\u001b[0;32m--> 293\u001b[0;31m                 \u001b[0mwaiter\u001b[0m\u001b[0;34m.\u001b[0m\u001b[0macquire\u001b[0m\u001b[0;34m(\u001b[0m\u001b[0;34m)\u001b[0m\u001b[0;34m\u001b[0m\u001b[0m\n\u001b[0m\u001b[1;32m    294\u001b[0m                 \u001b[0mgotit\u001b[0m \u001b[0;34m=\u001b[0m \u001b[0;32mTrue\u001b[0m\u001b[0;34m\u001b[0m\u001b[0m\n\u001b[1;32m    295\u001b[0m             \u001b[0;32melse\u001b[0m\u001b[0;34m:\u001b[0m\u001b[0;34m\u001b[0m\u001b[0m\n",
      "\u001b[0;31mKeyboardInterrupt\u001b[0m: "
     ]
    }
   ],
   "source": [
    "%pxresult_first"
   ]
  },
  {
   "cell_type": "code",
   "execution_count": null,
   "metadata": {},
   "outputs": [],
   "source": [
    "%pxresult_last"
   ]
  }
 ],
 "metadata": {
  "kernelspec": {
   "display_name": "Python 3",
   "language": "python",
   "name": "python3"
  },
  "language_info": {
   "codemirror_mode": {
    "name": "ipython",
    "version": 3
   },
   "file_extension": ".py",
   "mimetype": "text/x-python",
   "name": "python",
   "nbconvert_exporter": "python",
   "pygments_lexer": "ipython3",
   "version": "3.5.3"
  }
 },
 "nbformat": 4,
 "nbformat_minor": 2
}
