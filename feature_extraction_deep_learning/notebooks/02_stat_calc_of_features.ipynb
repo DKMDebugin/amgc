{
 "cells": [
  {
   "cell_type": "code",
   "execution_count": 1,
   "metadata": {},
   "outputs": [],
   "source": [
    "from collections import Counter\n",
    "from scipy.stats import entropy, skew\n",
    "import librosa\n",
    "import numpy as np\n",
    "import pywt"
   ]
  },
  {
   "cell_type": "code",
   "execution_count": 2,
   "metadata": {},
   "outputs": [],
   "source": [
    "# Utility functions\n",
    "def stats(feature):\n",
    "    return {\n",
    "        'mean': np.mean(feature), \n",
    "        'median': np.median(feature), \n",
    "        'std': np.std(feature), \n",
    "        'var': np.var(feature)\n",
    "    }\n",
    "\n",
    "def calc_entropy(feature):\n",
    "    counter_values = Counter(feature).most_common()\n",
    "    probabilities = [elem[1] / len(feature) for elem in counter_values]\n",
    "    entropy_val = entropy(probabilities)\n",
    "    return entropy_val\n",
    "\n",
    "def extra_stats(feature):\n",
    "\n",
    "    return {\n",
    "        'sb_energy': np.mean(np.abs(feature)),\n",
    "        'skewness': skew(feature),\n",
    "        '5th_percentile': np.nanpercentile(feature, 5),\n",
    "        '25th_percentile': np.nanpercentile(feature, 25),\n",
    "        '75th_percentile': np.nanpercentile(feature, 75),\n",
    "        '95th_percentile': np.nanpercentile(feature, 95),\n",
    "        'rms': np.nanmean(np.sqrt(feature ** 2)),\n",
    "        'zcr': len(np.nonzero(np.diff(np.array(feature) > 0))[0]),\n",
    "        'mcr': len(np.nonzero(np.diff(np.array(feature) > np.nanmean(feature)))[0]),\n",
    "        'entropy': calc_entropy(feature),\n",
    "    }"
   ]
  },
  {
   "cell_type": "code",
   "execution_count": 3,
   "metadata": {},
   "outputs": [],
   "source": [
    "WAV_FILE = '/Users/macbookretina/blues.00042.wav'\n",
    "MP3_FILE = '/Users/macbookretina/073192.mp3'"
   ]
  },
  {
   "cell_type": "code",
   "execution_count": 4,
   "metadata": {
    "collapsed": true
   },
   "outputs": [
    {
     "name": "stderr",
     "output_type": "stream",
     "text": [
      "/Users/macbookretina/Desktop/automatic-music-genre-classification/venv/lib/python3.7/site-packages/librosa/core/audio.py:161: UserWarning: PySoundFile failed. Trying audioread instead.\n",
      "  warnings.warn('PySoundFile failed. Trying audioread instead.')\n"
     ]
    },
    {
     "data": {
      "text/plain": "(44100, array([0., 0., 0., ..., 0., 0., 0.], dtype=float32))"
     },
     "execution_count": 4,
     "metadata": {},
     "output_type": "execute_result"
    }
   ],
   "source": [
    "# get sample rate\n",
    "sample_rate = librosa.core.get_samplerate(MP3_FILE)\n",
    "# load audio file\n",
    "time_series, _ = librosa.core.load(MP3_FILE, sample_rate)\n",
    "sample_rate, time_series"
   ]
  },
  {
   "cell_type": "code",
   "execution_count": 5,
   "metadata": {
    "collapsed": true
   },
   "outputs": [
    {
     "data": {
      "text/plain": "30.01469387755102"
     },
     "execution_count": 5,
     "metadata": {},
     "output_type": "execute_result"
    }
   ],
   "source": [
    "# get duration of audio file in seconds\n",
    "duration = librosa.core.get_duration(time_series, sample_rate)\n",
    "duration"
   ]
  },
  {
   "cell_type": "code",
   "execution_count": 7,
   "metadata": {},
   "outputs": [
    {
     "data": {
      "text/plain": "{'mean': 2466.2723095286774,\n 'median': 2467.4650265412383,\n 'std': 519.9890086259651,\n 'var': 270388.56909181405}"
     },
     "execution_count": 7,
     "metadata": {},
     "output_type": "execute_result"
    }
   ],
   "source": [
    "# compute spectral centroid\n",
    "spec_centroid = librosa.feature.spectral_centroid(time_series, sample_rate)\n",
    "stats_spec_centroid = stats(spec_centroid)\n",
    "\n",
    "stats_spec_centroid"
   ]
  },
  {
   "cell_type": "code",
   "execution_count": 18,
   "metadata": {},
   "outputs": [
    {
     "data": {
      "text/plain": [
       "{'mean': 5187.578453541908,\n",
       " 'median': 5189.501953125,\n",
       " 'std': 750.5816483033326,\n",
       " 'var': 563372.8107697476}"
      ]
     },
     "execution_count": 18,
     "metadata": {},
     "output_type": "execute_result"
    }
   ],
   "source": [
    "# compute spectral roll-off\n",
    "spec_rolloff = librosa.feature.spectral_rolloff(time_series, sample_rate)\n",
    "stats_spec_rolloff = stats(spec_rolloff)\n",
    "\n",
    "stats_spec_rolloff"
   ]
  },
  {
   "cell_type": "code",
   "execution_count": 19,
   "metadata": {},
   "outputs": [
    {
     "data": {
      "text/plain": [
       "{'mean': 0.09782391966357308,\n",
       " 'median': 0.09619140625,\n",
       " 'std': 0.042732002354603726,\n",
       " 'var': 0.0018260240252338587}"
      ]
     },
     "execution_count": 19,
     "metadata": {},
     "output_type": "execute_result"
    }
   ],
   "source": [
    "# compute zcr\n",
    "zcr = librosa.feature.zero_crossing_rate(time_series)\n",
    "stats_zcr = stats(zcr)\n",
    "\n",
    "stats_zcr"
   ]
  },
  {
   "cell_type": "code",
   "execution_count": 21,
   "metadata": {},
   "outputs": [
    {
     "data": {
      "text/plain": [
       "{'mean': 2367.518780747192,\n",
       " 'median': 2348.460727484699,\n",
       " 'std': 217.51588196941861,\n",
       " 'var': 47313.158908934056}"
      ]
     },
     "execution_count": 21,
     "metadata": {},
     "output_type": "execute_result"
    }
   ],
   "source": [
    "# compute spectral bandwidth\n",
    "spec_bw = librosa.feature.spectral_bandwidth(time_series, sample_rate)\n",
    "stats_spec_bw = stats(spec_bw[0])\n",
    "\n",
    "stats_spec_bw"
   ]
  },
  {
   "cell_type": "code",
   "execution_count": 25,
   "metadata": {},
   "outputs": [
    {
     "data": {
      "text/plain": [
       "({'mean': 22.57474197706149,\n",
       "  'median': 22.733432733492467,\n",
       "  'std': 4.055359631237688,\n",
       "  'var': 16.44594173867228},\n",
       " {'mean': 17.494974326528283,\n",
       "  'median': 17.106014296604254,\n",
       "  'std': 4.771121676552711,\n",
       "  'var': 22.763602052471146})"
      ]
     },
     "execution_count": 25,
     "metadata": {},
     "output_type": "execute_result"
    }
   ],
   "source": [
    "# compute spectral contrast\n",
    "spec_contrast = librosa.feature.spectral_contrast(time_series, sample_rate)\n",
    "stats_spec_contrast_1 = stats(spec_contrast[0])\n",
    "stats_spec_contrast_2 = stats(spec_contrast[1])\n",
    "stats_spec_contrast_3 = stats(spec_contrast[2])\n",
    "stats_spec_contrast_4 = stats(spec_contrast[3])\n",
    "stats_spec_contrast_5 = stats(spec_contrast[4])\n",
    "stats_spec_contrast_6 = stats(spec_contrast[5])\n",
    "stats_spec_contrast_7 = stats(spec_contrast[6])\n",
    "\n",
    "stats_spec_contrast_1, stats_spec_contrast_2"
   ]
  },
  {
   "cell_type": "code",
   "execution_count": 26,
   "metadata": {},
   "outputs": [
    {
     "data": {
      "text/plain": [
       "({'mean': -159.55165,\n",
       "  'median': -155.67007,\n",
       "  'std': 49.407143,\n",
       "  'var': 2441.0657},\n",
       " {'mean': 69.79762, 'median': 69.48889, 'std': 15.514424, 'var': 240.69736})"
      ]
     },
     "execution_count": 26,
     "metadata": {},
     "output_type": "execute_result"
    }
   ],
   "source": [
    "# compute mfcc 1 - 13\n",
    "mfcc = librosa.feature.mfcc(time_series, sample_rate, n_mfcc=13)\n",
    "stat_mfcc_1 = stats(mfcc[0])\n",
    "stat_mfcc_2 = stats(mfcc[1])\n",
    "stat_mfcc_3 = stats(mfcc[2])\n",
    "stat_mfcc_4 = stats(mfcc[3])\n",
    "stat_mfcc_5 = stats(mfcc[4])\n",
    "stat_mfcc_6 = stats(mfcc[5])\n",
    "stat_mfcc_7 = stats(mfcc[6])\n",
    "stat_mfcc_8 = stats(mfcc[7])\n",
    "stat_mfcc_9 = stats(mfcc[8])\n",
    "stat_mfcc_10 = stats(mfcc[9])\n",
    "stat_mfcc_11 = stats(mfcc[10])\n",
    "stat_mfcc_12 = stats(mfcc[11])\n",
    "stat_mfcc_13 = stats(mfcc[12])\n",
    "\n",
    "stat_mfcc_1, stat_mfcc_2"
   ]
  },
  {
   "cell_type": "code",
   "execution_count": 27,
   "metadata": {},
   "outputs": [
    {
     "data": {
      "text/plain": [
       "array([ 1.        , -1.4211732 ,  0.94541854, -0.47950742], dtype=float32)"
      ]
     },
     "execution_count": 27,
     "metadata": {},
     "output_type": "execute_result"
    }
   ],
   "source": [
    "# computer 3rd order Linear Prediction Coefficients (LPC)\n",
    "lpc = librosa.lpc(time_series, 3)\n",
    "lpc"
   ]
  },
  {
   "cell_type": "code",
   "execution_count": 28,
   "metadata": {},
   "outputs": [
    {
     "data": {
      "text/plain": [
       "((84, 1293), array([[ 0.05184316-3.17597742e-04j, -0.00135106-5.03471017e-02j,\n",
       "         -0.04695281+4.15343480e-03j, ...,  0.08611077+7.04651426e-02j,\n",
       "          0.07986752-9.41078889e-02j, -0.09459323-8.91543892e-02j],\n",
       "        [ 0.03035726-5.02627023e-05j,  0.00905793-2.79752047e-02j,\n",
       "         -0.02086024-1.36097574e-02j, ...,  0.09887046-4.33131787e-03j,\n",
       "          0.02860533-1.08688594e-01j, -0.098653  -6.87599562e-02j],\n",
       "        [ 0.15558674+2.67811374e-03j,  0.12240589-8.95206061e-02j,\n",
       "          0.04038024-1.39511295e-01j, ...,  0.08168999-1.33454319e-01j,\n",
       "         -0.04398992-1.58197861e-01j, -0.15295645-7.13537292e-02j],\n",
       "        ...,\n",
       "        [-0.00479006-8.85093963e-04j,  0.07690022+4.54300980e-02j,\n",
       "         -0.03788237+1.03927417e-01j, ..., -0.00405467-7.87371230e-03j,\n",
       "          0.0103419 -1.00843408e-02j, -0.02450254+1.78092560e-02j],\n",
       "        [-0.03649381-1.29193823e-04j,  0.05282222+4.43045898e-02j,\n",
       "         -0.05058878+4.56024022e-02j, ...,  0.00267781-3.96175992e-03j,\n",
       "          0.00979615+5.95523450e-03j, -0.03636067-6.16952359e-04j],\n",
       "        [-0.0394409 +5.71733272e-05j,  0.01944297-1.20681260e-02j,\n",
       "         -0.0068804 -2.16474635e-02j, ..., -0.00869727-2.22478755e-02j,\n",
       "          0.03260825-9.99753202e-04j, -0.02873845+5.35653877e-03j]]))"
      ]
     },
     "execution_count": 28,
     "metadata": {},
     "output_type": "execute_result"
    }
   ],
   "source": [
    "# compute log-mel / constant-Q transform\n",
    "cqt = librosa.cqt(time_series, sample_rate)\n",
    "cqt.shape, cqt"
   ]
  },
  {
   "cell_type": "code",
   "execution_count": 31,
   "metadata": {},
   "outputs": [
    {
     "data": {
      "text/plain": [
       "((128, 2586),\n",
       " array([[1.8680854e-05, 6.2002707e-02, 1.1151104e+00, ..., 1.7733978e-01,\n",
       "         2.8754392e-01, 1.6142677e-01],\n",
       "        [6.5987210e-06, 2.5891724e-01, 2.1808436e+00, ..., 8.4348541e-01,\n",
       "         4.4655958e-01, 2.6228645e-01],\n",
       "        [3.2318534e-05, 4.6489990e-01, 2.0627596e+00, ..., 3.9542034e+00,\n",
       "         3.7528203e+00, 5.1367295e-01],\n",
       "        ...,\n",
       "        [1.1018846e-11, 3.4859121e-10, 1.1011653e-09, ..., 5.1674506e-06,\n",
       "         4.3752367e-05, 2.4380066e-05],\n",
       "        [2.7074251e-11, 6.7583716e-10, 1.4731847e-09, ..., 5.1306511e-06,\n",
       "         4.3441189e-05, 2.4208157e-05],\n",
       "        [1.3928958e-11, 3.4815550e-10, 1.1026061e-09, ..., 5.1061379e-06,\n",
       "         4.3238626e-05, 2.4084664e-05]], dtype=float32))"
      ]
     },
     "execution_count": 31,
     "metadata": {},
     "output_type": "execute_result"
    }
   ],
   "source": [
    "# compute mel-spectogram\n",
    "mel_spect = librosa.feature.melspectrogram(time_series, sample_rate)\n",
    "# scaled_mel_spect = librosa.power_to_db(mel_spect, ref=np.max) # convert spectogram to decibels unit\n",
    "mel_spect.shape, mel_spect"
   ]
  },
  {
   "cell_type": "code",
   "execution_count": 32,
   "metadata": {},
   "outputs": [
    {
     "data": {
      "text/plain": [
       "147.65625"
      ]
     },
     "execution_count": 32,
     "metadata": {},
     "output_type": "execute_result"
    }
   ],
   "source": [
    "# compute tempo & beats\n",
    "tempo, beats = librosa.beat.beat_track(time_series, sample_rate)\n",
    "tempo"
   ]
  },
  {
   "cell_type": "code",
   "execution_count": 34,
   "metadata": {},
   "outputs": [
    {
     "data": {
      "text/plain": [
       "{'mean': 1246.0422535211267,\n",
       " 'median': 1250.0,\n",
       " 'std': 723.0792416906572,\n",
       " 'var': 522843.58976393583}"
      ]
     },
     "execution_count": 34,
     "metadata": {},
     "output_type": "execute_result"
    }
   ],
   "source": [
    "stats_beats = stats(beats)\n",
    "stats_beats"
   ]
  },
  {
   "cell_type": "code",
   "execution_count": 36,
   "metadata": {},
   "outputs": [
    {
     "data": {
      "text/plain": [
       "{'mean': 14.466522308453893,\n",
       " 'median': 14.512471655328799,\n",
       " 'std': 8.394933599673843,\n",
       " 'var': 70.47491014293281}"
      ]
     },
     "execution_count": 36,
     "metadata": {},
     "output_type": "execute_result"
    }
   ],
   "source": [
    "# compute timestamps from beats\n",
    "beat_timestamps = librosa.frames_to_time(beats, sample_rate)\n",
    "stats_beat_timestamps = stats(beat_timestamps)\n",
    "stats_beat_timestamps"
   ]
  },
  {
   "cell_type": "code",
   "execution_count": 8,
   "metadata": {},
   "outputs": [
    {
     "data": {
      "text/plain": "({'mean': -1.5523201e-06,\n  'median': 0.0019135531,\n  'std': 0.44200575,\n  'var': 0.19536908,\n  'sb_energy': 0.3519586,\n  'skewness': -0.014327818527817726,\n  '5th_percentile': -0.7484456419944763,\n  '25th_percentile': -0.2931208461523056,\n  '75th_percentile': 0.29618874937295914,\n  '95th_percentile': 0.7322224259376524,\n  'rms': 0.3519586,\n  'zcr': 26476,\n  'mcr': 26472,\n  'entropy': 11.318564373823895},\n {'mean': 0.00079981604,\n  'median': 0.0020318378,\n  'std': 0.18456157,\n  'var': 0.03406297,\n  'sb_energy': 0.14433607,\n  'skewness': -0.05667450278997421,\n  '5th_percentile': -0.3106419801712036,\n  '25th_percentile': -0.11529596522450447,\n  '75th_percentile': 0.11998546496033669,\n  '95th_percentile': 0.30302691012620886,\n  'rms': 0.14433607,\n  'zcr': 49164,\n  'mcr': 49182,\n  'entropy': 11.318865982576044},\n {'mean': 2.7548062e-05,\n  'median': -0.00031280774,\n  'std': 0.07951908,\n  'var': 0.006323284,\n  'sb_energy': 0.061881058,\n  'skewness': 0.0289473794400692,\n  '5th_percentile': -0.12993538081645967,\n  '25th_percentile': -0.050545260310173035,\n  '75th_percentile': 0.04997330158948898,\n  '95th_percentile': 0.13153186887502652,\n  'rms': 0.061881058,\n  'zcr': 119538,\n  'mcr': 119540,\n  'entropy': 12.010273185547303})"
     },
     "execution_count": 8,
     "metadata": {},
     "output_type": "execute_result"
    }
   ],
   "source": [
    "# compute coefficients for Db4 at level 4 decomposition\n",
    "db4_coeffs = pywt.wavedec(time_series, 'db4', level=4)\n",
    "cA4, cD4, cD3, cD2, cD1 = db4_coeffs\n",
    "stats_cA4 = {**stats(cA4), **extra_stats(cA4)}\n",
    "stats_cD4 = {**stats(cD4), **extra_stats(cD4)}\n",
    "stats_cD3 = {**stats(cD3), **extra_stats(cD3)}\n",
    "stats_cD2 = {**stats(cD2), **extra_stats(cD2)}\n",
    "stats_cD1 = {**stats(cD1), **extra_stats(cD1)}\n",
    "stats_cA4, stats_cD4, stats_cD3"
   ]
  },
  {
   "cell_type": "code",
   "execution_count": 9,
   "metadata": {},
   "outputs": [
    {
     "data": {
      "text/plain": "({'mean': -1.5523243e-06,\n  'median': 0.0017831312,\n  'std': 0.44204047,\n  'var': 0.19539979,\n  'sb_energy': 0.35210282,\n  'skewness': -0.01582862064242363,\n  '5th_percentile': -0.7451231330633163,\n  '25th_percentile': -0.2941228300333023,\n  '75th_percentile': 0.2959820553660393,\n  '95th_percentile': 0.7327005565166473,\n  'rms': 0.35210282,\n  'zcr': 26552,\n  'mcr': 26548,\n  'entropy': 11.318638930852899},\n {'mean': -0.00032373413,\n  'median': 0.0004893675,\n  'std': 0.18565981,\n  'var': 0.034469567,\n  'sb_energy': 0.14545022,\n  'skewness': -0.015256845392286777,\n  '5th_percentile': -0.3120330423116684,\n  '25th_percentile': -0.11799711547791958,\n  '75th_percentile': 0.1190750990062952,\n  '95th_percentile': 0.3069121241569519,\n  'rms': 0.14545022,\n  'zcr': 49724,\n  'mcr': 49722,\n  'entropy': 11.318655686489636},\n {'mean': -7.136517e-05,\n  'median': -0.00021495076,\n  'std': 0.07873312,\n  'var': 0.0061989035,\n  'sb_energy': 0.061209664,\n  'skewness': 4.694569724961184e-05,\n  '5th_percentile': -0.1293770581483841,\n  '25th_percentile': -0.049645405262708664,\n  '75th_percentile': 0.0498992633074522,\n  '95th_percentile': 0.12903442829847334,\n  'rms': 0.061209664,\n  'zcr': 120348,\n  'mcr': 120340,\n  'entropy': 12.010443669980418})"
     },
     "execution_count": 9,
     "metadata": {},
     "output_type": "execute_result"
    }
   ],
   "source": [
    "# compute coefficients for Db5 at level 4 decomposition\n",
    "db5_coeffs = pywt.wavedec(time_series, 'db5', level=4)\n",
    "cA4, cD4, cD3, cD2, cD1 = db5_coeffs\n",
    "stats_cA4 = {**stats(cA4), **extra_stats(cA4)}\n",
    "stats_cD4 = {**stats(cD4), **extra_stats(cD4)}\n",
    "stats_cD3 = {**stats(cD3), **extra_stats(cD3)}\n",
    "stats_cD2 = {**stats(cD2), **extra_stats(cD2)}\n",
    "stats_cD1 = {**stats(cD1), **extra_stats(cD1)}\n",
    "stats_cA4, stats_cD4, stats_cD3"
   ]
  },
  {
   "cell_type": "code",
   "execution_count": 10,
   "metadata": {},
   "outputs": [
    {
     "data": {
      "text/plain": "({'mean': -4.38949e-06,\n  'median': 0.009905862,\n  'std': 0.6425138,\n  'var': 0.41282403,\n  'sb_energy': 0.5101531,\n  'skewness': -0.04386148229241371,\n  '5th_percentile': -1.0754281759262085,\n  '25th_percentile': -0.4292307645082474,\n  '75th_percentile': 0.42701205611228943,\n  '95th_percentile': 1.0348616719245909,\n  'rms': 0.5101531,\n  'zcr': 8126,\n  'mcr': 8126,\n  'entropy': 9.242406737252274},\n {'mean': -0.003294279,\n  'median': 0.005104491,\n  'std': 0.69103664,\n  'var': 0.4775316,\n  'sb_energy': 0.53049105,\n  'skewness': -0.13731873035430908,\n  '5th_percentile': -1.1162202835083008,\n  '25th_percentile': -0.42577362060546875,\n  '75th_percentile': 0.4309989660978317,\n  '95th_percentile': 1.0886446952819822,\n  'rms': 0.53049105,\n  'zcr': 6580,\n  'mcr': 6582,\n  'entropy': 9.242540717571316},\n {'mean': 0.0009034596,\n  'median': 0.0019393812,\n  'std': 0.43469727,\n  'var': 0.18896171,\n  'sb_energy': 0.33991796,\n  'skewness': 0.04403303563594818,\n  '5th_percentile': -0.7121016770601272,\n  '25th_percentile': -0.2795225456357002,\n  '75th_percentile': 0.2808830067515373,\n  '95th_percentile': 0.707961684465407,\n  'rms': 0.33991796,\n  'zcr': 10984,\n  'mcr': 10982,\n  'entropy': 9.93466025721986})"
     },
     "execution_count": 10,
     "metadata": {},
     "output_type": "execute_result"
    }
   ],
   "source": [
    "# compute coefficients for Db8 at level 7 decomposition\n",
    "db8_coeffs = pywt.wavedec(time_series, 'db4', level=7)\n",
    "cA7, cD7, cD6, cD5, cD4, cD3, cD2, cD1 = db8_coeffs\n",
    "stats_cA7 = {**stats(cA7), **extra_stats(cA7)}\n",
    "stats_cD7 = {**stats(cD7), **extra_stats(cD7)}\n",
    "stats_cD6 = {**stats(cD6), **extra_stats(cD6)}\n",
    "stats_cD5 = {**stats(cD5), **extra_stats(cD5)}\n",
    "stats_cD4 = {**stats(cD4), **extra_stats(cD4)}\n",
    "stats_cD3 = {**stats(cD3), **extra_stats(cD3)}\n",
    "stats_cD2 = {**stats(cD2), **extra_stats(cD2)}\n",
    "stats_cD1 = {**stats(cD1), **extra_stats(cD1)}\n",
    "stats_cA7, stats_cD7, stats_cD6"
   ]
  },
  {
   "cell_type": "code",
   "execution_count": 10,
   "metadata": {},
   "outputs": [],
   "source": []
  },
  {
   "cell_type": "code",
   "execution_count": null,
   "outputs": [],
   "source": [
    "\n"
   ],
   "metadata": {
    "collapsed": false,
    "pycharm": {
     "name": "#%%\n"
    }
   }
  }
 ],
 "metadata": {
  "kernelspec": {
   "display_name": "Python 3",
   "language": "python",
   "name": "python3"
  },
  "language_info": {
   "codemirror_mode": {
    "name": "ipython",
    "version": 3
   },
   "file_extension": ".py",
   "mimetype": "text/x-python",
   "name": "python",
   "nbconvert_exporter": "python",
   "pygments_lexer": "ipython3",
   "version": "3.5.3"
  }
 },
 "nbformat": 4,
 "nbformat_minor": 2
}