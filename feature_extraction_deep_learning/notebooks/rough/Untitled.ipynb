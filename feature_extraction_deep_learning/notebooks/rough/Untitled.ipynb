{
 "cells": [
  {
   "cell_type": "code",
   "execution_count": 4,
   "metadata": {},
   "outputs": [],
   "source": [
    "# import numpy as np\n",
    "import os\n",
    "import datetime\n",
    "# import pandas as pd\n",
    "# import pywt\n",
    "# from scipy.stats import skew\n",
    "import sys\n",
    "WORKING_DIR_PATH = globals()['_dh'][0]\n",
    "WORKING_DIR_PARENT_PATH = os.path.dirname(os.path.dirname(WORKING_DIR_PATH))\n",
    "sys.path.insert(1, WORKING_DIR_PARENT_PATH)\n",
    "from custom_module.utilities import *"
   ]
  },
  {
   "cell_type": "code",
   "execution_count": 7,
   "metadata": {},
   "outputs": [],
   "source": [
    "SAMPLE_FILE= '/Users/macbookretina/blues.00042.wav'\n",
    "SAMPLE_FILE= '/Users/macbookretina/073192.mp3'"
   ]
  },
  {
   "cell_type": "code",
   "execution_count": 8,
   "metadata": {},
   "outputs": [
    {
     "name": "stdout",
     "output_type": "stream",
     "text": [
      "2020-07-10 16:38:48.362421\n"
     ]
    },
    {
     "name": "stderr",
     "output_type": "stream",
     "text": [
      "/Users/macbookretina/Desktop/automatic-music-genre-classification/venv/lib/python3.7/site-packages/librosa/core/audio.py:161: UserWarning: PySoundFile failed. Trying audioread instead.\n",
      "  warnings.warn('PySoundFile failed. Trying audioread instead.')\n"
     ]
    },
    {
     "name": "stdout",
     "output_type": "stream",
     "text": [
      "appended features extracted from /Users/macbookretina/073192.mp3 with genre: hiphop\n",
      "2020-07-10 16:38:55.498281\n"
     ]
    }
   ],
   "source": [
    "print(datetime.datetime.now())\n",
    "extract_audio_features(dataframe, SAMPLE_FILE, 'hiphop', 'fma')\n",
    "print(datetime.datetime.now())"
   ]
  },
  {
   "cell_type": "code",
   "execution_count": 5,
   "metadata": {},
   "outputs": [
    {
     "data": {
      "text/plain": [
       "True"
      ]
     },
     "execution_count": 5,
     "metadata": {},
     "output_type": "execute_result"
    }
   ],
   "source": [
    "type(SAMPLE_FILE) == str"
   ]
  },
  {
   "cell_type": "code",
   "execution_count": null,
   "metadata": {},
   "outputs": [],
   "source": []
  }
 ],
 "metadata": {
  "kernelspec": {
   "display_name": "Python 3",
   "language": "python",
   "name": "python3"
  },
  "language_info": {
   "codemirror_mode": {
    "name": "ipython",
    "version": 3
   },
   "file_extension": ".py",
   "mimetype": "text/x-python",
   "name": "python",
   "nbconvert_exporter": "python",
   "pygments_lexer": "ipython3",
   "version": "3.7.0"
  }
 },
 "nbformat": 4,
 "nbformat_minor": 4
}
