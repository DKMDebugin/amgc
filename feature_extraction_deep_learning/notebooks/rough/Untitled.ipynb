{
 "cells": [
  {
   "cell_type": "code",
   "execution_count": 1,
   "metadata": {},
   "outputs": [],
   "source": [
    "# import numpy as np\n",
    "# import os\n",
    "# import pandas as pd\n",
    "# import pywt\n",
    "# from scipy.stats import skew\n",
    "import sys\n",
    "MODULE_PATH = '/home/macbookretina/automatic-music-genre-classification/feature_extraction_deep_learning'\n",
    "sys.path.insert(1, MODULE_PATH)\n",
    "from custom_module.utilities import *"
   ]
  },
  {
   "cell_type": "code",
   "execution_count": 2,
   "metadata": {},
   "outputs": [
    {
     "data": {
      "text/plain": [
       "'/home/macbookretina/s3-bucket/gtzan/wavfiles/blues.00042.wav'"
      ]
     },
     "execution_count": 2,
     "metadata": {},
     "output_type": "execute_result"
    }
   ],
   "source": [
    "SAMPLE_FILE"
   ]
  },
  {
   "cell_type": "code",
   "execution_count": 3,
   "metadata": {},
   "outputs": [
    {
     "name": "stdout",
     "output_type": "stream",
     "text": [
      "appended features extracted from /home/macbookretina/s3-bucket/gtzan/wavfiles/blues.00042.wav with genre: hiphop\n"
     ]
    },
    {
     "data": {
      "text/html": [
       "<div>\n",
       "<style scoped>\n",
       "    .dataframe tbody tr th:only-of-type {\n",
       "        vertical-align: middle;\n",
       "    }\n",
       "\n",
       "    .dataframe tbody tr th {\n",
       "        vertical-align: top;\n",
       "    }\n",
       "\n",
       "    .dataframe thead th {\n",
       "        text-align: right;\n",
       "    }\n",
       "</style>\n",
       "<table border=\"1\" class=\"dataframe\">\n",
       "  <thead>\n",
       "    <tr style=\"text-align: right;\">\n",
       "      <th></th>\n",
       "      <th>data_source</th>\n",
       "      <th>genre_label</th>\n",
       "      <th>lpc_1</th>\n",
       "      <th>lpc_2</th>\n",
       "      <th>lpc_3</th>\n",
       "      <th>lpc_4</th>\n",
       "      <th>mean_beats</th>\n",
       "      <th>mean_beats_timestamp</th>\n",
       "      <th>mean_db4_cA4</th>\n",
       "      <th>mean_db4_cD1</th>\n",
       "      <th>...</th>\n",
       "      <th>var_spec_centroid</th>\n",
       "      <th>var_spec_contrast_1</th>\n",
       "      <th>var_spec_contrast_2</th>\n",
       "      <th>var_spec_contrast_3</th>\n",
       "      <th>var_spec_contrast_4</th>\n",
       "      <th>var_spec_contrast_5</th>\n",
       "      <th>var_spec_contrast_6</th>\n",
       "      <th>var_spec_contrast_7</th>\n",
       "      <th>var_spec_rolloff</th>\n",
       "      <th>var_zcr</th>\n",
       "    </tr>\n",
       "  </thead>\n",
       "  <tbody>\n",
       "    <tr>\n",
       "      <th>0</th>\n",
       "      <td>fma</td>\n",
       "      <td>hiphop</td>\n",
       "      <td>1.0</td>\n",
       "      <td>-1.421173</td>\n",
       "      <td>0.945419</td>\n",
       "      <td>-0.479507</td>\n",
       "      <td>623.139535</td>\n",
       "      <td>14.469272</td>\n",
       "      <td>-0.027241</td>\n",
       "      <td>-3.023329e-08</td>\n",
       "      <td>...</td>\n",
       "      <td>205198.410025</td>\n",
       "      <td>16.445942</td>\n",
       "      <td>22.763602</td>\n",
       "      <td>24.769077</td>\n",
       "      <td>22.003929</td>\n",
       "      <td>20.466237</td>\n",
       "      <td>9.544758</td>\n",
       "      <td>5.032822</td>\n",
       "      <td>563372.81077</td>\n",
       "      <td>0.001826</td>\n",
       "    </tr>\n",
       "  </tbody>\n",
       "</table>\n",
       "<p>1 rows × 219 columns</p>\n",
       "</div>"
      ],
      "text/plain": [
       "  data_source genre_label  lpc_1     lpc_2     lpc_3     lpc_4  mean_beats  \\\n",
       "0         fma      hiphop    1.0 -1.421173  0.945419 -0.479507  623.139535   \n",
       "\n",
       "   mean_beats_timestamp  mean_db4_cA4  mean_db4_cD1  ...  var_spec_centroid  \\\n",
       "0             14.469272     -0.027241 -3.023329e-08  ...      205198.410025   \n",
       "\n",
       "   var_spec_contrast_1  var_spec_contrast_2  var_spec_contrast_3  \\\n",
       "0            16.445942            22.763602            24.769077   \n",
       "\n",
       "   var_spec_contrast_4  var_spec_contrast_5  var_spec_contrast_6  \\\n",
       "0            22.003929            20.466237             9.544758   \n",
       "\n",
       "   var_spec_contrast_7  var_spec_rolloff   var_zcr  \n",
       "0             5.032822      563372.81077  0.001826  \n",
       "\n",
       "[1 rows x 219 columns]"
      ]
     },
     "execution_count": 3,
     "metadata": {},
     "output_type": "execute_result"
    }
   ],
   "source": [
    "extract_audio_features(dataframe, SAMPLE_FILE, 'hiphop', 'fma')"
   ]
  },
  {
   "cell_type": "code",
   "execution_count": 5,
   "metadata": {},
   "outputs": [
    {
     "data": {
      "text/plain": [
       "True"
      ]
     },
     "execution_count": 5,
     "metadata": {},
     "output_type": "execute_result"
    }
   ],
   "source": [
    "type(SAMPLE_FILE) == str"
   ]
  },
  {
   "cell_type": "code",
   "execution_count": null,
   "metadata": {},
   "outputs": [],
   "source": []
  }
 ],
 "metadata": {
  "kernelspec": {
   "display_name": "Python 3",
   "language": "python",
   "name": "python3"
  },
  "language_info": {
   "codemirror_mode": {
    "name": "ipython",
    "version": 3
   },
   "file_extension": ".py",
   "mimetype": "text/x-python",
   "name": "python",
   "nbconvert_exporter": "python",
   "pygments_lexer": "ipython3",
   "version": "3.5.3"
  }
 },
 "nbformat": 4,
 "nbformat_minor": 4
}
