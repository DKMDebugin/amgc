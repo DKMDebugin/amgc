{
 "cells": [
  {
   "cell_type": "markdown",
   "metadata": {},
   "source": [
    "# I will be testing out different assumption and tools"
   ]
  },
  {
   "cell_type": "code",
   "execution_count": 20,
   "metadata": {},
   "outputs": [],
   "source": [
    "import librosa\n",
    "import pywt\n",
    "# from pyAudioAnalysis import audioBasicIO # doesnt support mp3\n",
    "# from pyAudioAnalysis import ShortTermFeatures\n",
    "import numpy as np"
   ]
  },
  {
   "cell_type": "code",
   "execution_count": 21,
   "metadata": {},
   "outputs": [
    {
     "data": {
      "text/plain": [
       "(22050, 44100)"
      ]
     },
     "execution_count": 21,
     "metadata": {},
     "output_type": "execute_result"
    }
   ],
   "source": [
    "# get sample rate of audio file in .wav and mp3. Parameter: file path\n",
    "wav_sr = librosa.core.get_samplerate('/Users/macbookretina/blues.00042.wav')\n",
    "mp3_sr = librosa.core.get_samplerate('/Users/macbookretina/073192.mp3')\n",
    "wav_sr, mp3_sr"
   ]
  },
  {
   "cell_type": "code",
   "execution_count": 22,
   "metadata": {},
   "outputs": [
    {
     "name": "stderr",
     "output_type": "stream",
     "text": [
      "/Users/macbookretina/Library/Python/3.7/lib/python/site-packages/librosa/core/audio.py:161: UserWarning: PySoundFile failed. Trying audioread instead.\n",
      "  warnings.warn('PySoundFile failed. Trying audioread instead.')\n",
      "/Users/macbookretina/Library/Python/3.7/lib/python/site-packages/librosa/core/audio.py:161: UserWarning: PySoundFile failed. Trying audioread instead.\n",
      "  warnings.warn('PySoundFile failed. Trying audioread instead.')\n"
     ]
    },
    {
     "data": {
      "text/plain": [
       "(44100, array([0., 0., 0., ..., 0., 0., 0.], dtype=float32))"
      ]
     },
     "execution_count": 22,
     "metadata": {},
     "output_type": "execute_result"
    }
   ],
   "source": [
    "# load audio file in .wav and mp3 format. Parameters:\n",
    "# path: (string, int, pathlib.Path or file-like object) path to the input file.\n",
    "# sr: int - target sampling rate\n",
    "# mono:bool - convert signal to mono\n",
    "# offset:float - start reading after this time (in seconds)\n",
    "# duration:float - only load up to this much audio (in seconds)\n",
    "# dtype:numeric type - data type of y\n",
    "# res_type:str - resample type \n",
    "y, sr = librosa.core.load('/Users/macbookretina/073192.mp3', mp3_sr)\n",
    "y, sr = librosa.core.load('/Users/macbookretina/073192.mp3', mp3_sr)\n",
    "sr, y"
   ]
  },
  {
   "cell_type": "code",
   "execution_count": 98,
   "metadata": {},
   "outputs": [
    {
     "data": {
      "text/plain": [
       "30.01469387755102"
      ]
     },
     "execution_count": 98,
     "metadata": {},
     "output_type": "execute_result"
    }
   ],
   "source": [
    "# get duration of audio in seconds\n",
    "duration = librosa.core.get_duration(y, mp3_sr)\n",
    "duration"
   ]
  },
  {
   "cell_type": "markdown",
   "metadata": {},
   "source": [
    "# Timbral Features"
   ]
  },
  {
   "cell_type": "code",
   "execution_count": 176,
   "metadata": {},
   "outputs": [
    {
     "data": {
      "text/plain": [
       "array([ 1.        , -1.9204183 ,  1.2394348 , -0.29715297], dtype=float32)"
      ]
     },
     "execution_count": 176,
     "metadata": {},
     "output_type": "execute_result"
    }
   ],
   "source": [
    "# Computer Linear Prediction Coefficients via Burg’s method. Parameters:\n",
    "# y:np.ndarray - Time series to fit\n",
    "# order:int > 0 - Order of the linear filter\n",
    "# Question: How to determine which order to use\n",
    "# \n",
    "# Returns: a : np.ndarray of length order + 1 - LP prediction error coefficients, i.e. filter denominator polynomial\n",
    "lpc = librosa.lpc(y, 3)\n",
    "lpc"
   ]
  },
  {
   "cell_type": "code",
   "execution_count": 60,
   "metadata": {},
   "outputs": [
    {
     "data": {
      "text/plain": [
       "2466.272309528678"
      ]
     },
     "execution_count": 60,
     "metadata": {},
     "output_type": "execute_result"
    }
   ],
   "source": [
    "# Computer Spectral Centroid. Parameters:\n",
    "# y:np.ndarray [shape=(n,)] or None - audio time series\n",
    "# sr:number > 0 [scalar] - audio sampling rate of y\n",
    "# S:np.ndarray [shape=(d, t)] or None - (optional) spectrogram magnitude\n",
    "# n_fft:int > 0 [scalar] - FFT window size\n",
    "# hop_length:int > 0 [scalar] - hop length for STFT. See librosa.core.stft for details.\n",
    "# freq:None or np.ndarray [shape=(d,) or shape=(d, t)] - Center frequencies for spectrogram bins. If None, then FFT bin center frequencies are used. Otherwise, it can be a single array of d center frequencies, or a matrix of center frequencies as constructed by librosa.core.ifgram\n",
    "# win_length:int <= n_fft [scalar] - Each frame of audio is windowed by window(). The window will be of length win_length and then padded with zeros to match n_fft.\n",
    "\n",
    "# Returns: centroid : np.ndarray [shape=(1, t)] - centroid frequencies\n",
    "spec_centroid = librosa.feature.spectral_centroid(y, mp3_sr)\n",
    "mean_spec_centroid = np.mean(spec_centroid)\n",
    "mean_spec_centroid\n",
    "# 1233.136154764339"
   ]
  },
  {
   "cell_type": "code",
   "execution_count": 23,
   "metadata": {},
   "outputs": [
    {
     "data": {
      "text/plain": [
       "(1, 2586)"
      ]
     },
     "execution_count": 23,
     "metadata": {},
     "output_type": "execute_result"
    }
   ],
   "source": [
    "# Computer Spectral Roll-off. Parameters:\n",
    "# y:np.ndarray [shape=(n,)] or None - audio time series\n",
    "# sr:number > 0 [scalar] - audio sampling rate of y\n",
    "# S:np.ndarray [shape=(d, t)] or None - (optional) spectrogram magnitude\n",
    "# n_fft:int > 0 [scalar] - FFT window size\n",
    "# hop_length:int > 0 [scalar] - hop length for STFT. See librosa.core.stft for details.\n",
    "# freq:None or np.ndarray [shape=(d,) or shape=(d, t)] - Center frequencies for spectrogram bins. If None, then FFT bin center frequencies are used. Otherwise, it can be a single array of d center frequencies, or a matrix of center frequencies as constructed by librosa.core.ifgram\n",
    "# win_length:int <= n_fft [scalar] - Each frame of audio is windowed by window(). The window will be of length win_length and then padded with zeros to match n_fft.\n",
    "\n",
    "# Returns: rolloff : np.ndarray [shape=(1, t)] - roll-off frequency for each frame\n",
    "spec_rolloff = librosa.feature.spectral_rolloff(y, mp3_sr)\n",
    "mean_spec_rolloff = np.mean(spec_rolloff)\n",
    "spec_rolloff.shape"
   ]
  },
  {
   "cell_type": "code",
   "execution_count": 24,
   "metadata": {},
   "outputs": [
    {
     "data": {
      "text/plain": [
       "(1, 2586)"
      ]
     },
     "execution_count": 24,
     "metadata": {},
     "output_type": "execute_result"
    }
   ],
   "source": [
    "# Compute zero crossing rate. Parameters:\n",
    "# y:np.ndarray [shape=(n,)] - Audio time series\n",
    "# frame_length:int > 0 - Length of the frame over which to compute zero crossing rates\n",
    "# hop_length:int > 0 - Number of samples to advance for each frame\n",
    "# center:bool - If True, frames are centered by padding the edges of y. This is similar to the padding in librosa.core.stft, but uses edge-value copies instead of reflection.\n",
    "# kwargs:additional keyword arguments\n",
    "# See librosa.core.zero_crossings\n",
    "\n",
    "# Returns: zcr : np.ndarray [shape=(1, t)] - `zcr[0, i]` is the fraction of zero crossings in the `i` th frame\n",
    "zcr = librosa.feature.zero_crossing_rate(y)\n",
    "mean_zcr = np.mean(zcr)\n",
    "zcr.shape"
   ]
  },
  {
   "cell_type": "code",
   "execution_count": 63,
   "metadata": {},
   "outputs": [
    {
     "data": {
      "text/plain": [
       "array([-126.35341  ,  168.79324  ,  -51.67301  ,   31.850351 ,\n",
       "         -7.024031 ,   24.488293 ,  -23.559675 ,   10.718372 ,\n",
       "        -11.275455 ,    5.5729837,   -8.264879 ,    5.572796 ,\n",
       "         -5.336298 ], dtype=float32)"
      ]
     },
     "execution_count": 63,
     "metadata": {},
     "output_type": "execute_result"
    }
   ],
   "source": [
    "# Compute the first 13 mfcc coefficients. Parameters:\n",
    "# y:np.ndarray [shape=(n,)] or None - audio time series\n",
    "# sr:number > 0 [scalar] - sampling rate of y\n",
    "# S:np.ndarray [shape=(d, t)] or None - log-power Mel spectrogram\n",
    "# n_mfcc: int > 0 [scalar] - number of MFCCs to return\n",
    "# dct_type:{1, 2, 3} - Discrete cosine transform (DCT) type. By default, DCT type-2 is used.\n",
    "# norm:None or ‘ortho’ - If dct_type is 2 or 3, setting norm=’ortho’ uses an ortho-normal DCT basis. Normalization is not supported for dct_type=1.\n",
    "# lifter:number >= 0 - If lifter>0, apply liftering (cepstral filtering) to the MFCCs:\n",
    "# M[n, :] <- M[n, :] * (1 + sin(pi * (n + 1) / lifter)) * lifter / 2\n",
    "# Setting lifter >= 2 * n_mfcc emphasizes the higher-order coefficients. As lifter increases, the coefficient weighting becomes approximately linear.\n",
    "# kwargs:additional keyword arguments\n",
    "# Arguments to melspectrogram, if operating on time series input\n",
    "# hop_length:int > 0 - The number of samples to advance between frames.\n",
    "# mfcc = librosa.feature.mfcc(y=y, sr=sr, hop_length=512, n_mfcc=13)\n",
    "\n",
    "# Returns: M : np.ndarray [shape=(n_mfcc, t)] - MFCC sequence\n",
    "mfcc = librosa.feature.mfcc(y=y, sr=mp3_sr, n_mfcc=13)\n",
    "mfcc_scaled = np.mean(mfcc.T, axis=0)\n",
    "mfcc_scaled"
   ]
  },
  {
   "cell_type": "code",
   "execution_count": 197,
   "metadata": {},
   "outputs": [
    {
     "data": {
      "text/plain": [
       "((84, 2586),\n",
       " array([[ 4.04311841e-01+8.32610300e-04j, -2.98204379e-01+2.70791944e-01j,\n",
       "          3.77148955e-02-3.97318771e-01j, ...,\n",
       "         -5.43648534e-02+2.00999616e-01j, -1.19690511e-01-1.55654746e-01j,\n",
       "          1.92880422e-01-4.46009962e-03j],\n",
       "        [ 4.08876415e-01-1.06428507e-03j, -3.25997050e-01+2.41493339e-01j,\n",
       "          1.16567770e-01-3.80030661e-01j, ...,\n",
       "         -9.85589980e-02-1.57296378e-01j,  1.53900200e-01+8.53853488e-02j,\n",
       "         -1.73288048e-01-2.70970694e-03j],\n",
       "        [ 2.83232916e-01-1.87611900e-03j, -2.44327878e-01+1.40942486e-01j,\n",
       "          1.41804350e-01-2.40311015e-01j, ...,\n",
       "          2.23164502e-02-9.00796783e-02j,  3.99101756e-02+5.80575931e-02j,\n",
       "         -6.24006198e-02+4.88761364e-03j],\n",
       "        ...,\n",
       "        [ 0.00000000e+00+0.00000000e+00j, -1.04026048e-07-2.36192019e-07j,\n",
       "         -2.03580000e-02+8.53440893e-03j, ...,\n",
       "         -2.34571101e-02-1.16492463e-02j, -2.13700193e-02-9.03730050e-02j,\n",
       "          0.00000000e+00+0.00000000e+00j],\n",
       "        [ 0.00000000e+00+0.00000000e+00j, -2.21059381e-08+6.15904389e-08j,\n",
       "         -2.27760312e-02-9.81920693e-03j, ...,\n",
       "         -1.57162066e-03-6.09001421e-03j,  4.21891627e-02-1.79283792e-02j,\n",
       "          0.00000000e+00+0.00000000e+00j],\n",
       "        [ 0.00000000e+00+0.00000000e+00j,  5.61305516e-08+5.83045381e-07j,\n",
       "          1.51717205e-02-9.78713245e-03j, ...,\n",
       "         -1.48087684e-02-6.12559800e-03j,  7.02604359e-02+4.69746178e-03j,\n",
       "          0.00000000e+00+0.00000000e+00j]]))"
      ]
     },
     "execution_count": 197,
     "metadata": {},
     "output_type": "execute_result"
    }
   ],
   "source": [
    "# Computer log-mel / constant-Q transform of an audio signal. Parameters:\n",
    "# y:np.ndarray [shape=(n,)] - audio time series\n",
    "# sr:number > 0 [scalar] - sampling rate of y\n",
    "# hop_length:int > 0 [scalar] - number of samples between successive CQT columns.\n",
    "# fmin:float > 0 [scalar] - Minimum frequency. Defaults to C1 ~= 32.70 Hz\n",
    "# n_bins:int > 0 [scalar] - Number of frequency bins, starting at fmin\n",
    "# n_bins = 84 by default\n",
    "\n",
    "# Returns: CQT : np.ndarray [shape=(n_bins, t), dtype=np.complex or np.float] - Constant-Q value each frequency at each time.\n",
    "cqt = librosa.cqt(y, sr=mp3_sr)\n",
    "# abs_cqt = np.abs(cqt)\n",
    "# scaled_abs_cqt = np.mean(abs_cqt.T, axis=0)\n",
    "# scaled_abs_cqt\n",
    "cqt.shape, cqt"
   ]
  },
  {
   "cell_type": "code",
   "execution_count": 196,
   "metadata": {},
   "outputs": [
    {
     "data": {
      "text/plain": [
       "((128, 2586),\n",
       " array([[1.8680854e-05, 6.2002707e-02, 1.1151104e+00, ..., 1.7733978e-01,\n",
       "         2.8754392e-01, 1.6142677e-01],\n",
       "        [6.5987210e-06, 2.5891724e-01, 2.1808436e+00, ..., 8.4348541e-01,\n",
       "         4.4655958e-01, 2.6228645e-01],\n",
       "        [3.2318534e-05, 4.6489990e-01, 2.0627596e+00, ..., 3.9542034e+00,\n",
       "         3.7528203e+00, 5.1367295e-01],\n",
       "        ...,\n",
       "        [1.1018846e-11, 3.4859121e-10, 1.1011653e-09, ..., 5.1674506e-06,\n",
       "         4.3752367e-05, 2.4380066e-05],\n",
       "        [2.7074251e-11, 6.7583716e-10, 1.4731847e-09, ..., 5.1306511e-06,\n",
       "         4.3441189e-05, 2.4208157e-05],\n",
       "        [1.3928958e-11, 3.4815550e-10, 1.1026061e-09, ..., 5.1061379e-06,\n",
       "         4.3238626e-05, 2.4084664e-05]], dtype=float32))"
      ]
     },
     "execution_count": 196,
     "metadata": {},
     "output_type": "execute_result"
    }
   ],
   "source": [
    "# Computer Mel-spectogram. Parameters:\n",
    "# y:np.ndarray [shape=(n,)] or None - audio time-series\n",
    "# sr:number > 0 [scalar] - sampling rate of y\n",
    "# S:np.ndarray [shape=(d, t)] - spectrogram\n",
    "# n_fft:int > 0 [scalar] - length of the FFT window\n",
    "# hop_length:int > 0 [scalar] - number of samples between successive frames. See librosa.core.stft\n",
    "# win_length:int <= n_fft [scalar] - Each frame of audio is windowed by window(). The window will be of length win_length and then padded with zeros to match n_fft.\n",
    "# If unspecified, defaults to win_length = n_fft.\n",
    "# window:string, tuple, number, function, or np.ndarray [shape=(n_fft,)]\n",
    "# - a window specification (string, tuple, or number); see scipy.signal.get_window\n",
    "# - a window function, such as scipy.signal.hanning\n",
    "# - a vector or array of length n_fft\n",
    "# center:boolean\n",
    "# - If True, the signal y is padded so that frame t is centered at y[t * hop_length].\n",
    "# - If False, then frame t begins at y[t * hop_length]\n",
    "# pad_mode:string - If center=True, the padding mode to use at the edges of the signal. By default, STFT uses reflection padding.\n",
    "# power:float > 0 [scalar] - Exponent for the magnitude melspectrogram. e.g., 1 for energy, 2 for power, etc.\n",
    "# kwargs:additional keyword arguments\n",
    "# Mel filter bank parameters. See librosa.filters.mel for details.\n",
    "\n",
    "# Returns: S : np.ndarray [shape=(n_mels, t)] - Mel spectrogram\n",
    "mel_spect = librosa.feature.melspectrogram(y=y, sr=mp3_sr)\n",
    "# mel_spect_p = librosa.power_to_db(mel_spect, ref=np.max) # convert spectogram to decibels unit\n",
    "mel_spect.shape, mel_spect"
   ]
  },
  {
   "cell_type": "code",
   "execution_count": 198,
   "metadata": {},
   "outputs": [
    {
     "data": {
      "text/plain": [
       "((1, 2586),\n",
       " array([[2235.57868228, 2463.75327568, 2530.21258602, ..., 3400.60647967,\n",
       "         3574.43060148, 3803.22950521]]))"
      ]
     },
     "execution_count": 198,
     "metadata": {},
     "output_type": "execute_result"
    }
   ],
   "source": [
    "# Compute spectral bandwidth\n",
    "# Parameters:\t\n",
    "# y:np.ndarray [shape=(n,)] or None - audio time series\n",
    "# sr:number > 0 [scalar] - audio sampling rate of y\n",
    "# S:np.ndarray [shape=(d, t)] or None - (optional) spectrogram magnitude\n",
    "# n_fft:int > 0 [scalar] - FFT window size\n",
    "# hop_length:int > 0 [scalar] - hop length for STFT. See librosa.core.stft for details.\n",
    "# win_length:int <= n_fft [scalar] - Each frame of audio is windowed by window(). The window will be of length\n",
    "#     win_length and then padded with zeros to match n_fft. If unspecified, defaults to win_length = n_fft.\n",
    "\n",
    "# Returns: bandwidth:np.ndarray [shape=(1, t)] - frequency bandwidth for each frame\n",
    "spec_bw = librosa.feature.spectral_bandwidth(y=y, sr=mp3_sr)\n",
    "spec_bw.shape, spec_bw"
   ]
  },
  {
   "cell_type": "code",
   "execution_count": 199,
   "metadata": {},
   "outputs": [
    {
     "data": {
      "text/plain": [
       "((7, 2586), array([[ 8.04118339, 10.38297466,  8.48753499, ..., 19.02623835,\n",
       "          9.25938174,  9.34614714],\n",
       "        [15.53301358,  8.55531761,  8.01460751, ...,  4.85495519,\n",
       "          4.89166447,  3.94521694],\n",
       "        [27.39611174, 17.39314195,  7.30296729, ..., 10.19008337,\n",
       "         10.00324236, 10.63376905],\n",
       "        ...,\n",
       "        [20.95746158, 13.56260854, 17.60133196, ..., 15.80464073,\n",
       "         12.37423322, 10.47144242],\n",
       "        [31.08062994, 17.99741829, 18.65663564, ..., 14.77623737,\n",
       "         11.03944072, 12.43721879],\n",
       "        [33.63363901, 41.82228868, 44.47098729, ..., 22.06003762,\n",
       "         18.08813225, 15.68319987]]))"
      ]
     },
     "execution_count": 199,
     "metadata": {},
     "output_type": "execute_result"
    }
   ],
   "source": [
    "# Compute spectral contrast. Parameters:\n",
    "# y:np.ndarray [shape=(n,)] or None - audio time series\n",
    "# sr:number > 0 [scalar] - audio sampling rate of y\n",
    "# S:np.ndarray [shape=(d, t)] or None - (optional) spectrogram magnitude\n",
    "# n_fft:int > 0 [scalar] - FFT window size\n",
    "# hop_length:int > 0 [scalar] - hop length for STFT. See librosa.core.stft for details.\n",
    "# win_length:int <= n_fft [scalar] - Each frame of audio is windowed by window(). The window will be of length win_length and then padded with zeros to match n_fft.\n",
    "# If unspecified, defaults to win_length = n_fft.\n",
    "# window:string, tuple, number, function, or np.ndarray [shape=(n_fft,)]\n",
    "# - a window specification (string, tuple, or number); see scipy.signal.get_window\n",
    "# - a window function, such as scipy.signal.hanning\n",
    "# - a vector or array of length n_fft\n",
    "# center:boolean\n",
    "# - If True, the signal y is padded so that frame t is centered at y[t * hop_length].\n",
    "# - If False, then frame t begins at y[t * hop_length]\n",
    "# pad_mode:string - If center=True, the padding mode to use at the edges of the signal. By default, STFT uses reflection padding.\n",
    "# freq:None or np.ndarray [shape=(d,)] - Center frequencies for spectrogram bins. If None, then FFT bin center frequencies are used. Otherwise, it can be a single array of d center frequencies.\n",
    "# fmin:float > 0 - Frequency cutoff for the first bin [0, fmin] Subsequent bins will cover [fmin, 2*fmin], [2*fmin, 4*fmin], etc.\n",
    "# n_bands:int > 1 - number of frequency bands\n",
    "# quantile:float in (0, 1) - quantile for determining peaks and valleys\n",
    "# linear:bool\n",
    "# If True, return the linear difference of magnitudes: peaks - valleys.\n",
    "# If False, return the logarithmic difference: log(peaks) - log(valleys).\n",
    "\n",
    "# Returns: contrast:np.ndarray [shape=(n_bands + 1, t)] - each row of spectral contrast values corresponds to a given octave-based frequency\n",
    "contrast = librosa.feature.spectral_contrast(y=y, sr=mp3_sr)\n",
    "contrast.shape, contrast"
   ]
  },
  {
   "cell_type": "code",
   "execution_count": 18,
   "metadata": {},
   "outputs": [
    {
     "data": {
      "text/plain": [
       "array([0.        , 0.00405326, 0.00223896, ..., 0.00088491, 0.00074295,\n",
       "       0.00077725])"
      ]
     },
     "execution_count": 18,
     "metadata": {},
     "output_type": "execute_result"
    }
   ],
   "source": [
    "# Compute spectral flux\n",
    "[Fs, x] = audioBasicIO.read_audio_file(\"/Users/macbookretina/blues.00042.wav\")\n",
    "F, f_names = ShortTermFeatures.feature_extraction(x, Fs, 0.050*Fs, 0.025*Fs)\n",
    "# F, f_names\n",
    "# len(F) == len(f_names)\n",
    "F[6]"
   ]
  },
  {
   "cell_type": "markdown",
   "metadata": {},
   "source": [
    "# Rhythmic Features"
   ]
  },
  {
   "cell_type": "code",
   "execution_count": 66,
   "metadata": {},
   "outputs": [
    {
     "data": {
      "text/plain": [
       "147.65625"
      ]
     },
     "execution_count": 66,
     "metadata": {},
     "output_type": "execute_result"
    }
   ],
   "source": [
    "# Compute tempo and beat. Parameters:\n",
    "# y:np.ndarray [shape=(n,)] or None - audio time series\n",
    "# sr:number > 0 [scalar] - sampling rate of y\n",
    "# onset_envelope:np.ndarray [shape=(n,)] or None - (optional) pre-computed onset strength envelope.\n",
    "# hop_length:int > 0 [scalar] - number of audio samples between successive onset_envelope values\n",
    "# start_bpm:float > 0 [scalar] - initial guess for the tempo estimator (in beats per minute)\n",
    "# tightness:float [scalar] - tightness of beat distribution around tempo\n",
    "# trim:bool [scalar] - trim leading/trailing beats with weak onsets\n",
    "# bpm:float [scalar] - (optional) If provided, use bpm as the tempo instead of estimating it from onsets.\n",
    "# prior:scipy.stats.rv_continuous [optional] - An optional prior distribution over tempo. If provided, start_bpm will be ignored.\n",
    "# units:{‘frames’, ‘samples’, ‘time’} - The units to encode detected beat events in. By default, ‘frames’ are used.\n",
    "\n",
    "# returns the estimated global tempo (beats/s) and estimated beat event locations in the specified units.\n",
    "tempo, beats = librosa.beat.beat_track(y=y, sr=mp3_sr)\n",
    "tempo"
   ]
  },
  {
   "cell_type": "code",
   "execution_count": 183,
   "metadata": {},
   "outputs": [
    {
     "data": {
      "text/plain": [
       "((71,),\n",
       " array([   3,   36,   71,  107,  143,  179,  216,  251,  288,  323,  361,\n",
       "         397,  435,  470,  506,  544,  581,  617,  655,  691,  729,  765,\n",
       "         800,  830,  862,  894,  929,  964, 1000, 1037, 1072, 1109, 1144,\n",
       "        1180, 1214, 1250, 1284, 1320, 1355, 1389, 1425, 1459, 1495, 1531,\n",
       "        1567, 1602, 1636, 1671, 1705, 1741, 1776, 1810, 1846, 1880, 1914,\n",
       "        1948, 1986, 2020, 2055, 2090, 2126, 2161, 2196, 2232, 2267, 2302,\n",
       "        2336, 2371, 2405, 2440, 2475]))"
      ]
     },
     "execution_count": 183,
     "metadata": {},
     "output_type": "execute_result"
    }
   ],
   "source": [
    "beats.shape, beats"
   ]
  },
  {
   "cell_type": "code",
   "execution_count": 184,
   "metadata": {},
   "outputs": [
    {
     "data": {
      "text/plain": [
       "((71,), array([ 0.03482993,  0.41795918,  0.82430839,  1.24226757,  1.66022676,\n",
       "         2.07818594,  2.5077551 ,  2.91410431,  3.34367347,  3.75002268,\n",
       "         4.19120181,  4.609161  ,  5.05034014,  5.45668934,  5.87464853,\n",
       "         6.31582766,  6.74539683,  7.16335601,  7.60453515,  8.02249433,\n",
       "         8.46367347,  8.88163265,  9.28798186,  9.63628118, 10.00780045,\n",
       "        10.37931973, 10.78566893, 11.19201814, 11.60997732, 12.03954649,\n",
       "        12.44589569, 12.87546485, 13.28181406, 13.69977324, 14.09451247,\n",
       "        14.51247166, 14.90721088, 15.32517007, 15.73151927, 16.1262585 ,\n",
       "        16.54421769, 16.93895692, 17.3569161 , 17.77487528, 18.19283447,\n",
       "        18.59918367, 18.9939229 , 19.40027211, 19.79501134, 20.21297052,\n",
       "        20.61931973, 21.01405896, 21.43201814, 21.82675737, 22.2214966 ,\n",
       "        22.61623583, 23.05741497, 23.4521542 , 23.8585034 , 24.26485261,\n",
       "        24.68281179, 25.089161  , 25.4955102 , 25.91346939, 26.31981859,\n",
       "        26.7261678 , 27.12090703, 27.52725624, 27.92199546, 28.32834467,\n",
       "        28.73469388]))"
      ]
     },
     "execution_count": 184,
     "metadata": {},
     "output_type": "execute_result"
    }
   ],
   "source": [
    "# Convert beats to timestamps. Parameters:\n",
    "# frames: np.ndarray [shape=(n,)] - frame index or vector of frame indices\n",
    "# sr: number > 0 [scalar] - audio sampling rate\n",
    "# hop_length : int > 0 [scalar] - number of samples between successive frames\n",
    "# n_fft : None or int > 0 [scalar] - Optional: length of the FFT window.\n",
    "# If given, time conversion will include an offset of `n_fft / 2` to counteract windowing effects when using a non-centered STFT.\n",
    "\n",
    "# Returns: times : np.ndarray [shape=(n,)] - time (in seconds) of each given frame number: `times[i] = frames[i] * hop_length / sr`\n",
    "beat_timestamps = librosa.frames_to_time(beats, sr=mp3_sr)\n",
    "beat_timestamps.shape, beat_timestamps"
   ]
  },
  {
   "cell_type": "code",
   "execution_count": 200,
   "metadata": {},
   "outputs": [
    {
     "data": {
      "text/plain": [
       "((2586,),\n",
       " array([1.        , 0.98977244, 0.97675943, ..., 0.01638729, 0.        ,\n",
       "        0.        ], dtype=float32))"
      ]
     },
     "execution_count": 200,
     "metadata": {},
     "output_type": "execute_result"
    }
   ],
   "source": [
    "# Compute predominant local pulse (PLP) estimation.\n",
    "onset_env = librosa.onset.onset_strength(y=y, sr=mp3_sr)\n",
    "pulse = librosa.beat.plp(onset_envelope=onset_env, sr=mp3_sr)\n",
    "pulse.shape, pulse"
   ]
  },
  {
   "cell_type": "code",
   "execution_count": 185,
   "metadata": {},
   "outputs": [
    {
     "data": {
      "text/plain": [
       "((384, 2586), array([[ 1.00000000e+00,  1.00000000e+00,  1.00000000e+00, ...,\n",
       "          1.00000000e+00,  1.00000000e+00,  1.00000000e+00],\n",
       "        [ 4.57723276e-01,  4.58392928e-01,  4.59072800e-01, ...,\n",
       "          9.62856608e-01,  9.62974336e-01,  9.63093458e-01],\n",
       "        [ 2.13487319e-01,  2.14414398e-01,  2.15356259e-01, ...,\n",
       "          9.37953159e-01,  9.38207345e-01,  9.38464002e-01],\n",
       "        ...,\n",
       "        [-2.07094156e-17,  4.17646944e-17,  8.36791841e-17, ...,\n",
       "          3.44379609e-12,  2.16006357e-12,  1.17101767e-12],\n",
       "        [-4.79612356e-19,  2.94727784e-17,  8.43408088e-17, ...,\n",
       "          3.84040333e-13,  2.33028881e-13,  9.48426750e-14],\n",
       "        [ 1.22055196e-18,  1.11708335e-16,  9.78448950e-17, ...,\n",
       "         -6.32146292e-16, -1.57938070e-15, -4.59024353e-16]]))"
      ]
     },
     "execution_count": 185,
     "metadata": {},
     "output_type": "execute_result"
    }
   ],
   "source": [
    "# Compute the tempogram: local autocorrelation of the onset strength envelope. Parameters:\n",
    "# y : np.ndarray [shape=(n,)] or None - Audio time series.\n",
    "# sr : number > 0 [scalar] - sampling rate of `y`\n",
    "# onset_envelope : np.ndarray [shape=(n,) or (m, n)] or None - Optional pre-computed onset strength envelope as provided by `onset.onset_strength`.\n",
    "# If multi-dimensional, tempograms are computed independently for each band (first dimension).\n",
    "# hop_length : int > 0 - number of audio samples between successive onset measurements\n",
    "# win_length : int > 0 - length of the onset autocorrelation window (in frames/onset measurements)\n",
    "# The default settings (384) corresponds to `384 * hop_length / sr ~= 8.9s`.\n",
    "# center : bool - If `True`, onset autocorrelation windows are centered. If `False`, windows are left-aligned.\n",
    "# window : string, function, number, tuple, or np.ndarray [shape=(win_length,)] - A window specification as in `core.stft`.\n",
    "# norm : {np.inf, -np.inf, 0, float > 0, None} - Normalization mode.  Set to `None` to disable normalization.\n",
    "\n",
    "# Returns: tempogram : np.ndarray [shape=(win_length, n) or (m, win_length, n)] - Localized autocorrelation of the onset strength envelope.\n",
    "# If given multi-band input (`onset_envelope.shape==(m,n)`) then `tempogram[i]` is the tempogram of `onset_envelope[i]`.\n",
    "hop_length = 512\n",
    "oenv = librosa.onset.onset_strength(y=y, sr=mp3_sr, hop_length=hop_length)\n",
    "tempogram = librosa.feature.tempogram(onset_envelope=oenv, sr=mp3_sr, hop_length=hop_length)\n",
    "# scaled_tempogram = np.mean(tempogram.T, axis=0)\n",
    "tempogram.shape, tempogram"
   ]
  },
  {
   "cell_type": "code",
   "execution_count": 186,
   "metadata": {},
   "outputs": [
    {
     "data": {
      "text/plain": [
       "((384,), array([1.        , 0.81841422, 0.71248654, 0.66720819, 0.6465774 ,\n",
       "        0.64140223, 0.64063488, 0.6417909 , 0.64056895, 0.64118979,\n",
       "        0.64204841, 0.64340545, 0.64623867, 0.65289392, 0.6611401 ,\n",
       "        0.67255562, 0.69392766, 0.71669094, 0.73067842, 0.71035846,\n",
       "        0.68301238, 0.66320777, 0.65199921, 0.64461936, 0.64274344,\n",
       "        0.64403062, 0.64279767, 0.64140545, 0.63964226, 0.63626039,\n",
       "        0.63479852, 0.63839811, 0.652379  , 0.67659723, 0.70832027,\n",
       "        0.73375964, 0.72515291, 0.69785915, 0.67773522, 0.65599069,\n",
       "        0.64552468, 0.63794335, 0.63455404, 0.63310334, 0.63482194,\n",
       "        0.63686132, 0.63722284, 0.64100112, 0.6380514 , 0.64204197,\n",
       "        0.6515414 , 0.67189653, 0.69003341, 0.70157373, 0.69666234,\n",
       "        0.68673904, 0.67133073, 0.65788617, 0.65006026, 0.64088437,\n",
       "        0.63508501, 0.63002481, 0.62899499, 0.62434256, 0.6224777 ,\n",
       "        0.62102502, 0.62666737, 0.63931911, 0.65907819, 0.68801103,\n",
       "        0.70436992, 0.69949916, 0.68700734, 0.68316727, 0.67257198,\n",
       "        0.65337678, 0.63988094, 0.63377507, 0.63044612, 0.63089127,\n",
       "        0.62936908, 0.62629693, 0.62389016, 0.62688405, 0.63528627,\n",
       "        0.65087327, 0.6581986 , 0.66852315, 0.67476778, 0.67235072,\n",
       "        0.66647922, 0.66520373, 0.65961329, 0.64807501, 0.64091029,\n",
       "        0.63655694, 0.6300368 , 0.62646913, 0.62531376, 0.6238446 ,\n",
       "        0.62053196, 0.61658492, 0.62959408, 0.64772847, 0.66829125,\n",
       "        0.67938772, 0.67906708, 0.6648526 , 0.654896  , 0.65864327,\n",
       "        0.65376068, 0.64917369, 0.64277004, 0.6338547 , 0.62735683,\n",
       "        0.62513186, 0.62113855, 0.61749574, 0.6200965 , 0.62608261,\n",
       "        0.63602835, 0.6518599 , 0.65565254, 0.65821597, 0.65504128,\n",
       "        0.64597166, 0.64065256, 0.6455615 , 0.65088743, 0.64780013,\n",
       "        0.64218375, 0.63875366, 0.62768913, 0.61997417, 0.6147443 ,\n",
       "        0.60993422, 0.61188576, 0.62108177, 0.63937935, 0.6584944 ,\n",
       "        0.66801991, 0.66415457, 0.65168573, 0.64329891, 0.6350335 ,\n",
       "        0.63342494, 0.64137569, 0.64656993, 0.64090146, 0.62881689,\n",
       "        0.62077714, 0.61507532, 0.60902582, 0.61037582, 0.61316574,\n",
       "        0.62192662, 0.63545451, 0.65098778, 0.65049134, 0.64003273,\n",
       "        0.62995517, 0.62317207, 0.62255572, 0.62413435, 0.63232103,\n",
       "        0.63949322, 0.64053184, 0.62723176, 0.61706695, 0.60733931,\n",
       "        0.60566339, 0.61408992, 0.61764105, 0.63068103, 0.64818985,\n",
       "        0.65397599, 0.64699298, 0.63488238, 0.62481258, 0.61729208,\n",
       "        0.61514182, 0.61864004, 0.62543245, 0.63332376, 0.63431748,\n",
       "        0.6294625 , 0.61884323, 0.60981609, 0.60711665, 0.61164901,\n",
       "        0.61833878, 0.62685187, 0.63879832, 0.63932035, 0.63255501,\n",
       "        0.62171151, 0.61041131, 0.60647865, 0.60753404, 0.61263845,\n",
       "        0.61934686, 0.62795833, 0.63393244, 0.62362206, 0.61018817,\n",
       "        0.60333949, 0.60439251, 0.6138579 , 0.62569413, 0.64198241,\n",
       "        0.64377591, 0.63964272, 0.6304425 , 0.61941702, 0.6069118 ,\n",
       "        0.59842388, 0.59860741, 0.60229082, 0.60687802, 0.6146757 ,\n",
       "        0.6236662 , 0.62542433, 0.61373652, 0.60704439, 0.61015254,\n",
       "        0.61260979, 0.61926381, 0.62690361, 0.6295968 , 0.62489445,\n",
       "        0.61667217, 0.6025297 , 0.59786457, 0.59287497, 0.59589393,\n",
       "        0.60173107, 0.60664652, 0.61053006, 0.61124284, 0.61132183,\n",
       "        0.60991014, 0.60465274, 0.6063681 , 0.61566931, 0.62808466,\n",
       "        0.63525776, 0.63586095, 0.62719852, 0.61133163, 0.59278004,\n",
       "        0.5876008 , 0.58722823, 0.58346536, 0.59014675, 0.59601421,\n",
       "        0.60494289, 0.60842462, 0.60753489, 0.60745068, 0.6083533 ,\n",
       "        0.60741802, 0.61312903, 0.62032175, 0.61960453, 0.61389531,\n",
       "        0.60531349, 0.60088308, 0.58799913, 0.58046664, 0.58432105,\n",
       "        0.58560348, 0.58879333, 0.59268701, 0.59699082, 0.5950827 ,\n",
       "        0.60035675, 0.60941528, 0.61029696, 0.61431553, 0.62180105,\n",
       "        0.62307647, 0.62380181, 0.61451646, 0.60244008, 0.59430794,\n",
       "        0.58897818, 0.57730278, 0.57790035, 0.57926204, 0.58170669,\n",
       "        0.58526136, 0.58817451, 0.58956028, 0.59968629, 0.61407878,\n",
       "        0.60974162, 0.61050103, 0.61421704, 0.61306344, 0.60532971,\n",
       "        0.5973653 , 0.59443205, 0.59243564, 0.57652844, 0.5777447 ,\n",
       "        0.57327356, 0.57287562, 0.5752088 , 0.5803277 , 0.58287936,\n",
       "        0.5837201 , 0.59410506, 0.60932195, 0.6151989 , 0.6162252 ,\n",
       "        0.61796547, 0.61257284, 0.6024707 , 0.5962181 , 0.60518173,\n",
       "        0.59867505, 0.57558836, 0.56585679, 0.56586787, 0.57024004,\n",
       "        0.57214382, 0.57212841, 0.57638563, 0.58198506, 0.59010714,\n",
       "        0.59992327, 0.60593335, 0.61036593, 0.60597548, 0.60000369,\n",
       "        0.59013929, 0.58076069, 0.57147092, 0.57080893, 0.57425062,\n",
       "        0.57358201, 0.57027739, 0.56490278, 0.562236  , 0.56387708,\n",
       "        0.571059  , 0.5782093 , 0.58475942, 0.59658298, 0.61079104,\n",
       "        0.62063945, 0.614866  , 0.60135341, 0.5842202 , 0.57470176,\n",
       "        0.56635709, 0.56391411, 0.56716493, 0.56995623, 0.56445062,\n",
       "        0.56351616, 0.56099424, 0.56128017, 0.56624676, 0.57542472,\n",
       "        0.58229522, 0.59342015, 0.60497193, 0.60913537, 0.59780136,\n",
       "        0.58487011, 0.57286684, 0.56388845, 0.56266553, 0.56764729,\n",
       "        0.57347324, 0.570321  , 0.55680593, 0.55640703, 0.55712164,\n",
       "        0.55662853, 0.56128102, 0.57234457, 0.58388166]))"
      ]
     },
     "execution_count": 186,
     "metadata": {},
     "output_type": "execute_result"
    }
   ],
   "source": [
    "# Compute global onset autocorrelation\n",
    "ac_global = librosa.autocorrelate(oenv, max_size=tempogram.shape[0])\n",
    "ac_global = librosa.util.normalize(ac_global)\n",
    "mean_ac_global = np.mean(ac_global)\n",
    "ac_global.shape, ac_global"
   ]
  },
  {
   "cell_type": "code",
   "execution_count": 190,
   "metadata": {},
   "outputs": [
    {
     "data": {
      "text/plain": [
       "((193, 2587),\n",
       " array([[ 3.0548050e+02+0.00000000e+00j,  3.0547522e+02+0.00000000e+00j,\n",
       "          3.0545944e+02+0.00000000e+00j, ...,\n",
       "          2.3386009e+02+0.00000000e+00j,  2.3386099e+02+0.00000000e+00j,\n",
       "          2.3386009e+02+0.00000000e+00j],\n",
       "        [-1.9258073e+02+2.53249705e-14j, -1.9256468e+02-1.30363035e+00j,\n",
       "         -1.9251648e+02-2.60638213e+00j, ...,\n",
       "         -1.2047324e+02+1.15963086e-01j, -1.2047425e+02+2.32720540e-14j,\n",
       "         -1.2047324e+02-1.15963086e-01j],\n",
       "        [ 8.1986847e+01-1.50662902e-16j,  8.1936127e+01+2.72005963e+00j,\n",
       "          8.1784126e+01+5.43602085e+00j, ...,\n",
       "          4.7884474e+00-1.19152024e-01j,  4.7903652e+00+2.67940937e-15j,\n",
       "          4.7884474e+00+1.19152024e-01j],\n",
       "        ...,\n",
       "        [-4.2847584e+01+4.59155512e-15j,  4.2822857e+01-1.36669731e+00j,\n",
       "         -4.2748791e+01+2.73144174e+00j, ...,\n",
       "          5.1401973e+00+1.93231821e-01j, -5.1442046e+00-1.45816415e-15j,\n",
       "          5.1401973e+00-1.93231821e-01j],\n",
       "        [ 4.3673531e+01+1.76447180e-15j, -4.3664707e+01+7.36173928e-01j,\n",
       "          4.3638180e+01-1.47187483e+00j, ...,\n",
       "         -1.9091860e+00-5.92181608e-02j,  1.9099224e+00+1.15285282e-15j,\n",
       "         -1.9091860e+00+5.92181608e-02j],\n",
       "        [-4.2350616e+01+0.00000000e+00j,  4.2347393e+01+0.00000000e+00j,\n",
       "         -4.2337791e+01+0.00000000e+00j, ...,\n",
       "          2.0005128e-01+0.00000000e+00j, -2.0028403e-01+0.00000000e+00j,\n",
       "          2.0005128e-01+0.00000000e+00j]], dtype=complex64))"
      ]
     },
     "execution_count": 190,
     "metadata": {},
     "output_type": "execute_result"
    }
   ],
   "source": [
    "# Compute the Fourier tempogram: the short-time Fourier transform of the onset strength envelope. Parameters:\n",
    "# y : np.ndarray [shape=(n,)] or None - Audio time series.\n",
    "# sr : number > 0 [scalar] - sampling rate of `y`\n",
    "# onset_envelope : np.ndarray [shape=(n,)] or None - Optional pre-computed onset strength envelope as provided by `onset.onset_strength`.\n",
    "# hop_length : int > 0 - number of audio samples between successive onset measurements\n",
    "# win_length : int > 0 - length of the onset window (in frames/onset measurements) The default settings (384) corresponds to `384 * hop_length / sr ~= 8.9s`.\n",
    "# center : bool - If `True`, onset windows are centered. If `False`, windows are left-aligned.\n",
    "# window : string, function, number, tuple, or np.ndarray [shape=(win_length,)] - A window specification as in `core.stft`.\n",
    "\n",
    "# Returns: tempogram : np.ndarray [shape=(win_length // 2 + 1, n)] - Complex short-time Fourier transform of the onset envelope.\n",
    "fourier_tempogram = librosa.feature.fourier_tempogram(onset_envelope=oenv, sr=mp3_sr, hop_length=hop_length)\n",
    "abs_fourier_tempogram = np.abs(fourier_tempogram)\n",
    "fourier_tempogram.shape, fourier_tempogram"
   ]
  },
  {
   "cell_type": "code",
   "execution_count": 191,
   "metadata": {},
   "outputs": [
    {
     "data": {
      "text/plain": [
       "((193, 2587),\n",
       " array([[3.0548050e+02, 3.0547522e+02, 3.0545944e+02, ..., 2.3386009e+02,\n",
       "         2.3386099e+02, 2.3386009e+02],\n",
       "        [1.9258073e+02, 1.9256909e+02, 1.9253412e+02, ..., 1.2047330e+02,\n",
       "         1.2047425e+02, 1.2047330e+02],\n",
       "        [8.1986847e+01, 8.1981262e+01, 8.1964584e+01, ..., 4.7899294e+00,\n",
       "         4.7903652e+00, 4.7899294e+00],\n",
       "        ...,\n",
       "        [4.2847584e+01, 4.2844662e+01, 4.2835964e+01, ..., 5.1438279e+00,\n",
       "         5.1442046e+00, 5.1438279e+00],\n",
       "        [4.3673531e+01, 4.3670914e+01, 4.3662994e+01, ..., 1.9101042e+00,\n",
       "         1.9099224e+00, 1.9101042e+00],\n",
       "        [4.2350616e+01, 4.2347393e+01, 4.2337791e+01, ..., 2.0005128e-01,\n",
       "         2.0028403e-01, 2.0005128e-01]], dtype=float32))"
      ]
     },
     "execution_count": 191,
     "metadata": {},
     "output_type": "execute_result"
    }
   ],
   "source": [
    "abs_fourier_tempogram.shape, abs_fourier_tempogram"
   ]
  },
  {
   "cell_type": "code",
   "execution_count": 192,
   "metadata": {},
   "outputs": [
    {
     "data": {
      "text/plain": [
       "((384, 2586), array([[ 1.12701414e+03,  1.12924063e+03,  1.13119426e+03, ...,\n",
       "          1.38927932e+02,  1.37469666e+02,  1.36006229e+02],\n",
       "        [ 5.15860606e+02,  5.17635916e+02,  5.19300517e+02, ...,\n",
       "          1.33767678e+02,  1.32379760e+02,  1.30986710e+02],\n",
       "        [ 2.40603228e+02,  2.42125449e+02,  2.43609765e+02, ...,\n",
       "          1.30307893e+02,  1.28975050e+02,  1.27636950e+02],\n",
       "        ...,\n",
       "        [-2.33398043e-14,  4.71623896e-14,  9.46574130e-14, ...,\n",
       "          4.78439470e-10,  2.96943216e-10,  1.59265698e-10],\n",
       "        [-5.40529910e-16,  3.32818587e-14,  9.54058390e-14, ...,\n",
       "          5.33539295e-11,  3.20344024e-11,  1.28991946e-11],\n",
       "        [ 1.37557932e-15,  1.26145590e-13,  1.10681584e-13, ...,\n",
       "         -8.78227773e-14, -2.17116937e-13, -6.24301714e-14]]))"
      ]
     },
     "execution_count": 192,
     "metadata": {},
     "output_type": "execute_result"
    }
   ],
   "source": [
    "# Compute the auto-correlation tempogram, unnormalized to make comparison easier\n",
    "ac_fourier_tempogram = librosa.feature.tempogram(onset_envelope=oenv, sr=sr, hop_length=hop_length, norm=None)\n",
    "mean_ac_fourier_tempogram = np.mean(ac_fourier_tempogram)\n",
    "ac_fourier_tempogram.shape, ac_fourier_tempogram"
   ]
  },
  {
   "cell_type": "markdown",
   "metadata": {},
   "source": [
    "# Wavelet"
   ]
  },
  {
   "cell_type": "code",
   "execution_count": 99,
   "metadata": {},
   "outputs": [
    {
     "data": {
      "text/plain": [
       "['haar',\n",
       " 'db',\n",
       " 'sym',\n",
       " 'coif',\n",
       " 'bior',\n",
       " 'rbio',\n",
       " 'dmey',\n",
       " 'gaus',\n",
       " 'mexh',\n",
       " 'morl',\n",
       " 'cgau',\n",
       " 'shan',\n",
       " 'fbsp',\n",
       " 'cmor']"
      ]
     },
     "execution_count": 99,
     "metadata": {},
     "output_type": "execute_result"
    }
   ],
   "source": [
    "# Buit-in wavelet faimilies (mother wavelets)\n",
    "pywt.families()"
   ]
  },
  {
   "cell_type": "code",
   "execution_count": 100,
   "metadata": {},
   "outputs": [
    {
     "data": {
      "text/plain": [
       "['bior1.1',\n",
       " 'bior1.3',\n",
       " 'bior1.5',\n",
       " 'bior2.2',\n",
       " 'bior2.4',\n",
       " 'bior2.6',\n",
       " 'bior2.8',\n",
       " 'bior3.1',\n",
       " 'bior3.3',\n",
       " 'bior3.5',\n",
       " 'bior3.7',\n",
       " 'bior3.9',\n",
       " 'bior4.4',\n",
       " 'bior5.5',\n",
       " 'bior6.8',\n",
       " 'cgau1',\n",
       " 'cgau2',\n",
       " 'cgau3',\n",
       " 'cgau4',\n",
       " 'cgau5',\n",
       " 'cgau6',\n",
       " 'cgau7',\n",
       " 'cgau8',\n",
       " 'cmor',\n",
       " 'coif1',\n",
       " 'coif2',\n",
       " 'coif3',\n",
       " 'coif4',\n",
       " 'coif5',\n",
       " 'coif6',\n",
       " 'coif7',\n",
       " 'coif8',\n",
       " 'coif9',\n",
       " 'coif10',\n",
       " 'coif11',\n",
       " 'coif12',\n",
       " 'coif13',\n",
       " 'coif14',\n",
       " 'coif15',\n",
       " 'coif16',\n",
       " 'coif17',\n",
       " 'db1',\n",
       " 'db2',\n",
       " 'db3',\n",
       " 'db4',\n",
       " 'db5',\n",
       " 'db6',\n",
       " 'db7',\n",
       " 'db8',\n",
       " 'db9',\n",
       " 'db10',\n",
       " 'db11',\n",
       " 'db12',\n",
       " 'db13',\n",
       " 'db14',\n",
       " 'db15',\n",
       " 'db16',\n",
       " 'db17',\n",
       " 'db18',\n",
       " 'db19',\n",
       " 'db20',\n",
       " 'db21',\n",
       " 'db22',\n",
       " 'db23',\n",
       " 'db24',\n",
       " 'db25',\n",
       " 'db26',\n",
       " 'db27',\n",
       " 'db28',\n",
       " 'db29',\n",
       " 'db30',\n",
       " 'db31',\n",
       " 'db32',\n",
       " 'db33',\n",
       " 'db34',\n",
       " 'db35',\n",
       " 'db36',\n",
       " 'db37',\n",
       " 'db38',\n",
       " 'dmey',\n",
       " 'fbsp',\n",
       " 'gaus1',\n",
       " 'gaus2',\n",
       " 'gaus3',\n",
       " 'gaus4',\n",
       " 'gaus5',\n",
       " 'gaus6',\n",
       " 'gaus7',\n",
       " 'gaus8',\n",
       " 'haar',\n",
       " 'mexh',\n",
       " 'morl',\n",
       " 'rbio1.1',\n",
       " 'rbio1.3',\n",
       " 'rbio1.5',\n",
       " 'rbio2.2',\n",
       " 'rbio2.4',\n",
       " 'rbio2.6',\n",
       " 'rbio2.8',\n",
       " 'rbio3.1',\n",
       " 'rbio3.3',\n",
       " 'rbio3.5',\n",
       " 'rbio3.7',\n",
       " 'rbio3.9',\n",
       " 'rbio4.4',\n",
       " 'rbio5.5',\n",
       " 'rbio6.8',\n",
       " 'shan',\n",
       " 'sym2',\n",
       " 'sym3',\n",
       " 'sym4',\n",
       " 'sym5',\n",
       " 'sym6',\n",
       " 'sym7',\n",
       " 'sym8',\n",
       " 'sym9',\n",
       " 'sym10',\n",
       " 'sym11',\n",
       " 'sym12',\n",
       " 'sym13',\n",
       " 'sym14',\n",
       " 'sym15',\n",
       " 'sym16',\n",
       " 'sym17',\n",
       " 'sym18',\n",
       " 'sym19',\n",
       " 'sym20']"
      ]
     },
     "execution_count": 100,
     "metadata": {},
     "output_type": "execute_result"
    }
   ],
   "source": [
    "# Builtin specific wavelet\n",
    "pywt.wavelist()"
   ]
  },
  {
   "cell_type": "code",
   "execution_count": 101,
   "metadata": {},
   "outputs": [
    {
     "data": {
      "text/plain": [
       "['db1',\n",
       " 'db2',\n",
       " 'db3',\n",
       " 'db4',\n",
       " 'db5',\n",
       " 'db6',\n",
       " 'db7',\n",
       " 'db8',\n",
       " 'db9',\n",
       " 'db10',\n",
       " 'db11',\n",
       " 'db12',\n",
       " 'db13',\n",
       " 'db14',\n",
       " 'db15',\n",
       " 'db16',\n",
       " 'db17',\n",
       " 'db18',\n",
       " 'db19',\n",
       " 'db20',\n",
       " 'db21',\n",
       " 'db22',\n",
       " 'db23',\n",
       " 'db24',\n",
       " 'db25',\n",
       " 'db26',\n",
       " 'db27',\n",
       " 'db28',\n",
       " 'db29',\n",
       " 'db30',\n",
       " 'db31',\n",
       " 'db32',\n",
       " 'db33',\n",
       " 'db34',\n",
       " 'db35',\n",
       " 'db36',\n",
       " 'db37',\n",
       " 'db38']"
      ]
     },
     "execution_count": 101,
     "metadata": {},
     "output_type": "execute_result"
    }
   ],
   "source": [
    "# Builtin Daubechies wavelet\n",
    "pywt.wavelist('db')"
   ]
  },
  {
   "cell_type": "code",
   "execution_count": 112,
   "metadata": {},
   "outputs": [
    {
     "data": {
      "text/plain": [
       "(1323648,)"
      ]
     },
     "execution_count": 112,
     "metadata": {},
     "output_type": "execute_result"
    }
   ],
   "source": []
  },
  {
   "cell_type": "code",
   "execution_count": 193,
   "metadata": {},
   "outputs": [
    {
     "data": {
      "text/plain": [
       "((661827,),\n",
       " array([0., 0., 0., ..., 0., 0., 0.], dtype=float32),\n",
       " (661827,),\n",
       " array([0., 0., 0., ..., 0., 0., 0.], dtype=float32))"
      ]
     },
     "execution_count": 193,
     "metadata": {},
     "output_type": "execute_result"
    }
   ],
   "source": [
    "# Single level Discrete Wavelet Transform. Parameters:\n",
    "# data : array_like - Input signal\n",
    "# wavelet : Wavelet object or name - Wavelet to use\n",
    "# mode : str, optional - Signal extension mode, see Modes.\n",
    "# axis: int, optional - Axis over which to compute the DWT. If not given, the last axis is used.\n",
    "\n",
    "# Returns: (cA, cD) : tuple - Approximation and detail coefficients.\n",
    "(cA, cD) = pywt.dwt(y, 'db4')\n",
    "cA.shape, cA, cD.shape, cD"
   ]
  },
  {
   "cell_type": "code",
   "execution_count": 116,
   "metadata": {},
   "outputs": [
    {
     "data": {
      "text/plain": [
       "17"
      ]
     },
     "execution_count": 116,
     "metadata": {},
     "output_type": "execute_result"
    }
   ],
   "source": [
    "# Compute the maximum useful level of decomposition. Parameters:\n",
    "# data_len : int - Input data length.\n",
    "# filter_len : int, str or Wavelet - The wavelet filter length. Alternatively, the name of a discrete wavelet or a Wavelet object can be specified.\n",
    "\n",
    "# Returns: max_level : int - Maximum level.\n",
    "pywt.dwt_max_level(len(y), 'db4')"
   ]
  },
  {
   "cell_type": "code",
   "execution_count": 194,
   "metadata": {},
   "outputs": [
    {
     "data": {
      "text/plain": [
       "17"
      ]
     },
     "execution_count": 194,
     "metadata": {},
     "output_type": "execute_result"
    }
   ],
   "source": [
    "# Compute the maximum level of decomposition for n-dimensional data.\n",
    "# This returns the maximum number of levels of decomposition suitable for use with wavedec, wavedec2 or wavedecn.\n",
    "# Parameters:\n",
    "# shape : sequence of ints - Input data shape.\n",
    "# wavelet : Wavelet object or name string, or tuple of wavelets - Wavelet to use. This can also be a tuple containing a wavelet to apply along each axis in axes.\n",
    "# axes : sequence of ints, optional - Axes over which to compute the DWT. Axes may not be repeated.\n",
    "\n",
    "# Returns: - level : int - Maximum level.\n",
    "level = pywt.dwtn_max_level(y.shape, 'db4')\n",
    "level"
   ]
  },
  {
   "cell_type": "code",
   "execution_count": 195,
   "metadata": {},
   "outputs": [
    {
     "data": {
      "text/plain": [
       "((330917,),\n",
       " array([0., 0., 0., ..., 0., 0., 0.], dtype=float32),\n",
       " (330917,),\n",
       " array([0., 0., 0., ..., 0., 0., 0.], dtype=float32),\n",
       " (661827,),\n",
       " array([0., 0., 0., ..., 0., 0., 0.], dtype=float32))"
      ]
     },
     "execution_count": 195,
     "metadata": {},
     "output_type": "execute_result"
    }
   ],
   "source": [
    "# Multilevel 1D Discrete Wavelet Transform of data. Parameters:\n",
    "# data: array_like - Input data\n",
    "# wavelet : Wavelet object or name string - Wavelet to use\n",
    "# mode : str, optional - Signal extension mode, see Modes.\n",
    "# level : int, optional - Decomposition level (must be >= 0). If level is None (default) then it will be calculated\n",
    "# using the dwt_max_level function.\n",
    "# axis: int, optional - Axis over which to compute the DWT. If not given, the last axis is used.\n",
    "\n",
    "# Returns:[cA_n, cD_n, cD_n-1, …, cD2, cD1] : list\n",
    "# Ordered list of coefficients arrays where n denotes the level of decomposition. \n",
    "# The first element (cA_n) of the result is approximation coefficients array and the following elements\n",
    "# (cD_n - cD_1) are details coefficients arrays.\n",
    "db_coeffs = pywt.wavedec(y, 'db4', level=2)\n",
    "cA2, cD2, cD1 = db_coeffs\n",
    "cA2.shape, cA2, cD2.shape, cD2, cD1.shape, cD1"
   ]
  },
  {
   "cell_type": "code",
   "execution_count": 157,
   "metadata": {},
   "outputs": [
    {
     "data": {
      "text/plain": [
       "0.06052318"
      ]
     },
     "execution_count": 157,
     "metadata": {},
     "output_type": "execute_result"
    }
   ],
   "source": [
    "np.var(cA2)"
   ]
  }
 ],
 "metadata": {
  "kernelspec": {
   "display_name": "Python 3",
   "language": "python",
   "name": "python3"
  },
  "language_info": {
   "codemirror_mode": {
    "name": "ipython",
    "version": 3
   },
   "file_extension": ".py",
   "mimetype": "text/x-python",
   "name": "python",
   "nbconvert_exporter": "python",
   "pygments_lexer": "ipython3",
   "version": "3.7.0"
  }
 },
 "nbformat": 4,
 "nbformat_minor": 2
}